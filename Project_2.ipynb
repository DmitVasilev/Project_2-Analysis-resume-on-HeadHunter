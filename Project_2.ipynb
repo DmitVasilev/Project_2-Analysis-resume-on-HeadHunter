{
 "cells": [
  {
   "attachments": {},
   "cell_type": "markdown",
   "metadata": {},
   "source": [
    "<center> <img src = https://raw.githubusercontent.com/AndreyRysistov/DatasetsForPandas/main/hh%20label.jpg alt=\"drawing\" style=\"width:400px;\">"
   ]
  },
  {
   "attachments": {},
   "cell_type": "markdown",
   "metadata": {},
   "source": [
    "# <center> Проект: Анализ вакансий из HeadHunter\n",
    "   "
   ]
  },
  {
   "cell_type": "code",
   "execution_count": 1,
   "metadata": {},
   "outputs": [],
   "source": [
    "import pandas as pd\n",
    "\n",
    "# Вместо psycopg2 используем библиотеку sqlalchemy чтобы не воевать с предупреждениями.\n",
    "from sqlalchemy import create_engine\n",
    "import requests\n",
    "from bs4 import BeautifulSoup\n",
    "import plotly.express as px\n",
    "import plotly.graph_objects as go\n",
    "import re\n",
    "import numpy as np\n",
    "\n",
    "# Импортируем класс con, с параметрами подключения.\n",
    "from servise.connect import con"
   ]
  },
  {
   "cell_type": "code",
   "execution_count": 2,
   "metadata": {},
   "outputs": [],
   "source": [
    "# Создаем экземпляр класса con для вызова функций, возращаюших параметры подключения из юнита 1.\n",
    "c = con \n",
    "\n",
    "# Создаем подключение. Для воспроизведения подключения нужно написать класс с одноименными функциями, \n",
    "# возращающими требуемые параметры подключения, либо заменить значения в фигурных скобках на параметры подключения из юнита 1.\n",
    "connection = create_engine(f'postgresql+psycopg2://{c.get_user()}:{c.get_pas()}@{c.get_host()}:{c.get_port()}/{c.get_name()}')"
   ]
  },
  {
   "cell_type": "markdown",
   "metadata": {},
   "source": [
    "# Юнит 3. Предварительный анализ данных"
   ]
  },
  {
   "cell_type": "markdown",
   "metadata": {},
   "source": [
    "1. Напишите запрос, который посчитает количество вакансий в нашей базе (вакансии находятся в таблице vacancies). "
   ]
  },
  {
   "cell_type": "code",
   "execution_count": 3,
   "metadata": {},
   "outputs": [],
   "source": [
    "query_3_1 = f'''SELECT \n",
    "                    COUNT(id)\n",
    "                FROM public.vacancies\n",
    "            '''"
   ]
  },
  {
   "cell_type": "code",
   "execution_count": 4,
   "metadata": {},
   "outputs": [
    {
     "name": "stdout",
     "output_type": "stream",
     "text": [
      "Количество вакансий в базе данных: 49197\n"
     ]
    }
   ],
   "source": [
    "count_vacancies = pd.read_sql_query(query_3_1, connection)\n",
    "print(f'Количество вакансий в базе данных: {count_vacancies.values[0][0]}')"
   ]
  },
  {
   "cell_type": "markdown",
   "metadata": {},
   "source": [
    "2. Напишите запрос, который посчитает количество работодателей (таблица employers). "
   ]
  },
  {
   "cell_type": "code",
   "execution_count": 5,
   "metadata": {},
   "outputs": [],
   "source": [
    "query_3_2 = f'''SELECT \n",
    "                    COUNT(id)\n",
    "                FROM public.employers\n",
    "            '''"
   ]
  },
  {
   "cell_type": "code",
   "execution_count": 6,
   "metadata": {},
   "outputs": [
    {
     "name": "stdout",
     "output_type": "stream",
     "text": [
      "Количество работодателей в базе данных: 23501\n"
     ]
    }
   ],
   "source": [
    "count_employers = pd.read_sql_query(query_3_2, connection)\n",
    "print(f'Количество работодателей в базе данных: {count_employers.values[0][0]}')"
   ]
  },
  {
   "cell_type": "markdown",
   "metadata": {},
   "source": [
    "3. Посчитате с помощью запроса количество регионов (таблица areas)."
   ]
  },
  {
   "cell_type": "code",
   "execution_count": 7,
   "metadata": {},
   "outputs": [],
   "source": [
    "query_3_3 = f'''SELECT \n",
    "                    COUNT(id)\n",
    "                FROM public.areas\n",
    "            '''"
   ]
  },
  {
   "cell_type": "code",
   "execution_count": 8,
   "metadata": {},
   "outputs": [
    {
     "name": "stdout",
     "output_type": "stream",
     "text": [
      "Количество регионов в базе данных: 1362\n"
     ]
    }
   ],
   "source": [
    "count_areas = pd.read_sql_query(query_3_3, connection)\n",
    "print(f'Количество регионов в базе данных: {count_areas.values[0][0]}')"
   ]
  },
  {
   "cell_type": "markdown",
   "metadata": {},
   "source": [
    "4. Посчитате с помощью запроса количество сфер деятельности в базе (таблица industries)."
   ]
  },
  {
   "cell_type": "code",
   "execution_count": 9,
   "metadata": {},
   "outputs": [],
   "source": [
    "query_3_4 = f'''SELECT\n",
    "                    COUNT(id)\n",
    "                FROM public.industries\n",
    "            '''"
   ]
  },
  {
   "cell_type": "code",
   "execution_count": 10,
   "metadata": {},
   "outputs": [
    {
     "name": "stdout",
     "output_type": "stream",
     "text": [
      "Количество сфер деятельности в базе данных: 294\n"
     ]
    }
   ],
   "source": [
    "count_industries = pd.read_sql_query(query_3_4, connection)\n",
    "print(f'Количество сфер деятельности в базе данных: {count_industries.values[0][0]}')"
   ]
  },
  {
   "cell_type": "markdown",
   "metadata": {},
   "source": [
    "### Выводы по предварительному анализу данных \n",
    "***\n",
    "* База данных содержит сведенья о 49197 вакансиях от 23501 работодателя из 1362 регионов в 294 различных сферах деятельности.\n",
    "* По состоянию на 1 октября 2021 года в России насчитывается 1118 городов, следовательно можно предпложить что в базе данных имеются вакансии за пределами России.\n",
    "* В среднем на каждого работодателя приходится 2,09 вакансии. Скорее всего в базе представлены как крупные фирмы, предлагающие несколько вакансий, так и мелкие компании с одним предложением.\n",
    "* Количество различных сфер деятельности значительно меньше количества работодателей. В среднем на каждую сферу деятельности приходится около 80 работодателей. Вероятнее всего распределение работодателей по сферам деятельности неравномерное - существуют как популярные сферы деятельности так и достаточно редкие."
   ]
  },
  {
   "cell_type": "markdown",
   "metadata": {},
   "source": [
    "# Юнит 4. Детальный анализ вакансий"
   ]
  },
  {
   "cell_type": "markdown",
   "metadata": {},
   "source": [
    "1. Напишите запрос, который позволит узнать, сколько (cnt) вакансий в каждом регионе (area).\n",
    "Отсортируйте по количеству вакансий в порядке убывания."
   ]
  },
  {
   "cell_type": "code",
   "execution_count": 11,
   "metadata": {},
   "outputs": [],
   "source": [
    "query_4_1 = f'''SELECT \n",
    "                    a.name AS area,\n",
    "                    COUNT(v.id) AS cnt\n",
    "                FROM public.vacancies AS v\n",
    "                JOIN public.areas AS a \n",
    "                    ON v.area_id = a.id\n",
    "                GROUP BY a.name\n",
    "                ORDER BY cnt DESC\n",
    "            '''"
   ]
  },
  {
   "cell_type": "code",
   "execution_count": 12,
   "metadata": {},
   "outputs": [
    {
     "name": "stdout",
     "output_type": "stream",
     "text": [
      "Список регионов лидеров по количеству вакансий: ['Москва', 'Санкт-Петербург', 'Минск', 'Новосибирск', 'Алматы']\n"
     ]
    },
    {
     "data": {
      "text/html": [
       "<div>\n",
       "<style scoped>\n",
       "    .dataframe tbody tr th:only-of-type {\n",
       "        vertical-align: middle;\n",
       "    }\n",
       "\n",
       "    .dataframe tbody tr th {\n",
       "        vertical-align: top;\n",
       "    }\n",
       "\n",
       "    .dataframe thead th {\n",
       "        text-align: right;\n",
       "    }\n",
       "</style>\n",
       "<table border=\"1\" class=\"dataframe\">\n",
       "  <thead>\n",
       "    <tr style=\"text-align: right;\">\n",
       "      <th></th>\n",
       "      <th>area</th>\n",
       "      <th>cnt</th>\n",
       "    </tr>\n",
       "  </thead>\n",
       "  <tbody>\n",
       "    <tr>\n",
       "      <th>0</th>\n",
       "      <td>Москва</td>\n",
       "      <td>5333</td>\n",
       "    </tr>\n",
       "    <tr>\n",
       "      <th>1</th>\n",
       "      <td>Санкт-Петербург</td>\n",
       "      <td>2851</td>\n",
       "    </tr>\n",
       "    <tr>\n",
       "      <th>2</th>\n",
       "      <td>Минск</td>\n",
       "      <td>2112</td>\n",
       "    </tr>\n",
       "    <tr>\n",
       "      <th>3</th>\n",
       "      <td>Новосибирск</td>\n",
       "      <td>2006</td>\n",
       "    </tr>\n",
       "    <tr>\n",
       "      <th>4</th>\n",
       "      <td>Алматы</td>\n",
       "      <td>1892</td>\n",
       "    </tr>\n",
       "  </tbody>\n",
       "</table>\n",
       "</div>"
      ],
      "text/plain": [
       "              area   cnt\n",
       "0           Москва  5333\n",
       "1  Санкт-Петербург  2851\n",
       "2            Минск  2112\n",
       "3      Новосибирск  2006\n",
       "4           Алматы  1892"
      ]
     },
     "metadata": {},
     "output_type": "display_data"
    }
   ],
   "source": [
    "cnt_vac_in_area = pd.read_sql_query(query_4_1, connection)\n",
    "print(f\"Список регионов лидеров по количеству вакансий: {list(cnt_vac_in_area.loc[0:4,'area'])}\")\n",
    "\n",
    "# Выведем первые 5 строк датафрейма для оценки количества вакансий в регионах лидерах.\n",
    "display(cnt_vac_in_area.head(5))"
   ]
  },
  {
   "cell_type": "markdown",
   "metadata": {},
   "source": [
    "2. Напишите запрос, чтобы определить у какого количества вакансий заполнено хотя бы одно из двух полей с зарплатой."
   ]
  },
  {
   "cell_type": "code",
   "execution_count": 13,
   "metadata": {},
   "outputs": [],
   "source": [
    "query_4_2 = f'''SELECT \n",
    "                    COUNT(id)\n",
    "                FROM public.vacancies\n",
    "                WHERE salary_from IS NOT NULL\n",
    "                    OR salary_to IS NOT NULL                \n",
    "            '''"
   ]
  },
  {
   "cell_type": "code",
   "execution_count": 36,
   "metadata": {},
   "outputs": [
    {
     "name": "stdout",
     "output_type": "stream",
     "text": [
      "Количество вакансий с хотя бы одним заполненым полем из двух полей с зарпалтой: 24073\n"
     ]
    }
   ],
   "source": [
    "count_vac_have_salary = pd.read_sql_query(query_4_2, connection)\n",
    "print(f'Количество вакансий с хотя бы одним заполненым полем из двух полей '\n",
    "      f'с зарпалтой: {count_vac_have_salary.values[0][0]}')"
   ]
  },
  {
   "cell_type": "markdown",
   "metadata": {},
   "source": [
    "3. Найдите средние значения для нижней и верхней границы зарплатной вилки. Округлите значения до целого."
   ]
  },
  {
   "cell_type": "code",
   "execution_count": 17,
   "metadata": {},
   "outputs": [],
   "source": [
    "query_4_3 = f'''SELECT \n",
    "                    ROUND(AVG(salary_from), 0) AS from,\n",
    "                    ROUND(AVG(salary_to), 0) AS to\n",
    "                FROM public.vacancies\n",
    "            '''"
   ]
  },
  {
   "cell_type": "code",
   "execution_count": 20,
   "metadata": {},
   "outputs": [
    {
     "name": "stdout",
     "output_type": "stream",
     "text": [
      "Среднее значение зарплаты составляет:\n",
      " - для нижней границы - 71065.0 рублей\n",
      " - для верхней границы - 110537.0 рублей\n"
     ]
    }
   ],
   "source": [
    "avg_salary = pd.read_sql_query(query_4_3, connection)\n",
    "print(f'Среднее значение зарплаты составляет:'\n",
    "      f'\\n - для нижней границы - {avg_salary.iloc[0][0]} рублей'\n",
    "      f'\\n - для верхней границы - {avg_salary.iloc[0][1]} рублей')\n"
   ]
  },
  {
   "cell_type": "markdown",
   "metadata": {},
   "source": [
    "4. Напишите запрос, который выведет количество вакансий для каждого сочетания типа рабочего графика (schedule) и типа трудоустройства (employment), используемого в вакансиях. Результат отсортируйте по убыванию количества.\n"
   ]
  },
  {
   "cell_type": "code",
   "execution_count": 21,
   "metadata": {},
   "outputs": [],
   "source": [
    "query_4_4 = f'''SELECT \n",
    "                    schedule,\n",
    "                    employment,\n",
    "                    COUNT(id) AS count_vac\n",
    "                FROM public.vacancies\n",
    "                GROUP BY schedule, employment\n",
    "                ORDER BY 3 DESC\n",
    "            '''"
   ]
  },
  {
   "cell_type": "code",
   "execution_count": 22,
   "metadata": {},
   "outputs": [
    {
     "name": "stdout",
     "output_type": "stream",
     "text": [
      "Второе по популярности сочетание типа рабочего графика и типа трудоустройства: ['Удаленная работа' 'Полная занятость']\n"
     ]
    }
   ],
   "source": [
    "sched_empl_count_vac = pd.read_sql_query(query_4_4, connection)\n",
    "print(f'Второе по популярности сочетание типа рабочего графика и '\n",
    "      f'типа трудоустройства: {sched_empl_count_vac.values[1][0:2]}')"
   ]
  },
  {
   "cell_type": "markdown",
   "metadata": {},
   "source": [
    "5. Напишите запрос, выводящий значения поля Требуемый опыт работы (experience) в порядке возрастания количества вакансий, в которых указан данный вариант опыта. "
   ]
  },
  {
   "cell_type": "code",
   "execution_count": 23,
   "metadata": {},
   "outputs": [],
   "source": [
    "query_4_5 = f'''SELECT \n",
    "                    experience,\n",
    "                    COUNT(id) AS count_vac\n",
    "                FROM public.vacancies\n",
    "                GROUP BY experience\n",
    "                ORDER BY count_vac\n",
    "            '''"
   ]
  },
  {
   "cell_type": "code",
   "execution_count": 38,
   "metadata": {},
   "outputs": [
    {
     "name": "stdout",
     "output_type": "stream",
     "text": [
      "Требуемый опыт работы в порядке возрастания по количеству вакансий, в которых указан данный вариант опыта: \n",
      "['Более 6 лет', 'Нет опыта', 'От 3 до 6 лет', 'От 1 года до 3 лет']\n"
     ]
    }
   ],
   "source": [
    "\n",
    "exp_count_vac = pd.read_sql_query(query_4_5, connection)\n",
    "print(f'Требуемый опыт работы в порядке возрастания по количеству вакансий, '\n",
    "      f'в которых указан данный вариант опыта: \\n{list(exp_count_vac.loc[:, \"experience\"])}')"
   ]
  },
  {
   "attachments": {},
   "cell_type": "markdown",
   "metadata": {},
   "source": [
    "### Выводы по детальному анализу вакансий\n",
    "***\n",
    "* Около трети вакансий (28,85%) предлагается в пяти регионах: Москва, Санкт-Петербург, Минск, Новосибирск, Алматы. Причем на Москву приходится 10,84% всех представленных вакансий. Список регионов подтверждает предыдущий вывод о том, что база охватывает не только регионы России. Отношение количества предложенных в регионах вакансий к населению этих регионов показывает иное распределение регионов: Новосибирск, Минск, Алматы, Санкт-Петербург, Москва. Можно сделать вывод, что база содержит достаточно подробную выборку вакансий по различным регионам, а не центрированна на каком-то одном. \n",
    "* Менее половины (48,93%) работодателей указывают предлагаемую зарплату. Вероятно это связано с желанием работодателей оценить уровень кандидата при собеседовании и исходя из этого предлагать зарпалту. Можно предположить, что значительная часть вакансий представленных в базе относится к высокотехнологичным или требующим специальных навыков видам деятельности.\n",
    "* Среднее значение зарплаты составляет: для нижней границы - 71065.0 рублей, для верхней границы - 110537.0 рублей. Учитывая, что более половины работодателей не указывают зарплату, а также достаточно большое количество регионов и возможных видов деятельности данные сведенья мало информативны. Уровень зарплаты стоит рассматривать для вакансий имеющих схожий набор ключевых навыков.\n",
    "* Второе по популярности сочетание типа рабочего графика и типа трудоустройства: ['Удаленная работа' 'Полная занятость']. Такое сочетание встречается у 15,86% вакансий. Можно предположить, что в базе данных представлено достаточно много вакансий имеющих отношение к IT, хотя это могут быть и вакансии связанные с обзвонами или ответами на звонки.\n",
    "* Наиболее популярное требование к опыту работы среди представленных вакансий от 1 года до 3 лет. Более половины работодателей (53,16%) ищут соискателей имеющих начальный опыт работы."
   ]
  },
  {
   "cell_type": "markdown",
   "metadata": {},
   "source": [
    "# Юнит 5. Анализ работодателей"
   ]
  },
  {
   "cell_type": "markdown",
   "metadata": {},
   "source": [
    "1. Напишите запрос, который позволит узнать, какие работодатели находятся на первом и пятом месте по количеству вакансий."
   ]
  },
  {
   "cell_type": "code",
   "execution_count": 25,
   "metadata": {},
   "outputs": [],
   "source": [
    "query_5_1 = f'''(SELECT\n",
    "                    e.name\n",
    "                FROM public.vacancies AS v\n",
    "                JOIN public.employers AS e \n",
    "                    ON v.employer_id = e.id\n",
    "                GROUP BY e.name\n",
    "                ORDER BY COUNT(v.id) DESC\n",
    "                LIMIT 1)\n",
    "                \n",
    "                UNION ALL\n",
    "                \n",
    "                (SELECT\n",
    "                    e.name\n",
    "                FROM public.vacancies AS v\n",
    "                JOIN public.employers AS e \n",
    "                    ON v.employer_id = e.id\n",
    "                GROUP BY e.name\n",
    "                ORDER BY COUNT(v.id) DESC\n",
    "                OFFSET 4\n",
    "                LIMIT 1)\n",
    "            '''"
   ]
  },
  {
   "cell_type": "code",
   "execution_count": 39,
   "metadata": {},
   "outputs": [
    {
     "name": "stdout",
     "output_type": "stream",
     "text": [
      "На первом и пятом местах по количеству вакансий находятся следующие работодатели: ['Яндекс' 'Газпром нефть']\n"
     ]
    }
   ],
   "source": [
    "pop_empl_1_5_place = pd.read_sql_query(query_5_1, connection)\n",
    "print(f'На первом и пятом местах по количеству вакансий находятся '\n",
    "      f'следующие работодатели: {pop_empl_1_5_place[\"name\"].values[:]}')"
   ]
  },
  {
   "cell_type": "markdown",
   "metadata": {},
   "source": [
    "2. Напишите запрос, который для каждого региона выведет количество работодателей и вакансий в нём.\n",
    "Среди регионов, в которых нет вакансий, найдите тот, в котором наибольшее количество работодателей.\n"
   ]
  },
  {
   "cell_type": "code",
   "execution_count": 27,
   "metadata": {},
   "outputs": [],
   "source": [
    "query_5_2 = f'''SELECT\n",
    "                    a.name,\n",
    "                    COUNT(DISTINCT e.id) AS cnt_employers,\n",
    "                    COUNT(DISTINCT v.id) AS cnt_vacancies\n",
    "                FROM public.areas AS a\n",
    "                LEFT JOIN public.employers AS e\n",
    "                    ON a.id = e.area\n",
    "                LEFT JOIN public.vacancies AS v\n",
    "                    ON a.id = v.area_id\n",
    "                WHERE v.id IS NULL\n",
    "                GROUP BY a.name\n",
    "                ORDER BY cnt_employers DESC\n",
    "                LIMIT 1\n",
    "            '''"
   ]
  },
  {
   "cell_type": "code",
   "execution_count": 40,
   "metadata": {},
   "outputs": [
    {
     "name": "stdout",
     "output_type": "stream",
     "text": [
      "Наибольшее количество работодателей в регионах, где отсутствуют вакансии, зарегестрированно в регионе: Россия\n"
     ]
    }
   ],
   "source": [
    "max_empl_null_vac = pd.read_sql_query(query_5_2, connection)\n",
    "print(f'Наибольшее количество работодателей в регионах, где отсутствуют ' \n",
    "      f'вакансии, зарегестрированно в регионе: {max_empl_null_vac.iloc[0, 0]}')"
   ]
  },
  {
   "cell_type": "markdown",
   "metadata": {},
   "source": [
    "3. Для каждого работодателя посчитайте количество регионов, в которых он публикует свои вакансии. Отсортируйте результат по убыванию количества.\n"
   ]
  },
  {
   "cell_type": "code",
   "execution_count": 29,
   "metadata": {},
   "outputs": [],
   "source": [
    "query_5_3 = f'''SELECT \n",
    "                    e.name AS employer_name,\n",
    "                    COUNT(DISTINCT v.area_id) AS count_area_vac\n",
    "                FROM public.vacancies AS v\n",
    "                JOIN public.employers AS e \n",
    "                    ON v.employer_id = e.id\n",
    "                GROUP BY e.name\n",
    "                ORDER BY count_area_vac DESC\n",
    "            '''"
   ]
  },
  {
   "cell_type": "code",
   "execution_count": 30,
   "metadata": {},
   "outputs": [
    {
     "data": {
      "text/html": [
       "<div>\n",
       "<style scoped>\n",
       "    .dataframe tbody tr th:only-of-type {\n",
       "        vertical-align: middle;\n",
       "    }\n",
       "\n",
       "    .dataframe tbody tr th {\n",
       "        vertical-align: top;\n",
       "    }\n",
       "\n",
       "    .dataframe thead th {\n",
       "        text-align: right;\n",
       "    }\n",
       "</style>\n",
       "<table border=\"1\" class=\"dataframe\">\n",
       "  <thead>\n",
       "    <tr style=\"text-align: right;\">\n",
       "      <th></th>\n",
       "      <th>employer_name</th>\n",
       "      <th>count_area_vac</th>\n",
       "    </tr>\n",
       "  </thead>\n",
       "  <tbody>\n",
       "    <tr>\n",
       "      <th>0</th>\n",
       "      <td>Яндекс</td>\n",
       "      <td>181</td>\n",
       "    </tr>\n",
       "    <tr>\n",
       "      <th>1</th>\n",
       "      <td>Ростелеком</td>\n",
       "      <td>152</td>\n",
       "    </tr>\n",
       "    <tr>\n",
       "      <th>2</th>\n",
       "      <td>Спецремонт</td>\n",
       "      <td>116</td>\n",
       "    </tr>\n",
       "    <tr>\n",
       "      <th>3</th>\n",
       "      <td>Поляков Денис Иванович</td>\n",
       "      <td>88</td>\n",
       "    </tr>\n",
       "    <tr>\n",
       "      <th>4</th>\n",
       "      <td>ООО ЕФИН</td>\n",
       "      <td>71</td>\n",
       "    </tr>\n",
       "  </tbody>\n",
       "</table>\n",
       "</div>"
      ],
      "text/plain": [
       "            employer_name  count_area_vac\n",
       "0                  Яндекс             181\n",
       "1              Ростелеком             152\n",
       "2              Спецремонт             116\n",
       "3  Поляков Денис Иванович              88\n",
       "4               ООО ЕФИН               71"
      ]
     },
     "metadata": {},
     "output_type": "display_data"
    }
   ],
   "source": [
    "cnt_areas_vac = pd.read_sql_query(query_5_3, connection)\n",
    "# Выведем первые 5 строк для оценки данных \n",
    "display(cnt_areas_vac.head(5))"
   ]
  },
  {
   "cell_type": "markdown",
   "metadata": {},
   "source": [
    "4. Напишите запрос для подсчёта количества работодателей, у которых не указана сфера деятельности. "
   ]
  },
  {
   "cell_type": "code",
   "execution_count": 31,
   "metadata": {},
   "outputs": [],
   "source": [
    "query_5_4 = f'''SELECT\n",
    "                    COUNT(e.id)\n",
    "                FROM public.employers AS e\n",
    "                LEFT JOIN public.employers_industries AS ei\n",
    "                    ON e.id = ei.employer_id\n",
    "                WHERE industry_id IS NULL\n",
    "            '''"
   ]
  },
  {
   "cell_type": "code",
   "execution_count": 32,
   "metadata": {},
   "outputs": [
    {
     "name": "stdout",
     "output_type": "stream",
     "text": [
      "Количество работодателей с неуказанной сферой деятельности: 8419\n"
     ]
    }
   ],
   "source": [
    "cnt_emp_no_ind = pd.read_sql_query(query_5_4, connection)\n",
    "print(f'Количество работодателей с неуказанной сферой деятельности: {cnt_emp_no_ind.iloc[0,0]}')"
   ]
  },
  {
   "cell_type": "markdown",
   "metadata": {},
   "source": [
    "5. Напишите запрос, чтобы узнать название компании, находящейся на третьем месте в алфавитном списке (по названию) компаний, у которых указано четыре сферы деятельности. "
   ]
  },
  {
   "cell_type": "code",
   "execution_count": 33,
   "metadata": {},
   "outputs": [],
   "source": [
    "query_5_5 = f'''SELECT\n",
    "                    e.name AS name_emp\n",
    "                FROM public.employers AS e\n",
    "                JOIN public.employers_industries AS ei \n",
    "                    ON e.id = ei.employer_id\n",
    "                GROUP BY e.name\n",
    "                HAVING COUNT(ei.industry_id) = 4\n",
    "                ORDER BY name_emp\n",
    "                OFFSET 2\n",
    "                LIMIT 1\n",
    "            '''"
   ]
  },
  {
   "cell_type": "code",
   "execution_count": 41,
   "metadata": {},
   "outputs": [
    {
     "name": "stdout",
     "output_type": "stream",
     "text": [
      "Название третьей компании в алфавитном списке, содержащем компании с указаными четырьмя сферами деятельности: 2ГИС\n"
     ]
    }
   ],
   "source": [
    "name_company = pd.read_sql_query(query_5_5, connection)\n",
    "print(f'Название третьей компании в алфавитном списке, содержащем компании '\n",
    "      f'с указаными четырьмя сферами деятельности: {name_company.iloc[0,0]}')"
   ]
  },
  {
   "cell_type": "markdown",
   "metadata": {},
   "source": [
    "6. С помощью запроса выясните, у какого количества работодателей в качестве сферы деятельности указана Разработка программного обеспечения.\n"
   ]
  },
  {
   "cell_type": "code",
   "execution_count": 42,
   "metadata": {},
   "outputs": [],
   "source": [
    "query_5_6 = f'''SELECT\n",
    "                    COUNT(ei.employer_id)\n",
    "                FROM public.industries AS i\n",
    "                JOIN public.employers_industries AS ei\n",
    "                    ON i.id = ei.industry_id\n",
    "                    AND i.name = 'Разработка программного обеспечения'\n",
    "            '''"
   ]
  },
  {
   "cell_type": "code",
   "execution_count": 43,
   "metadata": {},
   "outputs": [
    {
     "name": "stdout",
     "output_type": "stream",
     "text": [
      "Количество работодателей в качестве сферы деятельности которых указана разработка программного обеспечения: 3553\n"
     ]
    }
   ],
   "source": [
    "cnt_emp_soft_dev = pd.read_sql_query(query_5_6, connection)\n",
    "print(f'Количество работодателей в качестве сферы деятельности которых '\n",
    "      f'указана разработка программного обеспечения: {cnt_emp_soft_dev.iloc[0,0]}')"
   ]
  },
  {
   "cell_type": "markdown",
   "metadata": {},
   "source": [
    "7. Для компании «Яндекс» выведите список регионов-миллионников, в которых представлены вакансии компании, вместе с количеством вакансий в этих регионах. Также добавьте строку Total с общим количеством вакансий компании. Результат отсортируйте по возрастанию количества.\n",
    "\n",
    "Список городов-милионников надо взять [отсюда](https://ru.wikipedia.org/wiki/%D0%93%D0%BE%D1%80%D0%BE%D0%B4%D0%B0-%D0%BC%D0%B8%D0%BB%D0%BB%D0%B8%D0%BE%D0%BD%D0%B5%D1%80%D1%8B_%D0%A0%D0%BE%D1%81%D1%81%D0%B8%D0%B8). \n",
    "\n",
    "Если возникнут трудности с этим задание посмотрите материалы модуля  PYTHON-17. Как получать данные из веб-источников и API. "
   ]
  },
  {
   "cell_type": "code",
   "execution_count": 44,
   "metadata": {},
   "outputs": [
    {
     "name": "stdout",
     "output_type": "stream",
     "text": [
      "('Москва', 'Санкт-Петербург', 'Новосибирск', 'Екатеринбург', 'Казань', 'Нижний Новгород', 'Челябинск', 'Красноярск', 'Самара', 'Уфа', 'Ростов-на-Дону', 'Омск', 'Краснодар', 'Воронеж', 'Пермь', 'Волгоград')\n"
     ]
    }
   ],
   "source": [
    "# Получим список городов-милионников по предложенной ссылке.\n",
    "url = 'https://ru.wikipedia.org/wiki/%D0%93%D0%BE%D1%80%D0%BE%D0%B4%D0%B0-%D0%BC%D0%B8%D0%BB%D0%BB%' \\\n",
    "    + 'D0%B8%D0%BE%D0%BD%D0%B5%D1%80%D1%8B_%D0%A0%D0%BE%D1%81%D1%81%D0%B8%D0%B8'\n",
    "response = requests.get(url)\n",
    "# Воспользуемся библиотекой BeautifulSoup для извлечения таблицы по тегу и атрибуту класса.\n",
    "page = BeautifulSoup(response.text, 'html.parser')\n",
    "table = page.find_all('table', class_=\"standard sortable\")\n",
    "\n",
    "# Преобразуем результат в строку и разделим по символу двойных кавычек.\n",
    "table = str(table)\n",
    "table = table.split('\"')\n",
    "\n",
    "# Создадим пустой список и заполним его пройдясь в цикле по полученной строке и выбирая названия городов.\n",
    "# Названиям городов предшествует тэг ' title=', однако заголовок таблицы имеет такой же тэг и заканчивается скобкой.\n",
    "# Поэтому дополним условие отбора проверкой, что последний символ является буквой.\n",
    "city_ls = []\n",
    "for i in range(len(table)):\n",
    "    if table[i] == ' title=' and table[i+1][-1].isalpha():\n",
    "        city_ls.append(table[i+1])\n",
    "\n",
    "# Преобразуем список в кортеж для использования в запросе и проверим его содержимое.\n",
    "city_tpl = tuple(city_ls)\n",
    "print(city_tpl)"
   ]
  },
  {
   "cell_type": "code",
   "execution_count": 45,
   "metadata": {},
   "outputs": [],
   "source": [
    "# Напишем запрос используя полученный списко городов-милионников\n",
    "query_5_7 = f'''SELECT\n",
    "                    a.name AS area,\n",
    "                    COUNT(v.id) AS count_vacancies\n",
    "                FROM public.vacancies AS v\n",
    "                JOIN public.areas AS a \n",
    "                    ON v.area_id = a.id\n",
    "                    AND a.name IN {city_tpl}\n",
    "                JOIN public.employers AS e \n",
    "                    ON v.employer_id = e.id\n",
    "                    AND e.name = 'Яндекс'\n",
    "                GROUP BY a.name\n",
    "                \n",
    "                --Присоединяем строку с общим количеством вакансий\n",
    "                UNION ALL \n",
    "                \n",
    "                SELECT \n",
    "                    'total',\n",
    "                    COUNT(v.id)\n",
    "                FROM public.vacancies AS v\n",
    "                JOIN public.areas AS a \n",
    "                    ON v.area_id = a.id\n",
    "                    AND a.name IN {city_tpl}\n",
    "                JOIN public.employers AS e \n",
    "                    ON v.employer_id = e.id\n",
    "                    AND e.name = 'Яндекс'\n",
    "                ORDER BY count_vacancies\n",
    "            '''"
   ]
  },
  {
   "cell_type": "code",
   "execution_count": 46,
   "metadata": {},
   "outputs": [
    {
     "data": {
      "text/html": [
       "<div>\n",
       "<style scoped>\n",
       "    .dataframe tbody tr th:only-of-type {\n",
       "        vertical-align: middle;\n",
       "    }\n",
       "\n",
       "    .dataframe tbody tr th {\n",
       "        vertical-align: top;\n",
       "    }\n",
       "\n",
       "    .dataframe thead th {\n",
       "        text-align: right;\n",
       "    }\n",
       "</style>\n",
       "<table border=\"1\" class=\"dataframe\">\n",
       "  <thead>\n",
       "    <tr style=\"text-align: right;\">\n",
       "      <th></th>\n",
       "      <th>area</th>\n",
       "      <th>count_vacancies</th>\n",
       "    </tr>\n",
       "  </thead>\n",
       "  <tbody>\n",
       "    <tr>\n",
       "      <th>0</th>\n",
       "      <td>Омск</td>\n",
       "      <td>21</td>\n",
       "    </tr>\n",
       "    <tr>\n",
       "      <th>1</th>\n",
       "      <td>Челябинск</td>\n",
       "      <td>22</td>\n",
       "    </tr>\n",
       "    <tr>\n",
       "      <th>2</th>\n",
       "      <td>Красноярск</td>\n",
       "      <td>23</td>\n",
       "    </tr>\n",
       "    <tr>\n",
       "      <th>3</th>\n",
       "      <td>Волгоград</td>\n",
       "      <td>24</td>\n",
       "    </tr>\n",
       "    <tr>\n",
       "      <th>4</th>\n",
       "      <td>Пермь</td>\n",
       "      <td>25</td>\n",
       "    </tr>\n",
       "    <tr>\n",
       "      <th>5</th>\n",
       "      <td>Казань</td>\n",
       "      <td>25</td>\n",
       "    </tr>\n",
       "    <tr>\n",
       "      <th>6</th>\n",
       "      <td>Ростов-на-Дону</td>\n",
       "      <td>25</td>\n",
       "    </tr>\n",
       "    <tr>\n",
       "      <th>7</th>\n",
       "      <td>Уфа</td>\n",
       "      <td>26</td>\n",
       "    </tr>\n",
       "    <tr>\n",
       "      <th>8</th>\n",
       "      <td>Самара</td>\n",
       "      <td>26</td>\n",
       "    </tr>\n",
       "    <tr>\n",
       "      <th>9</th>\n",
       "      <td>Краснодар</td>\n",
       "      <td>30</td>\n",
       "    </tr>\n",
       "    <tr>\n",
       "      <th>10</th>\n",
       "      <td>Воронеж</td>\n",
       "      <td>32</td>\n",
       "    </tr>\n",
       "    <tr>\n",
       "      <th>11</th>\n",
       "      <td>Новосибирск</td>\n",
       "      <td>35</td>\n",
       "    </tr>\n",
       "    <tr>\n",
       "      <th>12</th>\n",
       "      <td>Нижний Новгород</td>\n",
       "      <td>36</td>\n",
       "    </tr>\n",
       "    <tr>\n",
       "      <th>13</th>\n",
       "      <td>Екатеринбург</td>\n",
       "      <td>39</td>\n",
       "    </tr>\n",
       "    <tr>\n",
       "      <th>14</th>\n",
       "      <td>Санкт-Петербург</td>\n",
       "      <td>42</td>\n",
       "    </tr>\n",
       "    <tr>\n",
       "      <th>15</th>\n",
       "      <td>Москва</td>\n",
       "      <td>54</td>\n",
       "    </tr>\n",
       "    <tr>\n",
       "      <th>16</th>\n",
       "      <td>total</td>\n",
       "      <td>485</td>\n",
       "    </tr>\n",
       "  </tbody>\n",
       "</table>\n",
       "</div>"
      ],
      "text/plain": [
       "               area  count_vacancies\n",
       "0              Омск               21\n",
       "1         Челябинск               22\n",
       "2        Красноярск               23\n",
       "3         Волгоград               24\n",
       "4             Пермь               25\n",
       "5            Казань               25\n",
       "6    Ростов-на-Дону               25\n",
       "7               Уфа               26\n",
       "8            Самара               26\n",
       "9         Краснодар               30\n",
       "10          Воронеж               32\n",
       "11      Новосибирск               35\n",
       "12  Нижний Новгород               36\n",
       "13     Екатеринбург               39\n",
       "14  Санкт-Петербург               42\n",
       "15           Москва               54\n",
       "16            total              485"
      ]
     },
     "metadata": {},
     "output_type": "display_data"
    }
   ],
   "source": [
    "yandex_vac = pd.read_sql_query(query_5_7, connection)\n",
    "display(yandex_vac)"
   ]
  },
  {
   "attachments": {},
   "cell_type": "markdown",
   "metadata": {},
   "source": [
    "### выводы по анализу работодателей\n",
    "***\n",
    "* В пятерке лидеров по количеству вакансий находятся IT-компания («Яндекс»), провайдер интернет услуг («Ростелеком»), два представителя банковского сектора («Тинькофф», «СБЕР») и добывающая компания («Газпром нефть»). Всем им в той или иной степени могут требоваться IT-специалисты.\n",
    "* В базе присутствуют регионы, в которых нет вакансий, но в которых зарегестрированы работодатели. Среди таких регионов наибольшее количество работодателей зарегестрировано в регионе Россия. Вероятно часть работодателей имеют филиалы в различных городах, поэтому в графе регион регистрации указывают страну.  \n",
    "* Лидером среди работодателей по географии предлагаемых вакансий является «Яндекс». Его вакансии предлагаются в 181 регионе. В базе представлено 192 работодателя которые предлагают вакансии в 10 и более регионах.\n",
    "* Более трети работодателей (8419) не указывают сферу деятельности. Вероятно работодатели считают, что название компании говорит само за себя либо что сфера деятельности понятна из наименования вакансии и набора требуемых навыков.\n",
    "* В базе представлено 1136 компаний указавших четыре сферы деятельности. Чаще всего указываются сферы деятельности относящиеся к различным стадиям жизненого цикла продукта (разработка, изготовление, продвижение/продажа, ремонт). Это говорит о том, что в базе присутствуют крупные компании способные обеспечить полный жизненый цикл своей продукции.  \n",
    "* Более 15% (3553) работодателей явно указали в качестве сферы деятельности разработку программного обеспечения. Учитывая, что у трети работодателей совсем не указана сфера деятельности можно предположить что достаточно много предлагаемых в базе вакансий может быть связана с IT-сферой. Но лучше такую оценку проводить по требуемым ключевым навыкам и наименованию вакансии так как в других сферах деятельности тоже может быть потребность в IT-специалистах.    \n",
    "* Компания «Яндекс» предлагает от 21 до 54 вакансий в городах-миллионниках России, всего 485 вакансий. В данной компании порядка 18000 сотрудников, количество вакансий в городах-миллионниках составляет 2,69% от этого числа. Можно предположить, что это количество вакансий связано с восполнением ушедших сотрудников. Чтобы сделать адекватный вывод о текучести кадров стоит подсчитать общее количество вакансий компании «Яндекс». Для этого воспользуемся второй частью нашего запроса, подсчитывающей общее число вакансий, и уберем условие нахождения вакансии в городах-миллионниках. В результате получим, что компания «Яндекс» предлагает 1993 вакансии, а это состовляет 10,74% от общего числа сотрудников. Для IT-сферы нормальным значением текучести кадров считается уровень в 8-10%. Интересно было бы рассмотреть показатель текучести персонала в динамическом разрезе. То есть, сравнить его с соответствующими показателями за более ранние периоды. Это позволит оценить насколько правильно выстроена кадровая политика в компании."
   ]
  },
  {
   "cell_type": "markdown",
   "metadata": {},
   "source": [
    "# Юнит 6. Предметный анализ"
   ]
  },
  {
   "cell_type": "markdown",
   "metadata": {},
   "source": [
    "1. Сколько вакансий имеет отношение к данным?\n",
    "\n",
    "Считаем, что вакансия имеет отношение к данным, если в её названии содержатся слова 'data' или 'данн'.\n",
    "\n",
    "*Подсказка: Обратите внимание, что названия вакансий могут быть написаны в любом регистре.* \n"
   ]
  },
  {
   "cell_type": "code",
   "execution_count": 47,
   "metadata": {},
   "outputs": [],
   "source": [
    "query_6_1 = f'''SELECT\n",
    "                    COUNT(id)\n",
    "                FROM public.vacancies\n",
    "                -- Выбираем названия содержащие 'data' или 'данн' независимо от регистра\n",
    "                WHERE name ILIKE '%%data%%' OR name ILIKE '%%данн%%'\n",
    "            '''"
   ]
  },
  {
   "cell_type": "code",
   "execution_count": 48,
   "metadata": {},
   "outputs": [
    {
     "name": "stdout",
     "output_type": "stream",
     "text": [
      "Количество вакансий, имеющих отношение к данным: 1771\n"
     ]
    }
   ],
   "source": [
    "cnt_vac_data = pd.read_sql_query(query_6_1, connection)\n",
    "print(f'Количество вакансий, имеющих отношение к данным: {cnt_vac_data.iloc[0][0]}')"
   ]
  },
  {
   "cell_type": "markdown",
   "metadata": {},
   "source": [
    "2. Сколько есть подходящих вакансий для начинающего дата-сайентиста? \n",
    "Будем считать вакансиями для дата-сайентистов такие, в названии которых есть хотя бы одно из следующих сочетаний:\n",
    "* 'data scientist'\n",
    "* 'data science'\n",
    "* 'исследователь данных'\n",
    "* 'ML' (здесь не нужно брать вакансии по HTML)\n",
    "* 'machine learning'\n",
    "* 'машинн%обучен%'\n",
    "\n",
    "** В следующих заданиях мы продолжим работать с вакансиями по этому условию.*\n",
    "\n",
    "Считаем вакансиями для специалистов уровня Junior следующие:\n",
    "* в названии есть слово 'junior' *или*\n",
    "* требуемый опыт — Нет опыта *или*\n",
    "* тип трудоустройства — Стажировка.\n",
    " "
   ]
  },
  {
   "cell_type": "code",
   "execution_count": 49,
   "metadata": {},
   "outputs": [],
   "source": [
    "# Запишем условие для вакансий на позицию дата-сайентиста в переменную для использования в запросах\n",
    "ds_vac = '''(\n",
    "             (\n",
    "             name ILIKE '%%data scientist%%' \n",
    "             OR name ILIKE '%%data science%%'                    \n",
    "             OR name ILIKE '%%исследователь данных%%'                    \n",
    "             OR name ILIKE '%%машинн%%обучен%%'                    \n",
    "             OR name ILIKE '%%machine learning%%'\n",
    "             )\n",
    "             /* \n",
    "               Для поиска вакансий содержащих 'ML' важно учитывать регистр\n",
    "               поэтому используем LIKE вместо ILIKE \n",
    "             */  \n",
    "             OR (\n",
    "                 name LIKE '%%ML%%' AND name NOT LIKE '%%HTML%%'\n",
    "                 )\n",
    "            )\n",
    "        '''\n",
    "        \n",
    "query_6_2 = f'''SELECT\n",
    "                    COUNT(id)\n",
    "                FROM public.vacancies\n",
    "                WHERE {ds_vac}\n",
    "                    AND (name ILIKE '%%junior%%' \n",
    "                        OR experience ILIKE '%%нет опыта%%' \n",
    "                        OR employment ILIKE '%%стажировка%%')\n",
    "            '''"
   ]
  },
  {
   "cell_type": "code",
   "execution_count": 53,
   "metadata": {},
   "outputs": [
    {
     "name": "stdout",
     "output_type": "stream",
     "text": [
      "В базе данных есть 51 вакансия, подходящая для начинающего дата-сайентиста\n"
     ]
    }
   ],
   "source": [
    "ds_jun_vac = pd.read_sql_query(query_6_2, connection)\n",
    "print(f'В базе данных есть {ds_jun_vac.iloc[0][0]} вакансия, '\n",
    "      f'подходящая для начинающего дата-сайентиста')"
   ]
  },
  {
   "cell_type": "markdown",
   "metadata": {},
   "source": [
    "3. Сколько есть вакансий для DS, в которых в качестве ключевого навыка указан SQL или postgres?\n",
    "\n",
    "** Критерии для отнесения вакансии к DS указаны в предыдущем задании.*"
   ]
  },
  {
   "cell_type": "code",
   "execution_count": 51,
   "metadata": {},
   "outputs": [],
   "source": [
    "query_6_3 = f'''SELECT \n",
    "                    COUNT(id)\n",
    "                FROM public.vacancies\n",
    "                WHERE {ds_vac}\n",
    "                    AND (key_skills ILIKE '%%sql%%' \n",
    "                        OR key_skills ILIKE '%%postgres%%')\n",
    "            '''"
   ]
  },
  {
   "cell_type": "code",
   "execution_count": 52,
   "metadata": {},
   "outputs": [
    {
     "name": "stdout",
     "output_type": "stream",
     "text": [
      "Количество вакансий для DS, в которых в качестве ключевого навыка указан SQL или postgres: 201\n"
     ]
    }
   ],
   "source": [
    "# результат запроса\n",
    "sql_pg_vac = pd.read_sql_query(query_6_3, connection)\n",
    "print(f'Количество вакансий для DS, в которых в качестве ключевого навыка указан '\n",
    "      f'SQL или postgres: {sql_pg_vac.iloc[0][0]}')"
   ]
  },
  {
   "cell_type": "markdown",
   "metadata": {},
   "source": [
    "4. Проверьте, насколько популярен Python в требованиях работодателей к DS.Для этого вычислите количество вакансий, в которых в качестве ключевого навыка указан Python.\n",
    "\n",
    "** Это можно сделать помощью запроса, аналогичного предыдущему.*"
   ]
  },
  {
   "cell_type": "code",
   "execution_count": 54,
   "metadata": {},
   "outputs": [],
   "source": [
    "query_6_4 = f'''SELECT \n",
    "                    COUNT(id)\n",
    "                FROM public.vacancies\n",
    "                WHERE {ds_vac}\n",
    "                    AND (key_skills ILIKE '%%python%%')\n",
    "            '''"
   ]
  },
  {
   "cell_type": "code",
   "execution_count": 55,
   "metadata": {},
   "outputs": [
    {
     "name": "stdout",
     "output_type": "stream",
     "text": [
      "Количество вакансий с требуемым ключевым навыком - знание Python: 351\n"
     ]
    }
   ],
   "source": [
    "python_vac = pd.read_sql_query(query_6_4, connection)\n",
    "print(f'Количество вакансий с требуемым ключевым навыком - '\n",
    "      f'знание Python: {python_vac.loc[0][0]}')"
   ]
  },
  {
   "cell_type": "markdown",
   "metadata": {},
   "source": [
    "5. Сколько ключевых навыков в среднем указывают в вакансиях для DS?\n",
    "Ответ округлите до двух знаков после точки-разделителя."
   ]
  },
  {
   "cell_type": "code",
   "execution_count": 56,
   "metadata": {},
   "outputs": [],
   "source": [
    "# Ключевые навыки разделены знаком табуляции функция CHR() возращает символ по коду из ASCII таблицы. \n",
    "# Код 9 сооветствует горизонтальной табуляции. Для определения количества ключевых навыков найдем \n",
    "# разность количества символов, посчитанное функцией LENGTH(), в исходной строке и строке с \n",
    "# исключенными знаками табуляции. Для замены табуляции на пустоту используем функцию REPLACE(). \n",
    "# Не забываем добавить 1 так как табуляцией разделяются как минимум два ключевых навыка.  \n",
    "query_6_5 = f'''SELECT\n",
    "                    ROUND(AVG(LENGTH(key_skills) \\\n",
    "                        - LENGTH(REPLACE(key_skills, CHR(9), '')) + 1.0), 2)\n",
    "                FROM public.vacancies\n",
    "                WHERE {ds_vac} \n",
    "                    AND key_skills IS NOT NULL\n",
    "            '''"
   ]
  },
  {
   "cell_type": "code",
   "execution_count": 57,
   "metadata": {},
   "outputs": [
    {
     "name": "stdout",
     "output_type": "stream",
     "text": [
      "Для DS вакансий в среднем указывается 6.41 ключевых навыков\n"
     ]
    }
   ],
   "source": [
    "avg_key_skills = pd.read_sql_query(query_6_5, connection)\n",
    "print(f'Для DS вакансий в среднем указывается {avg_key_skills.iloc[0][0]} ключевых навыков')"
   ]
  },
  {
   "cell_type": "markdown",
   "metadata": {},
   "source": [
    "6. Напишите запрос, позволяющий вычислить, какую зарплату для DS в **среднем** указывают для каждого типа требуемого опыта (уникальное значение из поля *experience*). \n",
    "\n",
    "При решении задачи примите во внимание следующее:\n",
    "1. Рассматриваем только вакансии, у которых заполнено хотя бы одно из двух полей с зарплатой.\n",
    "2. Если заполнены оба поля с зарплатой, то считаем зарплату по каждой вакансии как сумму двух полей, делённую на 2. Если заполнено только одно из полей, то его и считаем зарплатой по вакансии.\n",
    "3. Если в расчётах участвует null, в результате он тоже даст null (посмотрите, что возвращает запрос select 1 + null). Чтобы избежать этой ситуацию, мы воспользуемся функцией [coalesce](https://postgrespro.ru/docs/postgresql/9.5/functions-conditional#functions-coalesce-nvl-ifnull), которая заменит null на значение, которое мы передадим. Например, посмотрите, что возвращает запрос `select 1 + coalesce(null, 0)`\n",
    "\n",
    "Выясните, на какую зарплату в среднем может рассчитывать дата-сайентист с опытом работы от 3 до 6 лет. Результат округлите до целого числа. "
   ]
  },
  {
   "cell_type": "code",
   "execution_count": 58,
   "metadata": {},
   "outputs": [],
   "source": [
    "query_6_6 = f'''SELECT\n",
    "                    experience,\n",
    "                    ROUND(AVG(\n",
    "                        /*\n",
    "                          Функция COALESCE попытается последовательно проверять, что переданные \n",
    "                          ей аргументы не являются значением null и вернет первый аргумент соответствующий \n",
    "                          этому условию\n",
    "                        */\n",
    "                        COALESCE((salary_from + salary_to)/2.0, salary_from, salary_to, 0)\n",
    "                        ),0) AS avg_salary\n",
    "                FROM public.vacancies\n",
    "                WHERE {ds_vac} \n",
    "                    AND COALESCE((salary_from + salary_to)/2.0, salary_from, salary_to, 0) != 0\n",
    "                GROUP BY experience\n",
    "            '''"
   ]
  },
  {
   "cell_type": "code",
   "execution_count": 59,
   "metadata": {},
   "outputs": [
    {
     "name": "stdout",
     "output_type": "stream",
     "text": [
      "Дата-сайнтист с опытом работы от 3 до 6 лет может рассчитывать на среднюю зарплату: 243115 рублей\n"
     ]
    }
   ],
   "source": [
    "avg_salary_by_exp = pd.read_sql_query(query_6_6, connection)\n",
    "print(f'Дата-сайнтист с опытом работы от 3 до 6 лет может рассчитывать '\n",
    "      f'на среднюю зарплату: {round(avg_salary_by_exp.iloc[2][1])} рублей')"
   ]
  },
  {
   "cell_type": "markdown",
   "metadata": {},
   "source": [
    "### выводы по предметному анализу\n",
    "***\n",
    "* Примерно 3,6 процента (1771) вакансий в базе имеют отношение к данным. Небольшой процент вакансий может говорить о малом размере базы. Для проверки рапространенности данного вида деятельности стоит провести оценку среди вакансий имеющих отношение к IT-сфере.  \n",
    "* В базе данных есть 51 подходящая вакансия для начинающего дата-сайентиста. Это менее 3% от общего числа вакансий, имеющих отношение к данным. Достаточно мало вакансий возникают вопросы по путям получения опыта. Возможно участие/победы соискателя в хакатонах стоит расценивать как начальный опыт. \n",
    "* Для 201 вакансии на позицию DS в качестве ключевого навыка указан SQL или postgres. Относительно количества вакансий, отвечающих выбранному критерию отнесения вакансии к DS, навыки работы с базами данных требуются в 41,9% случаев. Стоит учесть, что не для всех вакансий указываются ключевые навыки, некоторые работодатели подразумевают наличие навыков в наименовании самой вакансии.\n",
    "* Для 351 вакансии на позицию DS в качестве ключевого навыка указано знание Python. Относительно количества вакансий, отвечающих выбранному критерию отнесения вакансии к DS, знание Python требуется в 73,1% случаев. Действительно Python является наиболее распространненым языком программирования в DS, однако, встречаются вакансии требующие знание С++ или Java. Также стоит учитывать, что иногда требование к ключевым навыкам подразумевается в наименовании вакансии.\n",
    "* Для DS вакансий в среднем указывается 6.41 ключевых навыков. Работодатели наравне с общими навыками ожидают и знания из конкретных областей. Например, кроме знания Python указывается владение библиотками Pandas, Numpy и другие. Возможно для рекомендательной системы стоит заострить внимание на основных навыках, а знание в конкретных областях не учитывать при подборе вакансий. То есть, например, соискатель может явно не указать владение библиотеками Python считая это само собой разумеющимся.\n",
    "* Дата-сайнтист с опытом работы от 3 до 6 лет может рассчитывать на среднюю зарплату: 243115 рублей. Не смотря на то, что не все работодатели указывают уровень зарплат данный показатель может использоваться для оценки уровня зарплаты в привязке к опыту работы. Кроме опыта работы можно рассмотреть зависимость от региона в котором предложена вакансия. Интересно будет посмотреть зависимость от типа рабочего графика."
   ]
  },
  {
   "attachments": {},
   "cell_type": "markdown",
   "metadata": {},
   "source": [
    "# Дополнительные исследования\n",
    "***"
   ]
  },
  {
   "attachments": {},
   "cell_type": "markdown",
   "metadata": {},
   "source": [
    "1. Посмотрим на распределение работодателей по сферам деятельности."
   ]
  },
  {
   "cell_type": "code",
   "execution_count": 70,
   "metadata": {},
   "outputs": [
    {
     "data": {
      "text/html": [
       "<div>\n",
       "<style scoped>\n",
       "    .dataframe tbody tr th:only-of-type {\n",
       "        vertical-align: middle;\n",
       "    }\n",
       "\n",
       "    .dataframe tbody tr th {\n",
       "        vertical-align: top;\n",
       "    }\n",
       "\n",
       "    .dataframe thead th {\n",
       "        text-align: right;\n",
       "    }\n",
       "</style>\n",
       "<table border=\"1\" class=\"dataframe\">\n",
       "  <thead>\n",
       "    <tr style=\"text-align: right;\">\n",
       "      <th></th>\n",
       "      <th>industries</th>\n",
       "      <th>count_emp</th>\n",
       "      <th>percent</th>\n",
       "    </tr>\n",
       "  </thead>\n",
       "  <tbody>\n",
       "    <tr>\n",
       "      <th>0</th>\n",
       "      <td>Ассоциация в сфере культуры, искусства</td>\n",
       "      <td>1</td>\n",
       "      <td>0.00</td>\n",
       "    </tr>\n",
       "    <tr>\n",
       "      <th>1</th>\n",
       "      <td>Автошкола</td>\n",
       "      <td>3</td>\n",
       "      <td>0.01</td>\n",
       "    </tr>\n",
       "    <tr>\n",
       "      <th>2</th>\n",
       "      <td>Ботанический сад, зоопарк, заповедник</td>\n",
       "      <td>3</td>\n",
       "      <td>0.01</td>\n",
       "    </tr>\n",
       "    <tr>\n",
       "      <th>3</th>\n",
       "      <td>Лифтовое хозяйство (монтаж, сервис, ремонт)</td>\n",
       "      <td>4</td>\n",
       "      <td>0.02</td>\n",
       "    </tr>\n",
       "    <tr>\n",
       "      <th>4</th>\n",
       "      <td>Ритуальные услуги</td>\n",
       "      <td>4</td>\n",
       "      <td>0.02</td>\n",
       "    </tr>\n",
       "    <tr>\n",
       "      <th>...</th>\n",
       "      <td>...</td>\n",
       "      <td>...</td>\n",
       "      <td>...</td>\n",
       "    </tr>\n",
       "    <tr>\n",
       "      <th>289</th>\n",
       "      <td>Консалтинговые услуги</td>\n",
       "      <td>662</td>\n",
       "      <td>2.82</td>\n",
       "    </tr>\n",
       "    <tr>\n",
       "      <th>290</th>\n",
       "      <td>Маркетинговые, рекламные, BTL, дизайнерские, E...</td>\n",
       "      <td>798</td>\n",
       "      <td>3.40</td>\n",
       "    </tr>\n",
       "    <tr>\n",
       "      <th>291</th>\n",
       "      <td>Интернет-компания (поисковики, платежные систе...</td>\n",
       "      <td>1675</td>\n",
       "      <td>7.13</td>\n",
       "    </tr>\n",
       "    <tr>\n",
       "      <th>292</th>\n",
       "      <td>Системная интеграция,  автоматизации технологи...</td>\n",
       "      <td>2993</td>\n",
       "      <td>12.74</td>\n",
       "    </tr>\n",
       "    <tr>\n",
       "      <th>293</th>\n",
       "      <td>Разработка программного обеспечения</td>\n",
       "      <td>3553</td>\n",
       "      <td>15.12</td>\n",
       "    </tr>\n",
       "  </tbody>\n",
       "</table>\n",
       "<p>294 rows × 3 columns</p>\n",
       "</div>"
      ],
      "text/plain": [
       "                                            industries  count_emp  percent\n",
       "0               Ассоциация в сфере культуры, искусства          1     0.00\n",
       "1                                            Автошкола          3     0.01\n",
       "2                Ботанический сад, зоопарк, заповедник          3     0.01\n",
       "3          Лифтовое хозяйство (монтаж, сервис, ремонт)          4     0.02\n",
       "4                                    Ритуальные услуги          4     0.02\n",
       "..                                                 ...        ...      ...\n",
       "289                              Консалтинговые услуги        662     2.82\n",
       "290  Маркетинговые, рекламные, BTL, дизайнерские, E...        798     3.40\n",
       "291  Интернет-компания (поисковики, платежные систе...       1675     7.13\n",
       "292  Системная интеграция,  автоматизации технологи...       2993    12.74\n",
       "293                Разработка программного обеспечения       3553    15.12\n",
       "\n",
       "[294 rows x 3 columns]"
      ]
     },
     "metadata": {},
     "output_type": "display_data"
    },
    {
     "data": {
      "text/plain": [
       "'Количество вакансий имеющих отношение к столярному делу: 11'"
      ]
     },
     "metadata": {},
     "output_type": "display_data"
    },
    {
     "data": {
      "application/vnd.plotly.v1+json": {
       "config": {
        "plotlyServerURL": "https://plot.ly"
       },
       "data": [
        {
         "branchvalues": "total",
         "domain": {
          "x": [
           0,
           1
          ],
          "y": [
           0,
           1
          ]
         },
         "hovertemplate": "%{label}<br>Процент от общего числа работодателей: %{value}%<extra></extra>",
         "ids": [
          "Авиаперевозки",
          "Авиационная, вертолетная, аэрокосмическая промышленность",
          "Автозапчасти, шины (розничная торговля)",
          "Автокомпоненты, запчасти (производство)",
          "Автокомпоненты, запчасти, шины (продвижение, оптовая торговля)",
          "Автомобильные перевозки",
          "Автошкола",
          "Агентские услуги в недвижимости",
          "Агрохимия (продвижение, оптовая торговля)",
          "Агрохимия (производство)",
          "Алкогольные напитки (продвижение, оптовая торговля)",
          "Альтернативная энергетика: гео-, ветро-, солнце-, био- (генерация электроэнергии)",
          "Аптека, оптика",
          "Аренда автомобилей",
          "Архив, библиотека, искусствоведение",
          "Архитектура, проектирование",
          "Ассоциация в сфере культуры, искусства",
          "Атомная энергетика (генерация электроэнергии, АЭС)",
          "Аудит, управленческий учет, финансово-юридический консалтинг",
          "Банк",
          "Безалкогольные напитки (продвижение, оптовая торговля)",
          "Безалкогольные напитки (производство)",
          "Безопасность, охранная деятельность",
          "Бетон, кирпич, стекло и прочие силикаты (продвижение, оптовая торговля)",
          "Бетон, кирпич, стекло и прочие силикаты (производство)",
          "Бизнес-образование",
          "Благотворительная организация",
          "Благоустройство и уборка территорий и зданий",
          "Ботанический сад, зоопарк, заповедник",
          "Бытовая техника, электроника, климатическое оборудование (монтаж, сервис, ремонт)",
          "Бытовая техника, электроника, климатическое оборудование (продвижение, оптовая торговля)",
          "Бытовая техника, электроника, климатическое оборудование (производство)",
          "Бытовая химия, парфюмерия, косметика  (продвижение, оптовая торговля)",
          "Бытовая химия, парфюмерия, косметика  (производство)",
          "ВЭД, таможенное оформление",
          "Вендинг (торговля через автоматы)",
          "Вентиляция и кондиционирование (монтаж, сервис, ремонт)",
          "Ветеринарная аптека",
          "Ветеринарная деятельность",
          "Вино (производство)",
          "Водоснабжение и канализация",
          "Вуз, ссуз колледж, ПТУ",
          "ГСМ, топливо (продвижение, оптовая торговля)",
          "ГСМ, топливо (розничная торговля)",
          "Гидроэнергетика (генерация электроэнергии, ГЭС)",
          "Гостиница",
          "Государственные организации",
          "Двигатели (монтаж, сервис, ремонт)",
          "Двигатели (продвижение, оптовая торговля)",
          "Двигатели (производство)",
          "Девелопмент",
          "Деревообработка (производство)",
          "Детское питание (продвижение, оптовая торговля)",
          "Детское питание (производство)",
          "Добыча газа",
          "Добыча и обогащение минерального сырья (соль, сера, глинозем), разработка карьеров (песок, глина, камень), добыча торфа",
          "Добыча и обогащение руд черных, цветных, драгоценных, благородных, редких металлов",
          "Добыча и обогащение угля",
          "Добыча нефти",
          "Домашний персонал",
          "Дорожно-строительная техника, сельскохозяйственная и другая спец.техника, оборудование, лифты, погрузочно-разгрузочное, складское оборудование (монтаж, сервис, ремонт)",
          "Дорожно-строительная техника, сельскохозяйственная и другая спец.техника, оборудование, лифты, погрузочно-разгрузочное, складское оборудование (продвижение, оптовая торговля)",
          "Дорожно-строительная техника, сельскохозяйственная и другая спец.техника, оборудование, лифты, погрузочно-разгрузочное, складское оборудование (производство)",
          "Драгоценные, благородные и редкие металлы (продвижение, оптовая торговля)",
          "Драгоценные, благородные и редкие металлы (производство)",
          "Железнодорожное машиностроение, вагоностроение",
          "Железнодорожные перевозки",
          "Земледелие, растениеводство, животноводство",
          "Зоомагазин",
          "Игорный бизнес",
          "Издательская деятельность",
          "Инженерно-изыскательские, гидрогеологические, геологоразведочные работы",
          "Интернет-компания (поисковики, платежные системы, соц.сети, информационно-познавательные и развлекательные ресурсы, продвижение сайтов и прочее)",
          "Интернет-магазин",
          "Интернет-провайдер",
          "Инфраструктурная компания в энергетике (СО ЕЭС, АТС, ЦФР и т.п.)",
          "Кадровые агентства",
          "Канцтовары, расходные материалы (продвижение, оптовая торговля)",
          "Канцтовары, расходные материалы (производство)",
          "Кейтеринг (выездное обслуживание)",
          "Киностудии и студии звукозаписи",
          "Клинические исследования",
          "Колл-центры, диспетчерские службы",
          "Коллекторская деятельность",
          "Кондитерские изделия (продвижение, оптовая торговля)",
          "Кондитерские изделия (производство)",
          "Консалтинг в области энергоэффективности",
          "Консалтинг, оценка в недвижимости",
          "Консалтинговые услуги",
          "Консервированная продукция (продвижение, оптовая торговля)",
          "Консервированная продукция (производство)",
          "Контроль качества, экспертиза, испытания и сертификация",
          "Корма для животных (продвижение, оптовая торговля)",
          "Корма для животных (производство)",
          "Курьерская, почтовая доставка",
          "Лаборатория, исследовательский центр",
          "Лакокрасочная продукция, сырье (продвижение, оптовая торговля)",
          "Лакокрасочная продукция, сырье (производство)",
          "Легковые, грузовые автомобили, мототехника, автобусы, троллейбусы (продвижение, оптовая торговля)",
          "Легковые, грузовые автомобили, мототехника, автобусы, троллейбусы (производство)",
          "Лечебно-профилактические учреждения",
          "Лизинговые компании",
          "Ликероводочная продукция (производство)",
          "Лифтовое хозяйство (монтаж, сервис, ремонт)",
          "Макаронные изделия (продвижение, оптовая торговля)",
          "Макаронные изделия (производство)",
          "Маркетинговые, рекламные, BTL, дизайнерские, Event-, PR-агентства, организация выставок",
          "Масложировая продукция (продвижение, оптовая торговля)",
          "Масложировая продукция (производство)",
          "Мебель (продвижение, оптовая торговля)",
          "Мебель (производство)",
          "Медицинское, диагностическое оборудование, инструменты (монтаж, сервис, ремонт)",
          "Медицинское, диагностическое оборудование, инструменты (продвижение, оптовая торговля)",
          "Медицинское, диагностическое оборудование, инструменты (производство)",
          "Металлические изделия, металлоконструкции (продвижение, оптовая торговля)",
          "Металлические изделия, металлоконструкции (производство)",
          "Мобильная связь",
          "Молочная продукция (продвижение, оптовая торговля)",
          "Молочная продукция (производство)",
          "Морские, речные перевозки",
          "Музей, галерея, театр",
          "Мука, крупы (продвижение, оптовая торговля)",
          "Мука, крупы (производство)",
          "Мясная продукция (продвижение, оптовая торговля)",
          "Мясная продукция (производство)",
          "НПФ",
          "Научно-исследовательская, научная, академическая деятельность",
          "Неорганическая химия (продвижение, оптовая торговля)",
          "Неорганическая химия (производство)",
          "Несетевая розница, мелкий опт",
          "Нефтепереработка, нефтехимия (производство)",
          "Нефтехимия (продвижение, оптовая торговля)",
          "Обеспечение пожарной безопасности, молниезащиты",
          "Оборудование для деревообработки, заготовки леса, целлюлозно-бумажной промышленности (монтаж, сервис, ремонт)",
          "Оборудование для деревообработки, заготовки леса, целлюлозно-бумажной промышленности (продвижение, оптовая торговля)",
          "Оборудование для деревообработки, заготовки леса, целлюлозно-бумажной промышленности (производство)",
          "Оборудование для пищевой промышленности, упаковки и хранения (монтаж, сервис, ремонт)",
          "Оборудование для пищевой промышленности, упаковки и хранения (продвижение, оптовая торговля)",
          "Оборудование для пищевой промышленности, упаковки и хранения (производство)",
          "Оборудование для ресторанов, гостиниц, кейтеринга, розничной торговли  (монтаж, сервис, ремонт)",
          "Оборудование для ресторанов, гостиниц, кейтеринга, розничной торговли  (продвижение, оптовая торговля)",
          "Оборудование для ресторанов, гостиниц, кейтеринга, розничной торговли (производство)",
          "Оборудование и станки для добывающей, энергетической, нефтегазовой и химической отрасли  (монтаж, сервис, ремонт)",
          "Оборудование и станки для добывающей, энергетической, нефтегазовой и химической отрасли  (продвижение, оптовая торговля)",
          "Оборудование и станки для добывающей, энергетической, нефтегазовой и химической отрасли  (производство)",
          "Оборудование и станки для металлургии и металлообработки (монтаж, сервис, ремонт)",
          "Оборудование и станки для металлургии и металлообработки (продвижение, оптовая торговля)",
          "Оборудование и станки для металлургии и металлообработки (производство)",
          "Оборудование и станки для отраслей легкой промышленности (монтаж, сервис, ремонт)",
          "Оборудование и станки для отраслей легкой промышленности (продвижение, оптовая торговля)",
          "Оборудование и станки для отраслей легкой промышленности (производство)",
          "Обучение иностранным языкам",
          "Обучение искусствам (рисование, пение, танцы, фото)",
          "Общественная, политическая организация",
          "Одежда, обувь, аксессуары, текстиль  (продвижение, оптовая торговля)",
          "Одежда, обувь, аксессуары, текстиль (производство)",
          "Оптоволоконная связь",
          "Органическая химия (продвижение, оптовая торговля)",
          "Органическая химия (производство)",
          "Переводческая деятельность",
          "Передача, распределение электроэнергии",
          "Переработка газа",
          "Пиво (производство)",
          "Пищевые концентраты (продвижение, оптовая торговля)",
          "Пищевые концентраты (производство)",
          "Повышение квалификации, переквалификация",
          "Полуфабрикаты, в том числе замороженные  (продвижение, оптовая торговля)",
          "Полуфабрикаты, в том числе замороженные (производство)",
          "Посуда, свет, товары для дома  (продвижение, оптовая торговля)",
          "Посуда, свет, товары для дома  (производство)",
          "Пошив, ремонт одежды и обуви",
          "Продукция авиационной, аэрокосмической, вертолетной промышленности (монтаж, сервис, ремонт)",
          "Продукция авиационной, аэрокосмической, вертолетной промышленности (продвижение, оптовая торговля)",
          "Продукция деревообработки (продвижение, оптовая торговля)",
          "Продукция железнодорожного машиностроения, вагоностроения (монтаж, сервис, ремонт)",
          "Продукция железнодорожного машиностроения, вагоностроения (продвижение, оптовая торговля)",
          "Продукция судостроения (продвижение, оптовая торговля)",
          "Продукция цветной металлургии (продвижение, оптовая торговля)",
          "Продукция черной металлургии (продвижение, оптовая торговля)",
          "Продюсерский центр",
          "Производство и продажа рекламно-сувенирной продукции",
          "Производство и ремонт военной техники, оборудования и вооружения",
          "Производство мультимедиа, контента, редакторская деятельность",
          "Производство печатной, полиграфической продукции",
          "Промышленное, бытовое электрооборудование и электротехника (монтаж, сервис, ремонт)",
          "Промышленное, бытовое электрооборудование и электротехника (продвижение, оптовая торговля)",
          "Промышленное, бытовое электрооборудование и электротехника (производство)",
          "Профессиональная, предпринимательская организация",
          "Разработка программного обеспечения",
          "Распространение мультимедиа и печатной продукции",
          "Распространение телепрограмм, кино (кабельное телевидение)",
          "Резина, пластмасса и прочее (продвижение, оптовая торговля)",
          "Резина, пластмасса и прочее (производство)",
          "Ремонт зданий и сооружений",
          "Ресторан, общественное питание, фаст-фуд",
          "Ритуальные услуги",
          "Розничная сеть (DIY и товары для дома)",
          "Розничная сеть (drogerie, товары повседневного спроса)",
          "Розничная сеть (книги, игрушки, подарки, часы и прочее)",
          "Розничная сеть (мебель)",
          "Розничная сеть (мобильный ритейл)",
          "Розничная сеть (одежда, обувь, аксессуары)",
          "Розничная сеть (парфюмерия, косметика)",
          "Розничная сеть (продуктовая)",
          "Розничная сеть (спортивные товары)",
          "Розничная сеть (товары для детей)",
          "Розничная сеть (электроника, бытовая техника)",
          "Розничная сеть (ювелирные изделия)",
          "Розничная торговля автомобилями (дилерский центр)",
          "Рыба и морепродукты (продвижение, оптовая торговля)",
          "Рыба и морепродукты (производство)",
          "Рыболовство, рыбоводство",
          "Салоны красоты",
          "Сантехника (продвижение, оптовая торговля)",
          "Сантехника (производство)",
          "Сахар (продвижение, оптовая торговля)",
          "Сахар (производство)",
          "Сбыт и потребление электроэнергии",
          "Свежие овощи, фрукты (продвижение, оптовая торговля)",
          "Сельскохозяйственная продукция (продвижение, оптовая торговля)",
          "Системная интеграция,  автоматизации технологических и бизнес-процессов предприятия, ИТ-консалтинг",
          "Складские услуги",
          "Слаботочные сети (монтаж, сервис, ремонт)",
          "Снеки (продвижение, оптовая торговля)",
          "Снеки (производство)",
          "Спортивная федерация",
          "Спортивное обучение",
          "Спортивные и фитнес-клубы",
          "Спортивные товары и оборудование (продвижение, оптовая торговля)",
          "Спортивные товары и оборудование (производство)",
          "Спутниковая связь",
          "Столярно-строительные изделия (продвижение, оптовая торговля)",
          "Столярно-строительные изделия (производство)",
          "Страхование, перестрахование",
          "Строительство дорожное и инфраструктурное",
          "Строительство жилищное",
          "Строительство коммерческих объектов (торговые площади, офисные здания)",
          "Строительство объектов металлургической отрасли",
          "Строительство объектов нефтегазовой отрасли",
          "Строительство объектов телекоммуникационной отрасли",
          "Строительство промышленное",
          "Строительство энергетическое",
          "Стройматериалы, сборные конструкции для ремонта и строительства (продвижение, оптовая торговля)",
          "Стройматериалы, сборные конструкции для ремонта и строительства (производство, монтаж, сервис, ремонт)",
          "Судоремонт",
          "Судостроение",
          "Табак  (продвижение, оптовая торговля)",
          "Табак  (производство)",
          "Такси",
          "Теле- и радиовещание",
          "Теплоснабжение (ТЭЦ)",
          "Теплоэнергетика (генерация электроэнергии и тепла, ТЭС)",
          "Техническое обслуживание, ремонт автомобилей",
          "Товары для детей (продвижение, оптовая торговля)",
          "Товары для детей (производство)",
          "Транспортировка, хранение газа",
          "Транспортировка, хранение нефти",
          "Транспортно-логистические комплексы, порты (воздушный, водный, железнодорожный)",
          "Тренинговые компании",
          "Туристические компании",
          "Управление и эксплуатация недвижимости",
          "Управляющая компания группы, холдинга, штаб-квартира",
          "Управляющая, инвестиционная компания (управление активами)",
          "Услуги по ведению бухгалтерского и налогового учета, расчет заработной платы",
          "Услуги по организации поездок и бронированию",
          "Утилизация бытовых отходов",
          "Учреждение соц.помощи и защиты",
          "Факторинговые компании",
          "Фармацевтическая продукция (продвижение, оптовая торговля)",
          "Фармацевтическая продукция (производство)",
          "Фиксированная связь",
          "Финансово-кредитное посредничество (биржа, брокерская деятельность, выпуск и обслуживание карт, оценка рисков, обменные пункты, агентства по кредитованию, инкассация, ломбард, платежные системы)",
          "Финансовые услуги (кэптивные банки и лизинговые компании)",
          "Фонд, грантодатель",
          "Фото- и видеоуслуги",
          "Химчистка",
          "Хлебобулочные изделия (продвижение, оптовая торговля)",
          "Хлебобулочные изделия (производство)",
          "Цветная металлургия (выплавка, металлопрокат)",
          "Целлюлозно-бумажная продукция (продвижение, оптовая торговля)",
          "Целлюлозно-бумажное производство",
          "Центры развлечения",
          "Чай, кофе (продвижение, оптовая торговля)",
          "Чай, кофе (производство)",
          "Черная металлургия (производство чугуна, стали, проката)",
          "Школа, детский сад",
          "Экологическое обслуживание, водоочистка, утилизация отходов",
          "Электронно-вычислительная, оптическая, контрольно-измерительная техника, радиоэлектроника, автоматика (монтаж, сервис, ремонт)",
          "Электронно-вычислительная, оптическая, контрольно-измерительная техника, радиоэлектроника, автоматика (продвижение, оптовая торговля)",
          "Электронно-вычислительная, оптическая, контрольно-измерительная техника, радиоэлектроника, автоматика (производство)",
          "Энергоснабжение",
          "Ювелирные изделия, бижутерия  (продвижение, оптовая торговля)",
          "Ювелирные изделия, бижутерия  (производство)",
          "Юридическое обслуживание"
         ],
         "labels": [
          "Авиаперевозки",
          "Авиационная, вертолетная, аэрокосмическая промышленность",
          "Автозапчасти, шины (розничная торговля)",
          "Автокомпоненты, запчасти (производство)",
          "Автокомпоненты, запчасти, шины (продвижение, оптовая торговля)",
          "Автомобильные перевозки",
          "Автошкола",
          "Агентские услуги в недвижимости",
          "Агрохимия (продвижение, оптовая торговля)",
          "Агрохимия (производство)",
          "Алкогольные напитки (продвижение, оптовая торговля)",
          "Альтернативная энергетика: гео-, ветро-, солнце-, био- (генерация электроэнергии)",
          "Аптека, оптика",
          "Аренда автомобилей",
          "Архив, библиотека, искусствоведение",
          "Архитектура, проектирование",
          "Ассоциация в сфере культуры, искусства",
          "Атомная энергетика (генерация электроэнергии, АЭС)",
          "Аудит, управленческий учет, финансово-юридический консалтинг",
          "Банк",
          "Безалкогольные напитки (продвижение, оптовая торговля)",
          "Безалкогольные напитки (производство)",
          "Безопасность, охранная деятельность",
          "Бетон, кирпич, стекло и прочие силикаты (продвижение, оптовая торговля)",
          "Бетон, кирпич, стекло и прочие силикаты (производство)",
          "Бизнес-образование",
          "Благотворительная организация",
          "Благоустройство и уборка территорий и зданий",
          "Ботанический сад, зоопарк, заповедник",
          "Бытовая техника, электроника, климатическое оборудование (монтаж, сервис, ремонт)",
          "Бытовая техника, электроника, климатическое оборудование (продвижение, оптовая торговля)",
          "Бытовая техника, электроника, климатическое оборудование (производство)",
          "Бытовая химия, парфюмерия, косметика  (продвижение, оптовая торговля)",
          "Бытовая химия, парфюмерия, косметика  (производство)",
          "ВЭД, таможенное оформление",
          "Вендинг (торговля через автоматы)",
          "Вентиляция и кондиционирование (монтаж, сервис, ремонт)",
          "Ветеринарная аптека",
          "Ветеринарная деятельность",
          "Вино (производство)",
          "Водоснабжение и канализация",
          "Вуз, ссуз колледж, ПТУ",
          "ГСМ, топливо (продвижение, оптовая торговля)",
          "ГСМ, топливо (розничная торговля)",
          "Гидроэнергетика (генерация электроэнергии, ГЭС)",
          "Гостиница",
          "Государственные организации",
          "Двигатели (монтаж, сервис, ремонт)",
          "Двигатели (продвижение, оптовая торговля)",
          "Двигатели (производство)",
          "Девелопмент",
          "Деревообработка (производство)",
          "Детское питание (продвижение, оптовая торговля)",
          "Детское питание (производство)",
          "Добыча газа",
          "Добыча и обогащение минерального сырья (соль, сера, глинозем), разработка карьеров (песок, глина, камень), добыча торфа",
          "Добыча и обогащение руд черных, цветных, драгоценных, благородных, редких металлов",
          "Добыча и обогащение угля",
          "Добыча нефти",
          "Домашний персонал",
          "Дорожно-строительная техника, сельскохозяйственная и другая спец.техника, оборудование, лифты, погрузочно-разгрузочное, складское оборудование (монтаж, сервис, ремонт)",
          "Дорожно-строительная техника, сельскохозяйственная и другая спец.техника, оборудование, лифты, погрузочно-разгрузочное, складское оборудование (продвижение, оптовая торговля)",
          "Дорожно-строительная техника, сельскохозяйственная и другая спец.техника, оборудование, лифты, погрузочно-разгрузочное, складское оборудование (производство)",
          "Драгоценные, благородные и редкие металлы (продвижение, оптовая торговля)",
          "Драгоценные, благородные и редкие металлы (производство)",
          "Железнодорожное машиностроение, вагоностроение",
          "Железнодорожные перевозки",
          "Земледелие, растениеводство, животноводство",
          "Зоомагазин",
          "Игорный бизнес",
          "Издательская деятельность",
          "Инженерно-изыскательские, гидрогеологические, геологоразведочные работы",
          "Интернет-компания (поисковики, платежные системы, соц.сети, информационно-познавательные и развлекательные ресурсы, продвижение сайтов и прочее)",
          "Интернет-магазин",
          "Интернет-провайдер",
          "Инфраструктурная компания в энергетике (СО ЕЭС, АТС, ЦФР и т.п.)",
          "Кадровые агентства",
          "Канцтовары, расходные материалы (продвижение, оптовая торговля)",
          "Канцтовары, расходные материалы (производство)",
          "Кейтеринг (выездное обслуживание)",
          "Киностудии и студии звукозаписи",
          "Клинические исследования",
          "Колл-центры, диспетчерские службы",
          "Коллекторская деятельность",
          "Кондитерские изделия (продвижение, оптовая торговля)",
          "Кондитерские изделия (производство)",
          "Консалтинг в области энергоэффективности",
          "Консалтинг, оценка в недвижимости",
          "Консалтинговые услуги",
          "Консервированная продукция (продвижение, оптовая торговля)",
          "Консервированная продукция (производство)",
          "Контроль качества, экспертиза, испытания и сертификация",
          "Корма для животных (продвижение, оптовая торговля)",
          "Корма для животных (производство)",
          "Курьерская, почтовая доставка",
          "Лаборатория, исследовательский центр",
          "Лакокрасочная продукция, сырье (продвижение, оптовая торговля)",
          "Лакокрасочная продукция, сырье (производство)",
          "Легковые, грузовые автомобили, мототехника, автобусы, троллейбусы (продвижение, оптовая торговля)",
          "Легковые, грузовые автомобили, мототехника, автобусы, троллейбусы (производство)",
          "Лечебно-профилактические учреждения",
          "Лизинговые компании",
          "Ликероводочная продукция (производство)",
          "Лифтовое хозяйство (монтаж, сервис, ремонт)",
          "Макаронные изделия (продвижение, оптовая торговля)",
          "Макаронные изделия (производство)",
          "Маркетинговые, рекламные, BTL, дизайнерские, Event-, PR-агентства, организация выставок",
          "Масложировая продукция (продвижение, оптовая торговля)",
          "Масложировая продукция (производство)",
          "Мебель (продвижение, оптовая торговля)",
          "Мебель (производство)",
          "Медицинское, диагностическое оборудование, инструменты (монтаж, сервис, ремонт)",
          "Медицинское, диагностическое оборудование, инструменты (продвижение, оптовая торговля)",
          "Медицинское, диагностическое оборудование, инструменты (производство)",
          "Металлические изделия, металлоконструкции (продвижение, оптовая торговля)",
          "Металлические изделия, металлоконструкции (производство)",
          "Мобильная связь",
          "Молочная продукция (продвижение, оптовая торговля)",
          "Молочная продукция (производство)",
          "Морские, речные перевозки",
          "Музей, галерея, театр",
          "Мука, крупы (продвижение, оптовая торговля)",
          "Мука, крупы (производство)",
          "Мясная продукция (продвижение, оптовая торговля)",
          "Мясная продукция (производство)",
          "НПФ",
          "Научно-исследовательская, научная, академическая деятельность",
          "Неорганическая химия (продвижение, оптовая торговля)",
          "Неорганическая химия (производство)",
          "Несетевая розница, мелкий опт",
          "Нефтепереработка, нефтехимия (производство)",
          "Нефтехимия (продвижение, оптовая торговля)",
          "Обеспечение пожарной безопасности, молниезащиты",
          "Оборудование для деревообработки, заготовки леса, целлюлозно-бумажной промышленности (монтаж, сервис, ремонт)",
          "Оборудование для деревообработки, заготовки леса, целлюлозно-бумажной промышленности (продвижение, оптовая торговля)",
          "Оборудование для деревообработки, заготовки леса, целлюлозно-бумажной промышленности (производство)",
          "Оборудование для пищевой промышленности, упаковки и хранения (монтаж, сервис, ремонт)",
          "Оборудование для пищевой промышленности, упаковки и хранения (продвижение, оптовая торговля)",
          "Оборудование для пищевой промышленности, упаковки и хранения (производство)",
          "Оборудование для ресторанов, гостиниц, кейтеринга, розничной торговли  (монтаж, сервис, ремонт)",
          "Оборудование для ресторанов, гостиниц, кейтеринга, розничной торговли  (продвижение, оптовая торговля)",
          "Оборудование для ресторанов, гостиниц, кейтеринга, розничной торговли (производство)",
          "Оборудование и станки для добывающей, энергетической, нефтегазовой и химической отрасли  (монтаж, сервис, ремонт)",
          "Оборудование и станки для добывающей, энергетической, нефтегазовой и химической отрасли  (продвижение, оптовая торговля)",
          "Оборудование и станки для добывающей, энергетической, нефтегазовой и химической отрасли  (производство)",
          "Оборудование и станки для металлургии и металлообработки (монтаж, сервис, ремонт)",
          "Оборудование и станки для металлургии и металлообработки (продвижение, оптовая торговля)",
          "Оборудование и станки для металлургии и металлообработки (производство)",
          "Оборудование и станки для отраслей легкой промышленности (монтаж, сервис, ремонт)",
          "Оборудование и станки для отраслей легкой промышленности (продвижение, оптовая торговля)",
          "Оборудование и станки для отраслей легкой промышленности (производство)",
          "Обучение иностранным языкам",
          "Обучение искусствам (рисование, пение, танцы, фото)",
          "Общественная, политическая организация",
          "Одежда, обувь, аксессуары, текстиль  (продвижение, оптовая торговля)",
          "Одежда, обувь, аксессуары, текстиль (производство)",
          "Оптоволоконная связь",
          "Органическая химия (продвижение, оптовая торговля)",
          "Органическая химия (производство)",
          "Переводческая деятельность",
          "Передача, распределение электроэнергии",
          "Переработка газа",
          "Пиво (производство)",
          "Пищевые концентраты (продвижение, оптовая торговля)",
          "Пищевые концентраты (производство)",
          "Повышение квалификации, переквалификация",
          "Полуфабрикаты, в том числе замороженные  (продвижение, оптовая торговля)",
          "Полуфабрикаты, в том числе замороженные (производство)",
          "Посуда, свет, товары для дома  (продвижение, оптовая торговля)",
          "Посуда, свет, товары для дома  (производство)",
          "Пошив, ремонт одежды и обуви",
          "Продукция авиационной, аэрокосмической, вертолетной промышленности (монтаж, сервис, ремонт)",
          "Продукция авиационной, аэрокосмической, вертолетной промышленности (продвижение, оптовая торговля)",
          "Продукция деревообработки (продвижение, оптовая торговля)",
          "Продукция железнодорожного машиностроения, вагоностроения (монтаж, сервис, ремонт)",
          "Продукция железнодорожного машиностроения, вагоностроения (продвижение, оптовая торговля)",
          "Продукция судостроения (продвижение, оптовая торговля)",
          "Продукция цветной металлургии (продвижение, оптовая торговля)",
          "Продукция черной металлургии (продвижение, оптовая торговля)",
          "Продюсерский центр",
          "Производство и продажа рекламно-сувенирной продукции",
          "Производство и ремонт военной техники, оборудования и вооружения",
          "Производство мультимедиа, контента, редакторская деятельность",
          "Производство печатной, полиграфической продукции",
          "Промышленное, бытовое электрооборудование и электротехника (монтаж, сервис, ремонт)",
          "Промышленное, бытовое электрооборудование и электротехника (продвижение, оптовая торговля)",
          "Промышленное, бытовое электрооборудование и электротехника (производство)",
          "Профессиональная, предпринимательская организация",
          "Разработка программного обеспечения",
          "Распространение мультимедиа и печатной продукции",
          "Распространение телепрограмм, кино (кабельное телевидение)",
          "Резина, пластмасса и прочее (продвижение, оптовая торговля)",
          "Резина, пластмасса и прочее (производство)",
          "Ремонт зданий и сооружений",
          "Ресторан, общественное питание, фаст-фуд",
          "Ритуальные услуги",
          "Розничная сеть (DIY и товары для дома)",
          "Розничная сеть (drogerie, товары повседневного спроса)",
          "Розничная сеть (книги, игрушки, подарки, часы и прочее)",
          "Розничная сеть (мебель)",
          "Розничная сеть (мобильный ритейл)",
          "Розничная сеть (одежда, обувь, аксессуары)",
          "Розничная сеть (парфюмерия, косметика)",
          "Розничная сеть (продуктовая)",
          "Розничная сеть (спортивные товары)",
          "Розничная сеть (товары для детей)",
          "Розничная сеть (электроника, бытовая техника)",
          "Розничная сеть (ювелирные изделия)",
          "Розничная торговля автомобилями (дилерский центр)",
          "Рыба и морепродукты (продвижение, оптовая торговля)",
          "Рыба и морепродукты (производство)",
          "Рыболовство, рыбоводство",
          "Салоны красоты",
          "Сантехника (продвижение, оптовая торговля)",
          "Сантехника (производство)",
          "Сахар (продвижение, оптовая торговля)",
          "Сахар (производство)",
          "Сбыт и потребление электроэнергии",
          "Свежие овощи, фрукты (продвижение, оптовая торговля)",
          "Сельскохозяйственная продукция (продвижение, оптовая торговля)",
          "Системная интеграция,  автоматизации технологических и бизнес-процессов предприятия, ИТ-консалтинг",
          "Складские услуги",
          "Слаботочные сети (монтаж, сервис, ремонт)",
          "Снеки (продвижение, оптовая торговля)",
          "Снеки (производство)",
          "Спортивная федерация",
          "Спортивное обучение",
          "Спортивные и фитнес-клубы",
          "Спортивные товары и оборудование (продвижение, оптовая торговля)",
          "Спортивные товары и оборудование (производство)",
          "Спутниковая связь",
          "Столярно-строительные изделия (продвижение, оптовая торговля)",
          "Столярно-строительные изделия (производство)",
          "Страхование, перестрахование",
          "Строительство дорожное и инфраструктурное",
          "Строительство жилищное",
          "Строительство коммерческих объектов (торговые площади, офисные здания)",
          "Строительство объектов металлургической отрасли",
          "Строительство объектов нефтегазовой отрасли",
          "Строительство объектов телекоммуникационной отрасли",
          "Строительство промышленное",
          "Строительство энергетическое",
          "Стройматериалы, сборные конструкции для ремонта и строительства (продвижение, оптовая торговля)",
          "Стройматериалы, сборные конструкции для ремонта и строительства (производство, монтаж, сервис, ремонт)",
          "Судоремонт",
          "Судостроение",
          "Табак  (продвижение, оптовая торговля)",
          "Табак  (производство)",
          "Такси",
          "Теле- и радиовещание",
          "Теплоснабжение (ТЭЦ)",
          "Теплоэнергетика (генерация электроэнергии и тепла, ТЭС)",
          "Техническое обслуживание, ремонт автомобилей",
          "Товары для детей (продвижение, оптовая торговля)",
          "Товары для детей (производство)",
          "Транспортировка, хранение газа",
          "Транспортировка, хранение нефти",
          "Транспортно-логистические комплексы, порты (воздушный, водный, железнодорожный)",
          "Тренинговые компании",
          "Туристические компании",
          "Управление и эксплуатация недвижимости",
          "Управляющая компания группы, холдинга, штаб-квартира",
          "Управляющая, инвестиционная компания (управление активами)",
          "Услуги по ведению бухгалтерского и налогового учета, расчет заработной платы",
          "Услуги по организации поездок и бронированию",
          "Утилизация бытовых отходов",
          "Учреждение соц.помощи и защиты",
          "Факторинговые компании",
          "Фармацевтическая продукция (продвижение, оптовая торговля)",
          "Фармацевтическая продукция (производство)",
          "Фиксированная связь",
          "Финансово-кредитное посредничество (биржа, брокерская деятельность, выпуск и обслуживание карт, оценка рисков, обменные пункты, агентства по кредитованию, инкассация, ломбард, платежные системы)",
          "Финансовые услуги (кэптивные банки и лизинговые компании)",
          "Фонд, грантодатель",
          "Фото- и видеоуслуги",
          "Химчистка",
          "Хлебобулочные изделия (продвижение, оптовая торговля)",
          "Хлебобулочные изделия (производство)",
          "Цветная металлургия (выплавка, металлопрокат)",
          "Целлюлозно-бумажная продукция (продвижение, оптовая торговля)",
          "Целлюлозно-бумажное производство",
          "Центры развлечения",
          "Чай, кофе (продвижение, оптовая торговля)",
          "Чай, кофе (производство)",
          "Черная металлургия (производство чугуна, стали, проката)",
          "Школа, детский сад",
          "Экологическое обслуживание, водоочистка, утилизация отходов",
          "Электронно-вычислительная, оптическая, контрольно-измерительная техника, радиоэлектроника, автоматика (монтаж, сервис, ремонт)",
          "Электронно-вычислительная, оптическая, контрольно-измерительная техника, радиоэлектроника, автоматика (продвижение, оптовая торговля)",
          "Электронно-вычислительная, оптическая, контрольно-измерительная техника, радиоэлектроника, автоматика (производство)",
          "Энергоснабжение",
          "Ювелирные изделия, бижутерия  (продвижение, оптовая торговля)",
          "Ювелирные изделия, бижутерия  (производство)",
          "Юридическое обслуживание"
         ],
         "name": "",
         "parents": [
          "",
          "",
          "",
          "",
          "",
          "",
          "",
          "",
          "",
          "",
          "",
          "",
          "",
          "",
          "",
          "",
          "",
          "",
          "",
          "",
          "",
          "",
          "",
          "",
          "",
          "",
          "",
          "",
          "",
          "",
          "",
          "",
          "",
          "",
          "",
          "",
          "",
          "",
          "",
          "",
          "",
          "",
          "",
          "",
          "",
          "",
          "",
          "",
          "",
          "",
          "",
          "",
          "",
          "",
          "",
          "",
          "",
          "",
          "",
          "",
          "",
          "",
          "",
          "",
          "",
          "",
          "",
          "",
          "",
          "",
          "",
          "",
          "",
          "",
          "",
          "",
          "",
          "",
          "",
          "",
          "",
          "",
          "",
          "",
          "",
          "",
          "",
          "",
          "",
          "",
          "",
          "",
          "",
          "",
          "",
          "",
          "",
          "",
          "",
          "",
          "",
          "",
          "",
          "",
          "",
          "",
          "",
          "",
          "",
          "",
          "",
          "",
          "",
          "",
          "",
          "",
          "",
          "",
          "",
          "",
          "",
          "",
          "",
          "",
          "",
          "",
          "",
          "",
          "",
          "",
          "",
          "",
          "",
          "",
          "",
          "",
          "",
          "",
          "",
          "",
          "",
          "",
          "",
          "",
          "",
          "",
          "",
          "",
          "",
          "",
          "",
          "",
          "",
          "",
          "",
          "",
          "",
          "",
          "",
          "",
          "",
          "",
          "",
          "",
          "",
          "",
          "",
          "",
          "",
          "",
          "",
          "",
          "",
          "",
          "",
          "",
          "",
          "",
          "",
          "",
          "",
          "",
          "",
          "",
          "",
          "",
          "",
          "",
          "",
          "",
          "",
          "",
          "",
          "",
          "",
          "",
          "",
          "",
          "",
          "",
          "",
          "",
          "",
          "",
          "",
          "",
          "",
          "",
          "",
          "",
          "",
          "",
          "",
          "",
          "",
          "",
          "",
          "",
          "",
          "",
          "",
          "",
          "",
          "",
          "",
          "",
          "",
          "",
          "",
          "",
          "",
          "",
          "",
          "",
          "",
          "",
          "",
          "",
          "",
          "",
          "",
          "",
          "",
          "",
          "",
          "",
          "",
          "",
          "",
          "",
          "",
          "",
          "",
          "",
          "",
          "",
          "",
          "",
          "",
          "",
          "",
          "",
          "",
          "",
          "",
          "",
          "",
          "",
          "",
          "",
          "",
          "",
          "",
          "",
          "",
          "",
          "",
          "",
          "",
          "",
          "",
          "",
          "",
          "",
          "",
          "",
          "",
          "",
          "",
          "",
          "",
          "",
          "",
          ""
         ],
         "type": "treemap",
         "values": [
          0.3,
          0.36,
          0.9,
          0.57,
          0.96,
          0.98,
          0.01,
          0.52,
          0.07,
          0.06,
          0.34,
          0.1,
          0.62,
          0.08,
          0.06,
          1.47,
          0,
          0.1,
          0.41,
          1.06,
          0.45,
          0.31,
          0.57,
          0.14,
          0.15,
          0.58,
          0.02,
          0.21,
          0.01,
          0.39,
          0.69,
          0.36,
          0.71,
          0.49,
          0.3,
          0.1,
          0.14,
          0.03,
          0.06,
          0.04,
          0.26,
          0.4,
          0.31,
          0.3,
          0.06,
          0.54,
          1.19,
          0.1,
          0.1,
          0.2,
          0.67,
          0.28,
          0.11,
          0.04,
          0.18,
          0.22,
          0.21,
          0.14,
          0.27,
          0.04,
          0.36,
          0.49,
          0.33,
          0.06,
          0.08,
          0.11,
          0.3,
          0.5,
          0.07,
          0.06,
          0.58,
          0.31,
          7.13,
          1.49,
          0.75,
          0.26,
          1.66,
          0.17,
          0.08,
          0.14,
          0.15,
          0.34,
          0.39,
          0.09,
          0.47,
          0.43,
          0.16,
          0.3,
          2.82,
          0.12,
          0.04,
          0.22,
          0.14,
          0.07,
          0.23,
          0.4,
          0.15,
          0.12,
          0.55,
          0.39,
          1.16,
          0.15,
          0.06,
          0.02,
          0.11,
          0.08,
          3.4,
          0.21,
          0.12,
          0.62,
          0.66,
          0.18,
          0.42,
          0.29,
          0.54,
          1.26,
          0.66,
          0.3,
          0.41,
          0.23,
          0.12,
          0.09,
          0.07,
          0.4,
          0.45,
          0.04,
          0.49,
          0.17,
          0.16,
          0.67,
          0.41,
          0.26,
          0.13,
          0.04,
          0.08,
          0.05,
          0.11,
          0.26,
          0.37,
          0.13,
          0.14,
          0.09,
          0.47,
          0.66,
          0.86,
          0.17,
          0.22,
          0.27,
          0.16,
          0.18,
          0.2,
          0.18,
          0.15,
          0.05,
          0.72,
          0.66,
          0.81,
          0.16,
          0.16,
          0.1,
          0.4,
          0.06,
          0.07,
          0.06,
          0.09,
          0.6,
          0.19,
          0.23,
          0.4,
          0.25,
          0.03,
          0.11,
          0.1,
          0.22,
          0.11,
          0.07,
          0.06,
          0.14,
          0.31,
          0.15,
          0.15,
          0.29,
          0.97,
          0.83,
          0.51,
          1.38,
          1.41,
          0.09,
          15.12,
          0.34,
          0.14,
          0.14,
          0.38,
          0.14,
          1.1,
          0.02,
          0.77,
          0.29,
          0.32,
          0.52,
          0.16,
          0.89,
          0.36,
          1.57,
          0.12,
          0.15,
          0.74,
          0.23,
          0.79,
          0.11,
          0.09,
          0.03,
          0.13,
          0.38,
          0.15,
          0.03,
          0.03,
          0.18,
          0.04,
          0.62,
          12.74,
          0.4,
          0.18,
          0.13,
          0.11,
          0.03,
          0.06,
          0.19,
          0.11,
          0.06,
          0.31,
          0.1,
          0.11,
          0.33,
          0.55,
          1.26,
          1.41,
          0.14,
          0.44,
          0.22,
          0.97,
          0.47,
          1.12,
          0.51,
          0.06,
          0.12,
          0.08,
          0.06,
          0.05,
          0.23,
          0.18,
          0.24,
          0.91,
          0.2,
          0.14,
          0.14,
          0.14,
          0.57,
          0.32,
          0.3,
          0.72,
          0.26,
          0.49,
          0.42,
          0.15,
          0.1,
          0.06,
          0.05,
          0.94,
          0.68,
          0.53,
          0.89,
          0.13,
          0.02,
          0.1,
          0.03,
          0.09,
          0.18,
          0.14,
          0.08,
          0.08,
          0.32,
          0.24,
          0.08,
          0.19,
          0.27,
          0.11,
          0.79,
          1.59,
          1.29,
          0.12,
          0.17,
          0.17,
          0.44
         ]
        }
       ],
       "layout": {
        "height": 500,
        "legend": {
         "tracegroupgap": 0
        },
        "margin": {
         "b": 10,
         "l": 10,
         "r": 10,
         "t": 60
        },
        "template": {
         "data": {
          "bar": [
           {
            "error_x": {
             "color": "#2a3f5f"
            },
            "error_y": {
             "color": "#2a3f5f"
            },
            "marker": {
             "line": {
              "color": "#E5ECF6",
              "width": 0.5
             },
             "pattern": {
              "fillmode": "overlay",
              "size": 10,
              "solidity": 0.2
             }
            },
            "type": "bar"
           }
          ],
          "barpolar": [
           {
            "marker": {
             "line": {
              "color": "#E5ECF6",
              "width": 0.5
             },
             "pattern": {
              "fillmode": "overlay",
              "size": 10,
              "solidity": 0.2
             }
            },
            "type": "barpolar"
           }
          ],
          "carpet": [
           {
            "aaxis": {
             "endlinecolor": "#2a3f5f",
             "gridcolor": "white",
             "linecolor": "white",
             "minorgridcolor": "white",
             "startlinecolor": "#2a3f5f"
            },
            "baxis": {
             "endlinecolor": "#2a3f5f",
             "gridcolor": "white",
             "linecolor": "white",
             "minorgridcolor": "white",
             "startlinecolor": "#2a3f5f"
            },
            "type": "carpet"
           }
          ],
          "choropleth": [
           {
            "colorbar": {
             "outlinewidth": 0,
             "ticks": ""
            },
            "type": "choropleth"
           }
          ],
          "contour": [
           {
            "colorbar": {
             "outlinewidth": 0,
             "ticks": ""
            },
            "colorscale": [
             [
              0,
              "#0d0887"
             ],
             [
              0.1111111111111111,
              "#46039f"
             ],
             [
              0.2222222222222222,
              "#7201a8"
             ],
             [
              0.3333333333333333,
              "#9c179e"
             ],
             [
              0.4444444444444444,
              "#bd3786"
             ],
             [
              0.5555555555555556,
              "#d8576b"
             ],
             [
              0.6666666666666666,
              "#ed7953"
             ],
             [
              0.7777777777777778,
              "#fb9f3a"
             ],
             [
              0.8888888888888888,
              "#fdca26"
             ],
             [
              1,
              "#f0f921"
             ]
            ],
            "type": "contour"
           }
          ],
          "contourcarpet": [
           {
            "colorbar": {
             "outlinewidth": 0,
             "ticks": ""
            },
            "type": "contourcarpet"
           }
          ],
          "heatmap": [
           {
            "colorbar": {
             "outlinewidth": 0,
             "ticks": ""
            },
            "colorscale": [
             [
              0,
              "#0d0887"
             ],
             [
              0.1111111111111111,
              "#46039f"
             ],
             [
              0.2222222222222222,
              "#7201a8"
             ],
             [
              0.3333333333333333,
              "#9c179e"
             ],
             [
              0.4444444444444444,
              "#bd3786"
             ],
             [
              0.5555555555555556,
              "#d8576b"
             ],
             [
              0.6666666666666666,
              "#ed7953"
             ],
             [
              0.7777777777777778,
              "#fb9f3a"
             ],
             [
              0.8888888888888888,
              "#fdca26"
             ],
             [
              1,
              "#f0f921"
             ]
            ],
            "type": "heatmap"
           }
          ],
          "heatmapgl": [
           {
            "colorbar": {
             "outlinewidth": 0,
             "ticks": ""
            },
            "colorscale": [
             [
              0,
              "#0d0887"
             ],
             [
              0.1111111111111111,
              "#46039f"
             ],
             [
              0.2222222222222222,
              "#7201a8"
             ],
             [
              0.3333333333333333,
              "#9c179e"
             ],
             [
              0.4444444444444444,
              "#bd3786"
             ],
             [
              0.5555555555555556,
              "#d8576b"
             ],
             [
              0.6666666666666666,
              "#ed7953"
             ],
             [
              0.7777777777777778,
              "#fb9f3a"
             ],
             [
              0.8888888888888888,
              "#fdca26"
             ],
             [
              1,
              "#f0f921"
             ]
            ],
            "type": "heatmapgl"
           }
          ],
          "histogram": [
           {
            "marker": {
             "pattern": {
              "fillmode": "overlay",
              "size": 10,
              "solidity": 0.2
             }
            },
            "type": "histogram"
           }
          ],
          "histogram2d": [
           {
            "colorbar": {
             "outlinewidth": 0,
             "ticks": ""
            },
            "colorscale": [
             [
              0,
              "#0d0887"
             ],
             [
              0.1111111111111111,
              "#46039f"
             ],
             [
              0.2222222222222222,
              "#7201a8"
             ],
             [
              0.3333333333333333,
              "#9c179e"
             ],
             [
              0.4444444444444444,
              "#bd3786"
             ],
             [
              0.5555555555555556,
              "#d8576b"
             ],
             [
              0.6666666666666666,
              "#ed7953"
             ],
             [
              0.7777777777777778,
              "#fb9f3a"
             ],
             [
              0.8888888888888888,
              "#fdca26"
             ],
             [
              1,
              "#f0f921"
             ]
            ],
            "type": "histogram2d"
           }
          ],
          "histogram2dcontour": [
           {
            "colorbar": {
             "outlinewidth": 0,
             "ticks": ""
            },
            "colorscale": [
             [
              0,
              "#0d0887"
             ],
             [
              0.1111111111111111,
              "#46039f"
             ],
             [
              0.2222222222222222,
              "#7201a8"
             ],
             [
              0.3333333333333333,
              "#9c179e"
             ],
             [
              0.4444444444444444,
              "#bd3786"
             ],
             [
              0.5555555555555556,
              "#d8576b"
             ],
             [
              0.6666666666666666,
              "#ed7953"
             ],
             [
              0.7777777777777778,
              "#fb9f3a"
             ],
             [
              0.8888888888888888,
              "#fdca26"
             ],
             [
              1,
              "#f0f921"
             ]
            ],
            "type": "histogram2dcontour"
           }
          ],
          "mesh3d": [
           {
            "colorbar": {
             "outlinewidth": 0,
             "ticks": ""
            },
            "type": "mesh3d"
           }
          ],
          "parcoords": [
           {
            "line": {
             "colorbar": {
              "outlinewidth": 0,
              "ticks": ""
             }
            },
            "type": "parcoords"
           }
          ],
          "pie": [
           {
            "automargin": true,
            "type": "pie"
           }
          ],
          "scatter": [
           {
            "fillpattern": {
             "fillmode": "overlay",
             "size": 10,
             "solidity": 0.2
            },
            "type": "scatter"
           }
          ],
          "scatter3d": [
           {
            "line": {
             "colorbar": {
              "outlinewidth": 0,
              "ticks": ""
             }
            },
            "marker": {
             "colorbar": {
              "outlinewidth": 0,
              "ticks": ""
             }
            },
            "type": "scatter3d"
           }
          ],
          "scattercarpet": [
           {
            "marker": {
             "colorbar": {
              "outlinewidth": 0,
              "ticks": ""
             }
            },
            "type": "scattercarpet"
           }
          ],
          "scattergeo": [
           {
            "marker": {
             "colorbar": {
              "outlinewidth": 0,
              "ticks": ""
             }
            },
            "type": "scattergeo"
           }
          ],
          "scattergl": [
           {
            "marker": {
             "colorbar": {
              "outlinewidth": 0,
              "ticks": ""
             }
            },
            "type": "scattergl"
           }
          ],
          "scattermapbox": [
           {
            "marker": {
             "colorbar": {
              "outlinewidth": 0,
              "ticks": ""
             }
            },
            "type": "scattermapbox"
           }
          ],
          "scatterpolar": [
           {
            "marker": {
             "colorbar": {
              "outlinewidth": 0,
              "ticks": ""
             }
            },
            "type": "scatterpolar"
           }
          ],
          "scatterpolargl": [
           {
            "marker": {
             "colorbar": {
              "outlinewidth": 0,
              "ticks": ""
             }
            },
            "type": "scatterpolargl"
           }
          ],
          "scatterternary": [
           {
            "marker": {
             "colorbar": {
              "outlinewidth": 0,
              "ticks": ""
             }
            },
            "type": "scatterternary"
           }
          ],
          "surface": [
           {
            "colorbar": {
             "outlinewidth": 0,
             "ticks": ""
            },
            "colorscale": [
             [
              0,
              "#0d0887"
             ],
             [
              0.1111111111111111,
              "#46039f"
             ],
             [
              0.2222222222222222,
              "#7201a8"
             ],
             [
              0.3333333333333333,
              "#9c179e"
             ],
             [
              0.4444444444444444,
              "#bd3786"
             ],
             [
              0.5555555555555556,
              "#d8576b"
             ],
             [
              0.6666666666666666,
              "#ed7953"
             ],
             [
              0.7777777777777778,
              "#fb9f3a"
             ],
             [
              0.8888888888888888,
              "#fdca26"
             ],
             [
              1,
              "#f0f921"
             ]
            ],
            "type": "surface"
           }
          ],
          "table": [
           {
            "cells": {
             "fill": {
              "color": "#EBF0F8"
             },
             "line": {
              "color": "white"
             }
            },
            "header": {
             "fill": {
              "color": "#C8D4E3"
             },
             "line": {
              "color": "white"
             }
            },
            "type": "table"
           }
          ]
         },
         "layout": {
          "annotationdefaults": {
           "arrowcolor": "#2a3f5f",
           "arrowhead": 0,
           "arrowwidth": 1
          },
          "autotypenumbers": "strict",
          "coloraxis": {
           "colorbar": {
            "outlinewidth": 0,
            "ticks": ""
           }
          },
          "colorscale": {
           "diverging": [
            [
             0,
             "#8e0152"
            ],
            [
             0.1,
             "#c51b7d"
            ],
            [
             0.2,
             "#de77ae"
            ],
            [
             0.3,
             "#f1b6da"
            ],
            [
             0.4,
             "#fde0ef"
            ],
            [
             0.5,
             "#f7f7f7"
            ],
            [
             0.6,
             "#e6f5d0"
            ],
            [
             0.7,
             "#b8e186"
            ],
            [
             0.8,
             "#7fbc41"
            ],
            [
             0.9,
             "#4d9221"
            ],
            [
             1,
             "#276419"
            ]
           ],
           "sequential": [
            [
             0,
             "#0d0887"
            ],
            [
             0.1111111111111111,
             "#46039f"
            ],
            [
             0.2222222222222222,
             "#7201a8"
            ],
            [
             0.3333333333333333,
             "#9c179e"
            ],
            [
             0.4444444444444444,
             "#bd3786"
            ],
            [
             0.5555555555555556,
             "#d8576b"
            ],
            [
             0.6666666666666666,
             "#ed7953"
            ],
            [
             0.7777777777777778,
             "#fb9f3a"
            ],
            [
             0.8888888888888888,
             "#fdca26"
            ],
            [
             1,
             "#f0f921"
            ]
           ],
           "sequentialminus": [
            [
             0,
             "#0d0887"
            ],
            [
             0.1111111111111111,
             "#46039f"
            ],
            [
             0.2222222222222222,
             "#7201a8"
            ],
            [
             0.3333333333333333,
             "#9c179e"
            ],
            [
             0.4444444444444444,
             "#bd3786"
            ],
            [
             0.5555555555555556,
             "#d8576b"
            ],
            [
             0.6666666666666666,
             "#ed7953"
            ],
            [
             0.7777777777777778,
             "#fb9f3a"
            ],
            [
             0.8888888888888888,
             "#fdca26"
            ],
            [
             1,
             "#f0f921"
            ]
           ]
          },
          "colorway": [
           "#636efa",
           "#EF553B",
           "#00cc96",
           "#ab63fa",
           "#FFA15A",
           "#19d3f3",
           "#FF6692",
           "#B6E880",
           "#FF97FF",
           "#FECB52"
          ],
          "font": {
           "color": "#2a3f5f"
          },
          "geo": {
           "bgcolor": "white",
           "lakecolor": "white",
           "landcolor": "#E5ECF6",
           "showlakes": true,
           "showland": true,
           "subunitcolor": "white"
          },
          "hoverlabel": {
           "align": "left"
          },
          "hovermode": "closest",
          "mapbox": {
           "style": "light"
          },
          "paper_bgcolor": "white",
          "plot_bgcolor": "#E5ECF6",
          "polar": {
           "angularaxis": {
            "gridcolor": "white",
            "linecolor": "white",
            "ticks": ""
           },
           "bgcolor": "#E5ECF6",
           "radialaxis": {
            "gridcolor": "white",
            "linecolor": "white",
            "ticks": ""
           }
          },
          "scene": {
           "xaxis": {
            "backgroundcolor": "#E5ECF6",
            "gridcolor": "white",
            "gridwidth": 2,
            "linecolor": "white",
            "showbackground": true,
            "ticks": "",
            "zerolinecolor": "white"
           },
           "yaxis": {
            "backgroundcolor": "#E5ECF6",
            "gridcolor": "white",
            "gridwidth": 2,
            "linecolor": "white",
            "showbackground": true,
            "ticks": "",
            "zerolinecolor": "white"
           },
           "zaxis": {
            "backgroundcolor": "#E5ECF6",
            "gridcolor": "white",
            "gridwidth": 2,
            "linecolor": "white",
            "showbackground": true,
            "ticks": "",
            "zerolinecolor": "white"
           }
          },
          "shapedefaults": {
           "line": {
            "color": "#2a3f5f"
           }
          },
          "ternary": {
           "aaxis": {
            "gridcolor": "white",
            "linecolor": "white",
            "ticks": ""
           },
           "baxis": {
            "gridcolor": "white",
            "linecolor": "white",
            "ticks": ""
           },
           "bgcolor": "#E5ECF6",
           "caxis": {
            "gridcolor": "white",
            "linecolor": "white",
            "ticks": ""
           }
          },
          "title": {
           "x": 0.05
          },
          "xaxis": {
           "automargin": true,
           "gridcolor": "white",
           "linecolor": "white",
           "ticks": "",
           "title": {
            "standoff": 15
           },
           "zerolinecolor": "white",
           "zerolinewidth": 2
          },
          "yaxis": {
           "automargin": true,
           "gridcolor": "white",
           "linecolor": "white",
           "ticks": "",
           "title": {
            "standoff": 15
           },
           "zerolinecolor": "white",
           "zerolinewidth": 2
          }
         }
        },
        "title": {
         "font": {
          "size": 24
         },
         "text": "Процентное распределение работодателей по сферам деятельности",
         "x": 0.5,
         "y": 0.95
        },
        "width": 1000
       }
      }
     },
     "metadata": {},
     "output_type": "display_data"
    }
   ],
   "source": [
    "# Получим распределение работодателей по сферам деятельности.\n",
    "query_7_1 = f'''SELECT\n",
    "                    i.name AS industries,\n",
    "                    COUNT(e.id) AS count_emp,\n",
    "                    -- Для подсчета доли от общего числа воспользуемся подзапросом\n",
    "                    ROUND(100.0*COUNT(e.id)/(SELECT COUNT(id) FROM public.employers), 2) AS percent\n",
    "                FROM public.employers AS e\n",
    "                JOIN public.employers_industries AS ei \n",
    "                    ON e.id = ei.employer_id\n",
    "                JOIN public.industries AS i \n",
    "                    ON ei.industry_id = i.id\n",
    "                GROUP BY i.name\n",
    "                ORDER BY count_emp\n",
    "            '''\n",
    "ind_emp = pd.read_sql_query(query_7_1, connection)\n",
    "# Посмотрим на результат.\n",
    "display(ind_emp)\n",
    "\n",
    "# Выведем пример професий не относящихся к ИТ.\n",
    "query_7_2 = f'''SELECT \n",
    "                    COUNT(*)\n",
    "                FROM public.vacancies\n",
    "                WHERE name ILIKE '%%столяр%%'\n",
    "            '''\n",
    "not_it_ind = pd.read_sql_query(query_7_2, connection)\n",
    "display(f'Количество вакансий имеющих отношение к столярному делу: {not_it_ind.iloc[0][0]}')\n",
    "\n",
    "# Строим столбчатую диаграмму.\n",
    "fig = px.treemap(\n",
    "    ind_emp,\n",
    "    path=['industries'],\n",
    "    values='percent',   \n",
    "    height=500,\n",
    "    width=1000\n",
    "    )\n",
    "# Настраиваем отображение всплывающего текста и названия графика.\n",
    "fig.update_traces(hovertemplate='%{label}<br>Процент от общего числа работодателей: %{value}%<extra></extra>')\n",
    "fig.update_layout(title=dict(\n",
    "                             text='Процентное распределение работодателей по сферам деятельности',\n",
    "                             x=0.5,\n",
    "                             y=0.95,\n",
    "                             font=dict(size=24)\n",
    "                             ),\n",
    "                  margin=dict(t=60, l=10, r=10, b=10)\n",
    "                  )\n",
    "fig.show()"
   ]
  },
  {
   "attachments": {},
   "cell_type": "markdown",
   "metadata": {},
   "source": [
    "***\n",
    "Распределение работодателей по сферам деятельности показывает, что в тройку лидеров входят работодатели напрямую связанные с IT-сферой (\"Разработка программного обеспечения\", \"Системная интеграция, автоматизации технологических и бизнес-процессов предприятия, ИТ-консалтинг\", \"Интернет-компания (поисковики, платежные системы, соц.сети, информационно-познавательные и развлекательные ресурсы, продвижение сайтов и прочее)\"). Можно сделать вывод, что преимущественно база содержит сведенья о вакансиях связанных с IT. Однако, в базе присутствуют профессии не относящиеся к IT. Например, 11 вакансий имеют отношение к столярному делу. Возможно стоит провести доплонительную очистку данных раз речь идет о рекомендательной системе для IT професий."
   ]
  },
  {
   "attachments": {},
   "cell_type": "markdown",
   "metadata": {},
   "source": [
    "2. Посмотрим на количество вакансий у которых в качестве региона указана страна."
   ]
  },
  {
   "cell_type": "code",
   "execution_count": 73,
   "metadata": {},
   "outputs": [
    {
     "data": {
      "text/plain": [
       "'Общее количество вакансий у которых в качестве региона указана страна: 632'"
      ]
     },
     "metadata": {},
     "output_type": "display_data"
    },
    {
     "data": {
      "application/vnd.plotly.v1+json": {
       "config": {
        "plotlyServerURL": "https://plot.ly"
       },
       "data": [
        {
         "alignmentgroup": "True",
         "hovertemplate": "тип рабочего графика=Гибкий график<br>страна=%{x}<br>количество вакансий=%{y}<extra></extra>",
         "legendgroup": "Гибкий график",
         "marker": {
          "color": "#636efa",
          "pattern": {
           "shape": ""
          }
         },
         "name": "Гибкий график",
         "offsetgroup": "Гибкий график",
         "orientation": "v",
         "showlegend": true,
         "textposition": "auto",
         "type": "bar",
         "x": [
          "Армения",
          "Кипр",
          "Литва",
          "Польша",
          "Турция"
         ],
         "xaxis": "x",
         "y": [
          15,
          3,
          1,
          3,
          5
         ],
         "yaxis": "y"
        },
        {
         "alignmentgroup": "True",
         "hovertemplate": "тип рабочего графика=Полный день<br>страна=%{x}<br>количество вакансий=%{y}<extra></extra>",
         "legendgroup": "Полный день",
         "marker": {
          "color": "#EF553B",
          "pattern": {
           "shape": ""
          }
         },
         "name": "Полный день",
         "offsetgroup": "Полный день",
         "orientation": "v",
         "showlegend": true,
         "textposition": "auto",
         "type": "bar",
         "x": [
          "Австрия",
          "Армения",
          "Болгария",
          "Великобритания",
          "Венгрия",
          "Германия",
          "Индия",
          "Испания",
          "Кипр",
          "Китай",
          "Латвия",
          "Литва",
          "ОАЭ",
          "Польша",
          "Румыния",
          "Сербия",
          "Словакия",
          "США",
          "Таджикистан",
          "Турция",
          "Финляндия",
          "Черногория",
          "Чехия",
          "Эстония"
         ],
         "xaxis": "x",
         "y": [
          4,
          125,
          8,
          1,
          3,
          18,
          1,
          2,
          108,
          1,
          9,
          7,
          7,
          25,
          1,
          10,
          1,
          6,
          1,
          17,
          7,
          10,
          10,
          2
         ],
         "yaxis": "y"
        },
        {
         "alignmentgroup": "True",
         "hovertemplate": "тип рабочего графика=Удаленная работа<br>страна=%{x}<br>количество вакансий=%{y}<extra></extra>",
         "legendgroup": "Удаленная работа",
         "marker": {
          "color": "#00cc96",
          "pattern": {
           "shape": ""
          }
         },
         "name": "Удаленная работа",
         "offsetgroup": "Удаленная работа",
         "orientation": "v",
         "showlegend": true,
         "textposition": "auto",
         "type": "bar",
         "x": [
          "Армения",
          "Болгария",
          "Великобритания",
          "Венгрия",
          "Германия",
          "Израиль",
          "Индия",
          "Индонезия",
          "Испания",
          "Кипр",
          "Латвия",
          "Литва",
          "Нидерланды",
          "ОАЭ",
          "Польша",
          "Сербия",
          "США",
          "Таджикистан",
          "Турция",
          "Черногория",
          "Чехия",
          "Эстония"
         ],
         "xaxis": "x",
         "y": [
          83,
          4,
          1,
          6,
          1,
          2,
          1,
          1,
          2,
          25,
          1,
          11,
          2,
          5,
          25,
          16,
          6,
          3,
          17,
          4,
          4,
          1
         ],
         "yaxis": "y"
        }
       ],
       "layout": {
        "barmode": "group",
        "height": 500,
        "legend": {
         "title": {
          "text": "Тип рабочего графика:"
         },
         "tracegroupgap": 0
        },
        "margin": {
         "t": 90
        },
        "template": {
         "data": {
          "bar": [
           {
            "error_x": {
             "color": "#2a3f5f"
            },
            "error_y": {
             "color": "#2a3f5f"
            },
            "marker": {
             "line": {
              "color": "#E5ECF6",
              "width": 0.5
             },
             "pattern": {
              "fillmode": "overlay",
              "size": 10,
              "solidity": 0.2
             }
            },
            "type": "bar"
           }
          ],
          "barpolar": [
           {
            "marker": {
             "line": {
              "color": "#E5ECF6",
              "width": 0.5
             },
             "pattern": {
              "fillmode": "overlay",
              "size": 10,
              "solidity": 0.2
             }
            },
            "type": "barpolar"
           }
          ],
          "carpet": [
           {
            "aaxis": {
             "endlinecolor": "#2a3f5f",
             "gridcolor": "white",
             "linecolor": "white",
             "minorgridcolor": "white",
             "startlinecolor": "#2a3f5f"
            },
            "baxis": {
             "endlinecolor": "#2a3f5f",
             "gridcolor": "white",
             "linecolor": "white",
             "minorgridcolor": "white",
             "startlinecolor": "#2a3f5f"
            },
            "type": "carpet"
           }
          ],
          "choropleth": [
           {
            "colorbar": {
             "outlinewidth": 0,
             "ticks": ""
            },
            "type": "choropleth"
           }
          ],
          "contour": [
           {
            "colorbar": {
             "outlinewidth": 0,
             "ticks": ""
            },
            "colorscale": [
             [
              0,
              "#0d0887"
             ],
             [
              0.1111111111111111,
              "#46039f"
             ],
             [
              0.2222222222222222,
              "#7201a8"
             ],
             [
              0.3333333333333333,
              "#9c179e"
             ],
             [
              0.4444444444444444,
              "#bd3786"
             ],
             [
              0.5555555555555556,
              "#d8576b"
             ],
             [
              0.6666666666666666,
              "#ed7953"
             ],
             [
              0.7777777777777778,
              "#fb9f3a"
             ],
             [
              0.8888888888888888,
              "#fdca26"
             ],
             [
              1,
              "#f0f921"
             ]
            ],
            "type": "contour"
           }
          ],
          "contourcarpet": [
           {
            "colorbar": {
             "outlinewidth": 0,
             "ticks": ""
            },
            "type": "contourcarpet"
           }
          ],
          "heatmap": [
           {
            "colorbar": {
             "outlinewidth": 0,
             "ticks": ""
            },
            "colorscale": [
             [
              0,
              "#0d0887"
             ],
             [
              0.1111111111111111,
              "#46039f"
             ],
             [
              0.2222222222222222,
              "#7201a8"
             ],
             [
              0.3333333333333333,
              "#9c179e"
             ],
             [
              0.4444444444444444,
              "#bd3786"
             ],
             [
              0.5555555555555556,
              "#d8576b"
             ],
             [
              0.6666666666666666,
              "#ed7953"
             ],
             [
              0.7777777777777778,
              "#fb9f3a"
             ],
             [
              0.8888888888888888,
              "#fdca26"
             ],
             [
              1,
              "#f0f921"
             ]
            ],
            "type": "heatmap"
           }
          ],
          "heatmapgl": [
           {
            "colorbar": {
             "outlinewidth": 0,
             "ticks": ""
            },
            "colorscale": [
             [
              0,
              "#0d0887"
             ],
             [
              0.1111111111111111,
              "#46039f"
             ],
             [
              0.2222222222222222,
              "#7201a8"
             ],
             [
              0.3333333333333333,
              "#9c179e"
             ],
             [
              0.4444444444444444,
              "#bd3786"
             ],
             [
              0.5555555555555556,
              "#d8576b"
             ],
             [
              0.6666666666666666,
              "#ed7953"
             ],
             [
              0.7777777777777778,
              "#fb9f3a"
             ],
             [
              0.8888888888888888,
              "#fdca26"
             ],
             [
              1,
              "#f0f921"
             ]
            ],
            "type": "heatmapgl"
           }
          ],
          "histogram": [
           {
            "marker": {
             "pattern": {
              "fillmode": "overlay",
              "size": 10,
              "solidity": 0.2
             }
            },
            "type": "histogram"
           }
          ],
          "histogram2d": [
           {
            "colorbar": {
             "outlinewidth": 0,
             "ticks": ""
            },
            "colorscale": [
             [
              0,
              "#0d0887"
             ],
             [
              0.1111111111111111,
              "#46039f"
             ],
             [
              0.2222222222222222,
              "#7201a8"
             ],
             [
              0.3333333333333333,
              "#9c179e"
             ],
             [
              0.4444444444444444,
              "#bd3786"
             ],
             [
              0.5555555555555556,
              "#d8576b"
             ],
             [
              0.6666666666666666,
              "#ed7953"
             ],
             [
              0.7777777777777778,
              "#fb9f3a"
             ],
             [
              0.8888888888888888,
              "#fdca26"
             ],
             [
              1,
              "#f0f921"
             ]
            ],
            "type": "histogram2d"
           }
          ],
          "histogram2dcontour": [
           {
            "colorbar": {
             "outlinewidth": 0,
             "ticks": ""
            },
            "colorscale": [
             [
              0,
              "#0d0887"
             ],
             [
              0.1111111111111111,
              "#46039f"
             ],
             [
              0.2222222222222222,
              "#7201a8"
             ],
             [
              0.3333333333333333,
              "#9c179e"
             ],
             [
              0.4444444444444444,
              "#bd3786"
             ],
             [
              0.5555555555555556,
              "#d8576b"
             ],
             [
              0.6666666666666666,
              "#ed7953"
             ],
             [
              0.7777777777777778,
              "#fb9f3a"
             ],
             [
              0.8888888888888888,
              "#fdca26"
             ],
             [
              1,
              "#f0f921"
             ]
            ],
            "type": "histogram2dcontour"
           }
          ],
          "mesh3d": [
           {
            "colorbar": {
             "outlinewidth": 0,
             "ticks": ""
            },
            "type": "mesh3d"
           }
          ],
          "parcoords": [
           {
            "line": {
             "colorbar": {
              "outlinewidth": 0,
              "ticks": ""
             }
            },
            "type": "parcoords"
           }
          ],
          "pie": [
           {
            "automargin": true,
            "type": "pie"
           }
          ],
          "scatter": [
           {
            "fillpattern": {
             "fillmode": "overlay",
             "size": 10,
             "solidity": 0.2
            },
            "type": "scatter"
           }
          ],
          "scatter3d": [
           {
            "line": {
             "colorbar": {
              "outlinewidth": 0,
              "ticks": ""
             }
            },
            "marker": {
             "colorbar": {
              "outlinewidth": 0,
              "ticks": ""
             }
            },
            "type": "scatter3d"
           }
          ],
          "scattercarpet": [
           {
            "marker": {
             "colorbar": {
              "outlinewidth": 0,
              "ticks": ""
             }
            },
            "type": "scattercarpet"
           }
          ],
          "scattergeo": [
           {
            "marker": {
             "colorbar": {
              "outlinewidth": 0,
              "ticks": ""
             }
            },
            "type": "scattergeo"
           }
          ],
          "scattergl": [
           {
            "marker": {
             "colorbar": {
              "outlinewidth": 0,
              "ticks": ""
             }
            },
            "type": "scattergl"
           }
          ],
          "scattermapbox": [
           {
            "marker": {
             "colorbar": {
              "outlinewidth": 0,
              "ticks": ""
             }
            },
            "type": "scattermapbox"
           }
          ],
          "scatterpolar": [
           {
            "marker": {
             "colorbar": {
              "outlinewidth": 0,
              "ticks": ""
             }
            },
            "type": "scatterpolar"
           }
          ],
          "scatterpolargl": [
           {
            "marker": {
             "colorbar": {
              "outlinewidth": 0,
              "ticks": ""
             }
            },
            "type": "scatterpolargl"
           }
          ],
          "scatterternary": [
           {
            "marker": {
             "colorbar": {
              "outlinewidth": 0,
              "ticks": ""
             }
            },
            "type": "scatterternary"
           }
          ],
          "surface": [
           {
            "colorbar": {
             "outlinewidth": 0,
             "ticks": ""
            },
            "colorscale": [
             [
              0,
              "#0d0887"
             ],
             [
              0.1111111111111111,
              "#46039f"
             ],
             [
              0.2222222222222222,
              "#7201a8"
             ],
             [
              0.3333333333333333,
              "#9c179e"
             ],
             [
              0.4444444444444444,
              "#bd3786"
             ],
             [
              0.5555555555555556,
              "#d8576b"
             ],
             [
              0.6666666666666666,
              "#ed7953"
             ],
             [
              0.7777777777777778,
              "#fb9f3a"
             ],
             [
              0.8888888888888888,
              "#fdca26"
             ],
             [
              1,
              "#f0f921"
             ]
            ],
            "type": "surface"
           }
          ],
          "table": [
           {
            "cells": {
             "fill": {
              "color": "#EBF0F8"
             },
             "line": {
              "color": "white"
             }
            },
            "header": {
             "fill": {
              "color": "#C8D4E3"
             },
             "line": {
              "color": "white"
             }
            },
            "type": "table"
           }
          ]
         },
         "layout": {
          "annotationdefaults": {
           "arrowcolor": "#2a3f5f",
           "arrowhead": 0,
           "arrowwidth": 1
          },
          "autotypenumbers": "strict",
          "coloraxis": {
           "colorbar": {
            "outlinewidth": 0,
            "ticks": ""
           }
          },
          "colorscale": {
           "diverging": [
            [
             0,
             "#8e0152"
            ],
            [
             0.1,
             "#c51b7d"
            ],
            [
             0.2,
             "#de77ae"
            ],
            [
             0.3,
             "#f1b6da"
            ],
            [
             0.4,
             "#fde0ef"
            ],
            [
             0.5,
             "#f7f7f7"
            ],
            [
             0.6,
             "#e6f5d0"
            ],
            [
             0.7,
             "#b8e186"
            ],
            [
             0.8,
             "#7fbc41"
            ],
            [
             0.9,
             "#4d9221"
            ],
            [
             1,
             "#276419"
            ]
           ],
           "sequential": [
            [
             0,
             "#0d0887"
            ],
            [
             0.1111111111111111,
             "#46039f"
            ],
            [
             0.2222222222222222,
             "#7201a8"
            ],
            [
             0.3333333333333333,
             "#9c179e"
            ],
            [
             0.4444444444444444,
             "#bd3786"
            ],
            [
             0.5555555555555556,
             "#d8576b"
            ],
            [
             0.6666666666666666,
             "#ed7953"
            ],
            [
             0.7777777777777778,
             "#fb9f3a"
            ],
            [
             0.8888888888888888,
             "#fdca26"
            ],
            [
             1,
             "#f0f921"
            ]
           ],
           "sequentialminus": [
            [
             0,
             "#0d0887"
            ],
            [
             0.1111111111111111,
             "#46039f"
            ],
            [
             0.2222222222222222,
             "#7201a8"
            ],
            [
             0.3333333333333333,
             "#9c179e"
            ],
            [
             0.4444444444444444,
             "#bd3786"
            ],
            [
             0.5555555555555556,
             "#d8576b"
            ],
            [
             0.6666666666666666,
             "#ed7953"
            ],
            [
             0.7777777777777778,
             "#fb9f3a"
            ],
            [
             0.8888888888888888,
             "#fdca26"
            ],
            [
             1,
             "#f0f921"
            ]
           ]
          },
          "colorway": [
           "#636efa",
           "#EF553B",
           "#00cc96",
           "#ab63fa",
           "#FFA15A",
           "#19d3f3",
           "#FF6692",
           "#B6E880",
           "#FF97FF",
           "#FECB52"
          ],
          "font": {
           "color": "#2a3f5f"
          },
          "geo": {
           "bgcolor": "white",
           "lakecolor": "white",
           "landcolor": "#E5ECF6",
           "showlakes": true,
           "showland": true,
           "subunitcolor": "white"
          },
          "hoverlabel": {
           "align": "left"
          },
          "hovermode": "closest",
          "mapbox": {
           "style": "light"
          },
          "paper_bgcolor": "white",
          "plot_bgcolor": "#E5ECF6",
          "polar": {
           "angularaxis": {
            "gridcolor": "white",
            "linecolor": "white",
            "ticks": ""
           },
           "bgcolor": "#E5ECF6",
           "radialaxis": {
            "gridcolor": "white",
            "linecolor": "white",
            "ticks": ""
           }
          },
          "scene": {
           "xaxis": {
            "backgroundcolor": "#E5ECF6",
            "gridcolor": "white",
            "gridwidth": 2,
            "linecolor": "white",
            "showbackground": true,
            "ticks": "",
            "zerolinecolor": "white"
           },
           "yaxis": {
            "backgroundcolor": "#E5ECF6",
            "gridcolor": "white",
            "gridwidth": 2,
            "linecolor": "white",
            "showbackground": true,
            "ticks": "",
            "zerolinecolor": "white"
           },
           "zaxis": {
            "backgroundcolor": "#E5ECF6",
            "gridcolor": "white",
            "gridwidth": 2,
            "linecolor": "white",
            "showbackground": true,
            "ticks": "",
            "zerolinecolor": "white"
           }
          },
          "shapedefaults": {
           "line": {
            "color": "#2a3f5f"
           }
          },
          "ternary": {
           "aaxis": {
            "gridcolor": "white",
            "linecolor": "white",
            "ticks": ""
           },
           "baxis": {
            "gridcolor": "white",
            "linecolor": "white",
            "ticks": ""
           },
           "bgcolor": "#E5ECF6",
           "caxis": {
            "gridcolor": "white",
            "linecolor": "white",
            "ticks": ""
           }
          },
          "title": {
           "x": 0.05
          },
          "xaxis": {
           "automargin": true,
           "gridcolor": "white",
           "linecolor": "white",
           "ticks": "",
           "title": {
            "standoff": 15
           },
           "zerolinecolor": "white",
           "zerolinewidth": 2
          },
          "yaxis": {
           "automargin": true,
           "gridcolor": "white",
           "linecolor": "white",
           "ticks": "",
           "title": {
            "standoff": 15
           },
           "zerolinecolor": "white",
           "zerolinewidth": 2
          }
         }
        },
        "title": {
         "font": {
          "size": 24
         },
         "text": "Количество вакансий у которых в качестве региона указанна страна",
         "x": 0.5
        },
        "width": 1000,
        "xaxis": {
         "anchor": "y",
         "domain": [
          0,
          1
         ],
         "title": {
          "text": "страна"
         }
        },
        "yaxis": {
         "anchor": "x",
         "domain": [
          0,
          1
         ],
         "gridcolor": "gray",
         "gridwidth": 1,
         "title": {
          "text": "количество вакансий"
         }
        }
       }
      }
     },
     "metadata": {},
     "output_type": "display_data"
    }
   ],
   "source": [
    "# Получим список стран мира с сайта wikipedia.\n",
    "url = 'https://ru.wikipedia.org/wiki/%D0%A1%D0%BF%D0%B8%D1%81%D0%BE%D0%BA_%D0%B3%D0%BE%D1%81%\\\n",
    "D1%83%D0%B4%D0%B0%D1%80%D1%81%D1%82%D0%B2'\n",
    "country_list = tuple(pd.read_html(url)[0]['Страна'])\n",
    "\n",
    "# Напишем запрос выводящий вакансии, предложенные в странах для различных типов рабочего графика,\n",
    "# а также общее число вакансий, предлагаемых в странах.\n",
    "query_7_3 = f'''(SELECT\n",
    "                    a.name AS location,\n",
    "                    COUNT(v.id) AS cnt_vac,\n",
    "                    v.schedule\n",
    "                FROM public.vacancies AS v\n",
    "                JOIN public.areas AS a\n",
    "                    ON v.area_id = a.id\n",
    "                    AND a.name IN {country_list}\n",
    "                GROUP BY a.name, v.schedule\n",
    "                ORDER BY schedule ASC, location ASC)  \n",
    "                                \n",
    "                UNION ALL\n",
    "                \n",
    "                SELECT\n",
    "                    'Total',\n",
    "                    COUNT(v.id),\n",
    "                    'All_schedule'\n",
    "                    FROM public.vacancies AS v\n",
    "                    JOIN public.areas AS a\n",
    "                        ON v.area_id = a.id\n",
    "                        AND a.name IN {country_list}\n",
    "            '''\n",
    "out_vac = pd.read_sql_query(query_7_3, connection)\n",
    "\n",
    "# Выведем общее количество таких вакансий\n",
    "display(f'Общее количество вакансий у которых в качестве региона указана страна: {out_vac.iloc[0][1]}')\n",
    "\n",
    "# Построим столбчатую диаграмму.\n",
    "fig = px.bar(\n",
    "    out_vac.iloc[1:],\n",
    "    x='location',\n",
    "    y='cnt_vac',\n",
    "    height=500,\n",
    "    width=1000,\n",
    "    color='schedule',\n",
    "    barmode='group',\n",
    "    labels={'location':'страна', 'schedule':'тип рабочего графика', 'cnt_vac':'количество вакансий'}\n",
    "    )\n",
    "\n",
    "fig.update_layout(title=dict(\n",
    "                             text='Количество вакансий у которых в качестве региона указанна страна',\n",
    "                             x=0.5,\n",
    "                             font=dict(size=24)\n",
    "                             ),\n",
    "                  margin=dict(t=90),\n",
    "                  legend=dict(title_text='Тип рабочего графика:'),\n",
    "                  yaxis1=dict(gridwidth=1, gridcolor='gray'),\n",
    "                  \n",
    "                  )\n",
    "fig.show()"
   ]
  },
  {
   "attachments": {},
   "cell_type": "markdown",
   "metadata": {},
   "source": [
    "***\n",
    " В базе присутствуют вакансии регионом которых указана страна (632 вакансии), причем тип рабочего графика \"удаленная работа\" указан только у 221 вакансии. В большинстве случаев предлагается тип рабочего графика - \"Полный день\". В принципе такие вакансии могут попасть в рекомендуемую выборку, например, если соискатель указывал готовность к переездам."
   ]
  },
  {
   "attachments": {},
   "cell_type": "markdown",
   "metadata": {},
   "source": [
    "3. Посмотрим на вакансии Data Scientist в разрезе типа рабочего графика и опыта работы."
   ]
  },
  {
   "cell_type": "code",
   "execution_count": 74,
   "metadata": {},
   "outputs": [
    {
     "data": {
      "text/html": [
       "<div>\n",
       "<style scoped>\n",
       "    .dataframe tbody tr th:only-of-type {\n",
       "        vertical-align: middle;\n",
       "    }\n",
       "\n",
       "    .dataframe tbody tr th {\n",
       "        vertical-align: top;\n",
       "    }\n",
       "\n",
       "    .dataframe thead th {\n",
       "        text-align: right;\n",
       "    }\n",
       "</style>\n",
       "<table border=\"1\" class=\"dataframe\">\n",
       "  <thead>\n",
       "    <tr style=\"text-align: right;\">\n",
       "      <th></th>\n",
       "      <th>Рабочий график</th>\n",
       "      <th>Опыт</th>\n",
       "      <th>Количество вакансий</th>\n",
       "    </tr>\n",
       "  </thead>\n",
       "  <tbody>\n",
       "    <tr>\n",
       "      <th>0</th>\n",
       "      <td>Работа в офисе</td>\n",
       "      <td>Более 6 лет</td>\n",
       "      <td>7</td>\n",
       "    </tr>\n",
       "    <tr>\n",
       "      <th>1</th>\n",
       "      <td>Удаленная работа</td>\n",
       "      <td>Более 6 лет</td>\n",
       "      <td>27</td>\n",
       "    </tr>\n",
       "    <tr>\n",
       "      <th>2</th>\n",
       "      <td>Работа в офисе</td>\n",
       "      <td>Нет опыта</td>\n",
       "      <td>25</td>\n",
       "    </tr>\n",
       "    <tr>\n",
       "      <th>3</th>\n",
       "      <td>Удаленная работа</td>\n",
       "      <td>Нет опыта</td>\n",
       "      <td>3</td>\n",
       "    </tr>\n",
       "    <tr>\n",
       "      <th>4</th>\n",
       "      <td>Работа в офисе</td>\n",
       "      <td>От 1 года до 3 лет</td>\n",
       "      <td>182</td>\n",
       "    </tr>\n",
       "    <tr>\n",
       "      <th>5</th>\n",
       "      <td>Удаленная работа</td>\n",
       "      <td>От 1 года до 3 лет</td>\n",
       "      <td>41</td>\n",
       "    </tr>\n",
       "    <tr>\n",
       "      <th>6</th>\n",
       "      <td>Работа в офисе</td>\n",
       "      <td>От 3 до 6 лет</td>\n",
       "      <td>151</td>\n",
       "    </tr>\n",
       "    <tr>\n",
       "      <th>7</th>\n",
       "      <td>Удаленная работа</td>\n",
       "      <td>От 3 до 6 лет</td>\n",
       "      <td>44</td>\n",
       "    </tr>\n",
       "  </tbody>\n",
       "</table>\n",
       "</div>"
      ],
      "text/plain": [
       "     Рабочий график                Опыт  Количество вакансий\n",
       "0    Работа в офисе         Более 6 лет                    7\n",
       "1  Удаленная работа         Более 6 лет                   27\n",
       "2    Работа в офисе           Нет опыта                   25\n",
       "3  Удаленная работа           Нет опыта                    3\n",
       "4    Работа в офисе  От 1 года до 3 лет                  182\n",
       "5  Удаленная работа  От 1 года до 3 лет                   41\n",
       "6    Работа в офисе       От 3 до 6 лет                  151\n",
       "7  Удаленная работа       От 3 до 6 лет                   44"
      ]
     },
     "metadata": {},
     "output_type": "display_data"
    },
    {
     "data": {
      "application/vnd.plotly.v1+json": {
       "config": {
        "plotlyServerURL": "https://plot.ly"
       },
       "data": [
        {
         "alignmentgroup": "True",
         "hovertemplate": "Рабочий график=Работа в офисе<br>Опыт=%{x}<br>Количество вакансий=%{y}<extra></extra>",
         "legendgroup": "Работа в офисе",
         "marker": {
          "color": "#636efa",
          "pattern": {
           "shape": ""
          }
         },
         "name": "Работа в офисе",
         "offsetgroup": "Работа в офисе",
         "orientation": "v",
         "showlegend": true,
         "textposition": "auto",
         "type": "bar",
         "x": [
          "Более 6 лет",
          "Нет опыта",
          "От 1 года до 3 лет",
          "От 3 до 6 лет"
         ],
         "xaxis": "x",
         "y": [
          7,
          25,
          182,
          151
         ],
         "yaxis": "y"
        },
        {
         "alignmentgroup": "True",
         "hovertemplate": "Рабочий график=Удаленная работа<br>Опыт=%{x}<br>Количество вакансий=%{y}<extra></extra>",
         "legendgroup": "Удаленная работа",
         "marker": {
          "color": "#EF553B",
          "pattern": {
           "shape": ""
          }
         },
         "name": "Удаленная работа",
         "offsetgroup": "Удаленная работа",
         "orientation": "v",
         "showlegend": true,
         "textposition": "auto",
         "type": "bar",
         "x": [
          "Более 6 лет",
          "Нет опыта",
          "От 1 года до 3 лет",
          "От 3 до 6 лет"
         ],
         "xaxis": "x",
         "y": [
          27,
          3,
          41,
          44
         ],
         "yaxis": "y"
        }
       ],
       "layout": {
        "barmode": "relative",
        "height": 500,
        "legend": {
         "title": {
          "text": "Тип рабочего графика"
         },
         "tracegroupgap": 0
        },
        "margin": {
         "t": 60
        },
        "template": {
         "data": {
          "bar": [
           {
            "error_x": {
             "color": "#2a3f5f"
            },
            "error_y": {
             "color": "#2a3f5f"
            },
            "marker": {
             "line": {
              "color": "#E5ECF6",
              "width": 0.5
             },
             "pattern": {
              "fillmode": "overlay",
              "size": 10,
              "solidity": 0.2
             }
            },
            "type": "bar"
           }
          ],
          "barpolar": [
           {
            "marker": {
             "line": {
              "color": "#E5ECF6",
              "width": 0.5
             },
             "pattern": {
              "fillmode": "overlay",
              "size": 10,
              "solidity": 0.2
             }
            },
            "type": "barpolar"
           }
          ],
          "carpet": [
           {
            "aaxis": {
             "endlinecolor": "#2a3f5f",
             "gridcolor": "white",
             "linecolor": "white",
             "minorgridcolor": "white",
             "startlinecolor": "#2a3f5f"
            },
            "baxis": {
             "endlinecolor": "#2a3f5f",
             "gridcolor": "white",
             "linecolor": "white",
             "minorgridcolor": "white",
             "startlinecolor": "#2a3f5f"
            },
            "type": "carpet"
           }
          ],
          "choropleth": [
           {
            "colorbar": {
             "outlinewidth": 0,
             "ticks": ""
            },
            "type": "choropleth"
           }
          ],
          "contour": [
           {
            "colorbar": {
             "outlinewidth": 0,
             "ticks": ""
            },
            "colorscale": [
             [
              0,
              "#0d0887"
             ],
             [
              0.1111111111111111,
              "#46039f"
             ],
             [
              0.2222222222222222,
              "#7201a8"
             ],
             [
              0.3333333333333333,
              "#9c179e"
             ],
             [
              0.4444444444444444,
              "#bd3786"
             ],
             [
              0.5555555555555556,
              "#d8576b"
             ],
             [
              0.6666666666666666,
              "#ed7953"
             ],
             [
              0.7777777777777778,
              "#fb9f3a"
             ],
             [
              0.8888888888888888,
              "#fdca26"
             ],
             [
              1,
              "#f0f921"
             ]
            ],
            "type": "contour"
           }
          ],
          "contourcarpet": [
           {
            "colorbar": {
             "outlinewidth": 0,
             "ticks": ""
            },
            "type": "contourcarpet"
           }
          ],
          "heatmap": [
           {
            "colorbar": {
             "outlinewidth": 0,
             "ticks": ""
            },
            "colorscale": [
             [
              0,
              "#0d0887"
             ],
             [
              0.1111111111111111,
              "#46039f"
             ],
             [
              0.2222222222222222,
              "#7201a8"
             ],
             [
              0.3333333333333333,
              "#9c179e"
             ],
             [
              0.4444444444444444,
              "#bd3786"
             ],
             [
              0.5555555555555556,
              "#d8576b"
             ],
             [
              0.6666666666666666,
              "#ed7953"
             ],
             [
              0.7777777777777778,
              "#fb9f3a"
             ],
             [
              0.8888888888888888,
              "#fdca26"
             ],
             [
              1,
              "#f0f921"
             ]
            ],
            "type": "heatmap"
           }
          ],
          "heatmapgl": [
           {
            "colorbar": {
             "outlinewidth": 0,
             "ticks": ""
            },
            "colorscale": [
             [
              0,
              "#0d0887"
             ],
             [
              0.1111111111111111,
              "#46039f"
             ],
             [
              0.2222222222222222,
              "#7201a8"
             ],
             [
              0.3333333333333333,
              "#9c179e"
             ],
             [
              0.4444444444444444,
              "#bd3786"
             ],
             [
              0.5555555555555556,
              "#d8576b"
             ],
             [
              0.6666666666666666,
              "#ed7953"
             ],
             [
              0.7777777777777778,
              "#fb9f3a"
             ],
             [
              0.8888888888888888,
              "#fdca26"
             ],
             [
              1,
              "#f0f921"
             ]
            ],
            "type": "heatmapgl"
           }
          ],
          "histogram": [
           {
            "marker": {
             "pattern": {
              "fillmode": "overlay",
              "size": 10,
              "solidity": 0.2
             }
            },
            "type": "histogram"
           }
          ],
          "histogram2d": [
           {
            "colorbar": {
             "outlinewidth": 0,
             "ticks": ""
            },
            "colorscale": [
             [
              0,
              "#0d0887"
             ],
             [
              0.1111111111111111,
              "#46039f"
             ],
             [
              0.2222222222222222,
              "#7201a8"
             ],
             [
              0.3333333333333333,
              "#9c179e"
             ],
             [
              0.4444444444444444,
              "#bd3786"
             ],
             [
              0.5555555555555556,
              "#d8576b"
             ],
             [
              0.6666666666666666,
              "#ed7953"
             ],
             [
              0.7777777777777778,
              "#fb9f3a"
             ],
             [
              0.8888888888888888,
              "#fdca26"
             ],
             [
              1,
              "#f0f921"
             ]
            ],
            "type": "histogram2d"
           }
          ],
          "histogram2dcontour": [
           {
            "colorbar": {
             "outlinewidth": 0,
             "ticks": ""
            },
            "colorscale": [
             [
              0,
              "#0d0887"
             ],
             [
              0.1111111111111111,
              "#46039f"
             ],
             [
              0.2222222222222222,
              "#7201a8"
             ],
             [
              0.3333333333333333,
              "#9c179e"
             ],
             [
              0.4444444444444444,
              "#bd3786"
             ],
             [
              0.5555555555555556,
              "#d8576b"
             ],
             [
              0.6666666666666666,
              "#ed7953"
             ],
             [
              0.7777777777777778,
              "#fb9f3a"
             ],
             [
              0.8888888888888888,
              "#fdca26"
             ],
             [
              1,
              "#f0f921"
             ]
            ],
            "type": "histogram2dcontour"
           }
          ],
          "mesh3d": [
           {
            "colorbar": {
             "outlinewidth": 0,
             "ticks": ""
            },
            "type": "mesh3d"
           }
          ],
          "parcoords": [
           {
            "line": {
             "colorbar": {
              "outlinewidth": 0,
              "ticks": ""
             }
            },
            "type": "parcoords"
           }
          ],
          "pie": [
           {
            "automargin": true,
            "type": "pie"
           }
          ],
          "scatter": [
           {
            "fillpattern": {
             "fillmode": "overlay",
             "size": 10,
             "solidity": 0.2
            },
            "type": "scatter"
           }
          ],
          "scatter3d": [
           {
            "line": {
             "colorbar": {
              "outlinewidth": 0,
              "ticks": ""
             }
            },
            "marker": {
             "colorbar": {
              "outlinewidth": 0,
              "ticks": ""
             }
            },
            "type": "scatter3d"
           }
          ],
          "scattercarpet": [
           {
            "marker": {
             "colorbar": {
              "outlinewidth": 0,
              "ticks": ""
             }
            },
            "type": "scattercarpet"
           }
          ],
          "scattergeo": [
           {
            "marker": {
             "colorbar": {
              "outlinewidth": 0,
              "ticks": ""
             }
            },
            "type": "scattergeo"
           }
          ],
          "scattergl": [
           {
            "marker": {
             "colorbar": {
              "outlinewidth": 0,
              "ticks": ""
             }
            },
            "type": "scattergl"
           }
          ],
          "scattermapbox": [
           {
            "marker": {
             "colorbar": {
              "outlinewidth": 0,
              "ticks": ""
             }
            },
            "type": "scattermapbox"
           }
          ],
          "scatterpolar": [
           {
            "marker": {
             "colorbar": {
              "outlinewidth": 0,
              "ticks": ""
             }
            },
            "type": "scatterpolar"
           }
          ],
          "scatterpolargl": [
           {
            "marker": {
             "colorbar": {
              "outlinewidth": 0,
              "ticks": ""
             }
            },
            "type": "scatterpolargl"
           }
          ],
          "scatterternary": [
           {
            "marker": {
             "colorbar": {
              "outlinewidth": 0,
              "ticks": ""
             }
            },
            "type": "scatterternary"
           }
          ],
          "surface": [
           {
            "colorbar": {
             "outlinewidth": 0,
             "ticks": ""
            },
            "colorscale": [
             [
              0,
              "#0d0887"
             ],
             [
              0.1111111111111111,
              "#46039f"
             ],
             [
              0.2222222222222222,
              "#7201a8"
             ],
             [
              0.3333333333333333,
              "#9c179e"
             ],
             [
              0.4444444444444444,
              "#bd3786"
             ],
             [
              0.5555555555555556,
              "#d8576b"
             ],
             [
              0.6666666666666666,
              "#ed7953"
             ],
             [
              0.7777777777777778,
              "#fb9f3a"
             ],
             [
              0.8888888888888888,
              "#fdca26"
             ],
             [
              1,
              "#f0f921"
             ]
            ],
            "type": "surface"
           }
          ],
          "table": [
           {
            "cells": {
             "fill": {
              "color": "#EBF0F8"
             },
             "line": {
              "color": "white"
             }
            },
            "header": {
             "fill": {
              "color": "#C8D4E3"
             },
             "line": {
              "color": "white"
             }
            },
            "type": "table"
           }
          ]
         },
         "layout": {
          "annotationdefaults": {
           "arrowcolor": "#2a3f5f",
           "arrowhead": 0,
           "arrowwidth": 1
          },
          "autotypenumbers": "strict",
          "coloraxis": {
           "colorbar": {
            "outlinewidth": 0,
            "ticks": ""
           }
          },
          "colorscale": {
           "diverging": [
            [
             0,
             "#8e0152"
            ],
            [
             0.1,
             "#c51b7d"
            ],
            [
             0.2,
             "#de77ae"
            ],
            [
             0.3,
             "#f1b6da"
            ],
            [
             0.4,
             "#fde0ef"
            ],
            [
             0.5,
             "#f7f7f7"
            ],
            [
             0.6,
             "#e6f5d0"
            ],
            [
             0.7,
             "#b8e186"
            ],
            [
             0.8,
             "#7fbc41"
            ],
            [
             0.9,
             "#4d9221"
            ],
            [
             1,
             "#276419"
            ]
           ],
           "sequential": [
            [
             0,
             "#0d0887"
            ],
            [
             0.1111111111111111,
             "#46039f"
            ],
            [
             0.2222222222222222,
             "#7201a8"
            ],
            [
             0.3333333333333333,
             "#9c179e"
            ],
            [
             0.4444444444444444,
             "#bd3786"
            ],
            [
             0.5555555555555556,
             "#d8576b"
            ],
            [
             0.6666666666666666,
             "#ed7953"
            ],
            [
             0.7777777777777778,
             "#fb9f3a"
            ],
            [
             0.8888888888888888,
             "#fdca26"
            ],
            [
             1,
             "#f0f921"
            ]
           ],
           "sequentialminus": [
            [
             0,
             "#0d0887"
            ],
            [
             0.1111111111111111,
             "#46039f"
            ],
            [
             0.2222222222222222,
             "#7201a8"
            ],
            [
             0.3333333333333333,
             "#9c179e"
            ],
            [
             0.4444444444444444,
             "#bd3786"
            ],
            [
             0.5555555555555556,
             "#d8576b"
            ],
            [
             0.6666666666666666,
             "#ed7953"
            ],
            [
             0.7777777777777778,
             "#fb9f3a"
            ],
            [
             0.8888888888888888,
             "#fdca26"
            ],
            [
             1,
             "#f0f921"
            ]
           ]
          },
          "colorway": [
           "#636efa",
           "#EF553B",
           "#00cc96",
           "#ab63fa",
           "#FFA15A",
           "#19d3f3",
           "#FF6692",
           "#B6E880",
           "#FF97FF",
           "#FECB52"
          ],
          "font": {
           "color": "#2a3f5f"
          },
          "geo": {
           "bgcolor": "white",
           "lakecolor": "white",
           "landcolor": "#E5ECF6",
           "showlakes": true,
           "showland": true,
           "subunitcolor": "white"
          },
          "hoverlabel": {
           "align": "left"
          },
          "hovermode": "closest",
          "mapbox": {
           "style": "light"
          },
          "paper_bgcolor": "white",
          "plot_bgcolor": "#E5ECF6",
          "polar": {
           "angularaxis": {
            "gridcolor": "white",
            "linecolor": "white",
            "ticks": ""
           },
           "bgcolor": "#E5ECF6",
           "radialaxis": {
            "gridcolor": "white",
            "linecolor": "white",
            "ticks": ""
           }
          },
          "scene": {
           "xaxis": {
            "backgroundcolor": "#E5ECF6",
            "gridcolor": "white",
            "gridwidth": 2,
            "linecolor": "white",
            "showbackground": true,
            "ticks": "",
            "zerolinecolor": "white"
           },
           "yaxis": {
            "backgroundcolor": "#E5ECF6",
            "gridcolor": "white",
            "gridwidth": 2,
            "linecolor": "white",
            "showbackground": true,
            "ticks": "",
            "zerolinecolor": "white"
           },
           "zaxis": {
            "backgroundcolor": "#E5ECF6",
            "gridcolor": "white",
            "gridwidth": 2,
            "linecolor": "white",
            "showbackground": true,
            "ticks": "",
            "zerolinecolor": "white"
           }
          },
          "shapedefaults": {
           "line": {
            "color": "#2a3f5f"
           }
          },
          "ternary": {
           "aaxis": {
            "gridcolor": "white",
            "linecolor": "white",
            "ticks": ""
           },
           "baxis": {
            "gridcolor": "white",
            "linecolor": "white",
            "ticks": ""
           },
           "bgcolor": "#E5ECF6",
           "caxis": {
            "gridcolor": "white",
            "linecolor": "white",
            "ticks": ""
           }
          },
          "title": {
           "x": 0.05
          },
          "xaxis": {
           "automargin": true,
           "gridcolor": "white",
           "linecolor": "white",
           "ticks": "",
           "title": {
            "standoff": 15
           },
           "zerolinecolor": "white",
           "zerolinewidth": 2
          },
          "yaxis": {
           "automargin": true,
           "gridcolor": "white",
           "linecolor": "white",
           "ticks": "",
           "title": {
            "standoff": 15
           },
           "zerolinecolor": "white",
           "zerolinewidth": 2
          }
         }
        },
        "title": {
         "font": {
          "size": 18
         },
         "text": "Диаграмма зависимости типа рабочего графика отопыта работы для вакансий на позицию Data Scientist",
         "x": 0.5
        },
        "width": 940,
        "xaxis": {
         "anchor": "y",
         "domain": [
          0,
          1
         ],
         "title": {
          "text": "Опыт"
         }
        },
        "yaxis": {
         "anchor": "x",
         "domain": [
          0,
          1
         ],
         "title": {
          "text": "Количество вакансий"
         }
        }
       }
      }
     },
     "metadata": {},
     "output_type": "display_data"
    }
   ],
   "source": [
    "# Посмотрим на соотношение вакансий на позицию DS в зависимости от требований к опыту с типом \n",
    "# рабочего графика \"Удаленная работа\" и \"Работа в офисе\". За \"Работу в офисе\" примем все типы \n",
    "# рабочих графиков кроме \"Удаленная работа\".\n",
    "\n",
    "query_7_4 = f'''SELECT\n",
    "                    'Удаленная работа' AS \"Рабочий график\",\n",
    "                    experience AS \"Опыт\",\n",
    "                    count(id) AS \"Количество вакансий\"\n",
    "                FROM public.vacancies\n",
    "                WHERE \n",
    "                    schedule ILIKE '%%удал%%'\n",
    "                    AND {ds_vac}\n",
    "                GROUP BY experience\n",
    "                \n",
    "                UNION ALL\n",
    "                \n",
    "                SELECT\n",
    "                    'Работа в офисе' AS \"Рабочий график\",\n",
    "                    experience AS \"Опыт\",\n",
    "                    count(id) AS \"Количество вакансий\"\n",
    "                FROM public.vacancies\n",
    "                WHERE \n",
    "                    schedule NOT ILIKE '%%удал%%'\n",
    "                    AND {ds_vac}\n",
    "                GROUP BY experience\n",
    "                ORDER BY \"Опыт\", \"Рабочий график\"\n",
    "            '''\n",
    "\n",
    "df_shedule = pd.read_sql_query(query_7_4, connection)\n",
    "display(df_shedule)\n",
    "\n",
    "# Строим столбчатую диаграмму\n",
    "fig = px.bar(\n",
    "    data_frame=df_shedule,\n",
    "    height=500,\n",
    "    width=940,\n",
    "    x='Опыт',\n",
    "    y='Количество вакансий',\n",
    "    color='Рабочий график'    \n",
    "    )\n",
    "\n",
    "# Настраиваем отображение\n",
    "fig.update_layout(\n",
    "                  title=dict(\n",
    "                             text='Диаграмма зависимости типа рабочего графика от'\\\n",
    "                                 +'опыта работы для вакансий на позицию Data Scientist',\n",
    "                             x=0.5,\n",
    "                             font=dict(size=18)\n",
    "                             ),   \n",
    "                  xaxis_title='Опыт',\n",
    "                  yaxis_title='Количество вакансий',\n",
    "                  legend=dict(title='Тип рабочего графика')\n",
    "                  )\n",
    "\n",
    "fig.show()\n"
   ]
  },
  {
   "cell_type": "markdown",
   "metadata": {},
   "source": [
    " ***\n",
    " Из диаграммы видно, что с ростом опыта растет и предлагаемое количество вакансий с типом рабочего графика \"Удаленная работа\". Видимо работодатели с большим доверием относяться к соискателям с опытом работы, считая их более ответственными. Стоит рассмотреть распределение вакансий по городам."
   ]
  },
  {
   "attachments": {},
   "cell_type": "markdown",
   "metadata": {},
   "source": [
    "4. Исследуем распределение вакансий на позицию Data Scientist по городам России."
   ]
  },
  {
   "cell_type": "code",
   "execution_count": 77,
   "metadata": {},
   "outputs": [
    {
     "data": {
      "application/vnd.plotly.v1+json": {
       "config": {
        "plotlyServerURL": "https://plot.ly"
       },
       "data": [
        {
         "lat": [
          55.75321578979492,
          59.93909454345703,
          55.03019714355469,
          56.3287,
          55.796287536621094,
          56.48463821411133,
          56.8380126953125,
          47.222076416015625,
          45.03546905517578,
          58.010372161865234,
          53.19553756713867,
          54.629215240478516,
          43.115535736083984,
          54.989341735839844,
          54.735145568847656,
          51.66078186035156,
          53.195064544677734,
          55.15989685058594,
          50.59566116333008,
          53.243560791015625,
          48.70707321166992,
          56.85259246826172,
          56.010562896728516,
          57.787132263183594,
          61.78501510620117,
          51.533103942871094,
          56.85961151123047,
          57.15303421020508,
          53.34678649902344
         ],
         "lon": [
          37.62250518798828,
          30.315868377685547,
          82.9204330444336,
          44.002,
          49.108795166015625,
          84.94764709472656,
          60.59746551513672,
          39.7203483581543,
          38.975311279296875,
          56.22939682006836,
          50.101783752441406,
          39.73637390136719,
          131.88548278808594,
          73.36820983886719,
          55.9587287902832,
          39.20026779174805,
          45.018314361572266,
          61.40255355834961,
          36.587223052978516,
          34.363441467285156,
          44.516929626464844,
          53.20484161376953,
          92.85256958007812,
          38.4553337097168,
          34.34687805175781,
          46.034156799316406,
          35.911895751953125,
          65.5343246459961,
          83.77685546875
         ],
         "marker": {
          "cmax": 250,
          "cmin": -100,
          "color": [
           217,
           64,
           23,
           20,
           16,
           8,
           7,
           6,
           6,
           5,
           5,
           4,
           3,
           3,
           2,
           2,
           2,
           1,
           1,
           1,
           1,
           1,
           1,
           1,
           1,
           1,
           1,
           1,
           1
          ],
          "colorbar": {
           "title": {
            "side": "right",
            "text": "Количество вакансий"
           },
           "xanchor": "left",
           "xpad": 20
          },
          "colorscale": [
           [
            0,
            "rgb(158,1,66)"
           ],
           [
            0.1,
            "rgb(213,62,79)"
           ],
           [
            0.2,
            "rgb(244,109,67)"
           ],
           [
            0.3,
            "rgb(253,174,97)"
           ],
           [
            0.4,
            "rgb(254,224,139)"
           ],
           [
            0.5,
            "rgb(255,255,191)"
           ],
           [
            0.6,
            "rgb(230,245,152)"
           ],
           [
            0.7,
            "rgb(171,221,164)"
           ],
           [
            0.8,
            "rgb(102,194,165)"
           ],
           [
            0.9,
            "rgb(50,136,189)"
           ],
           [
            1,
            "rgb(94,79,162)"
           ]
          ],
          "size": [
           217,
           64,
           23,
           20,
           16,
           8,
           7,
           6,
           6,
           5,
           5,
           4,
           3,
           3,
           2,
           2,
           2,
           1,
           1,
           1,
           1,
           1,
           1,
           1,
           1,
           1,
           1,
           1,
           1
          ],
          "sizemode": "area",
          "sizeref": 0.7
         },
         "mode": "markers+text",
         "text": [
          "Москва<br>Количество вакансий: 217",
          "Санкт-Петербург<br>Количество вакансий: 64",
          "Новосибирск<br>Количество вакансий: 23",
          "Нижний Новгород<br>Количество вакансий: 20",
          "Казань<br>Количество вакансий: 16",
          "Томск<br>Количество вакансий: 8",
          "Екатеринбург<br>Количество вакансий: 7",
          "Ростов-на-Дону<br>Количество вакансий: 6",
          "Краснодар<br>Количество вакансий: 6",
          "Пермь<br>Количество вакансий: 5",
          "Самара<br>Количество вакансий: 5",
          "Рязань<br>Количество вакансий: 4",
          "Владивосток<br>Количество вакансий: 3",
          "Омск<br>Количество вакансий: 3",
          "Уфа<br>Количество вакансий: 2",
          "Воронеж<br>Количество вакансий: 2",
          "Пенза<br>Количество вакансий: 2",
          "Челябинск<br>Количество вакансий: 1",
          "Белгород<br>Количество вакансий: 1",
          "Брянск<br>Количество вакансий: 1",
          "Волгоград<br>Количество вакансий: 1",
          "Ижевск<br>Количество вакансий: 1",
          "Красноярск<br>Количество вакансий: 1",
          "Набережные Челны<br>Количество вакансий: 1",
          "Петрозаводск<br>Количество вакансий: 1",
          "Саратов<br>Количество вакансий: 1",
          "Тверь<br>Количество вакансий: 1",
          "Тюмень<br>Количество вакансий: 1",
          "Барнаул<br>Количество вакансий: 1"
         ],
         "textfont": {
          "color": "black",
          "size": 16
         },
         "textposition": "top right",
         "type": "scattermapbox"
        }
       ],
       "layout": {
        "height": 500,
        "mapbox": {
         "center": {
          "lat": 52.45027542114258,
          "lon": 81.10067558288574
         },
         "style": "carto-darkmatter",
         "zoom": 2
        },
        "margin": {
         "b": 20,
         "l": 10,
         "r": 10,
         "t": 60
        },
        "template": {
         "data": {
          "bar": [
           {
            "error_x": {
             "color": "#2a3f5f"
            },
            "error_y": {
             "color": "#2a3f5f"
            },
            "marker": {
             "line": {
              "color": "#E5ECF6",
              "width": 0.5
             },
             "pattern": {
              "fillmode": "overlay",
              "size": 10,
              "solidity": 0.2
             }
            },
            "type": "bar"
           }
          ],
          "barpolar": [
           {
            "marker": {
             "line": {
              "color": "#E5ECF6",
              "width": 0.5
             },
             "pattern": {
              "fillmode": "overlay",
              "size": 10,
              "solidity": 0.2
             }
            },
            "type": "barpolar"
           }
          ],
          "carpet": [
           {
            "aaxis": {
             "endlinecolor": "#2a3f5f",
             "gridcolor": "white",
             "linecolor": "white",
             "minorgridcolor": "white",
             "startlinecolor": "#2a3f5f"
            },
            "baxis": {
             "endlinecolor": "#2a3f5f",
             "gridcolor": "white",
             "linecolor": "white",
             "minorgridcolor": "white",
             "startlinecolor": "#2a3f5f"
            },
            "type": "carpet"
           }
          ],
          "choropleth": [
           {
            "colorbar": {
             "outlinewidth": 0,
             "ticks": ""
            },
            "type": "choropleth"
           }
          ],
          "contour": [
           {
            "colorbar": {
             "outlinewidth": 0,
             "ticks": ""
            },
            "colorscale": [
             [
              0,
              "#0d0887"
             ],
             [
              0.1111111111111111,
              "#46039f"
             ],
             [
              0.2222222222222222,
              "#7201a8"
             ],
             [
              0.3333333333333333,
              "#9c179e"
             ],
             [
              0.4444444444444444,
              "#bd3786"
             ],
             [
              0.5555555555555556,
              "#d8576b"
             ],
             [
              0.6666666666666666,
              "#ed7953"
             ],
             [
              0.7777777777777778,
              "#fb9f3a"
             ],
             [
              0.8888888888888888,
              "#fdca26"
             ],
             [
              1,
              "#f0f921"
             ]
            ],
            "type": "contour"
           }
          ],
          "contourcarpet": [
           {
            "colorbar": {
             "outlinewidth": 0,
             "ticks": ""
            },
            "type": "contourcarpet"
           }
          ],
          "heatmap": [
           {
            "colorbar": {
             "outlinewidth": 0,
             "ticks": ""
            },
            "colorscale": [
             [
              0,
              "#0d0887"
             ],
             [
              0.1111111111111111,
              "#46039f"
             ],
             [
              0.2222222222222222,
              "#7201a8"
             ],
             [
              0.3333333333333333,
              "#9c179e"
             ],
             [
              0.4444444444444444,
              "#bd3786"
             ],
             [
              0.5555555555555556,
              "#d8576b"
             ],
             [
              0.6666666666666666,
              "#ed7953"
             ],
             [
              0.7777777777777778,
              "#fb9f3a"
             ],
             [
              0.8888888888888888,
              "#fdca26"
             ],
             [
              1,
              "#f0f921"
             ]
            ],
            "type": "heatmap"
           }
          ],
          "heatmapgl": [
           {
            "colorbar": {
             "outlinewidth": 0,
             "ticks": ""
            },
            "colorscale": [
             [
              0,
              "#0d0887"
             ],
             [
              0.1111111111111111,
              "#46039f"
             ],
             [
              0.2222222222222222,
              "#7201a8"
             ],
             [
              0.3333333333333333,
              "#9c179e"
             ],
             [
              0.4444444444444444,
              "#bd3786"
             ],
             [
              0.5555555555555556,
              "#d8576b"
             ],
             [
              0.6666666666666666,
              "#ed7953"
             ],
             [
              0.7777777777777778,
              "#fb9f3a"
             ],
             [
              0.8888888888888888,
              "#fdca26"
             ],
             [
              1,
              "#f0f921"
             ]
            ],
            "type": "heatmapgl"
           }
          ],
          "histogram": [
           {
            "marker": {
             "pattern": {
              "fillmode": "overlay",
              "size": 10,
              "solidity": 0.2
             }
            },
            "type": "histogram"
           }
          ],
          "histogram2d": [
           {
            "colorbar": {
             "outlinewidth": 0,
             "ticks": ""
            },
            "colorscale": [
             [
              0,
              "#0d0887"
             ],
             [
              0.1111111111111111,
              "#46039f"
             ],
             [
              0.2222222222222222,
              "#7201a8"
             ],
             [
              0.3333333333333333,
              "#9c179e"
             ],
             [
              0.4444444444444444,
              "#bd3786"
             ],
             [
              0.5555555555555556,
              "#d8576b"
             ],
             [
              0.6666666666666666,
              "#ed7953"
             ],
             [
              0.7777777777777778,
              "#fb9f3a"
             ],
             [
              0.8888888888888888,
              "#fdca26"
             ],
             [
              1,
              "#f0f921"
             ]
            ],
            "type": "histogram2d"
           }
          ],
          "histogram2dcontour": [
           {
            "colorbar": {
             "outlinewidth": 0,
             "ticks": ""
            },
            "colorscale": [
             [
              0,
              "#0d0887"
             ],
             [
              0.1111111111111111,
              "#46039f"
             ],
             [
              0.2222222222222222,
              "#7201a8"
             ],
             [
              0.3333333333333333,
              "#9c179e"
             ],
             [
              0.4444444444444444,
              "#bd3786"
             ],
             [
              0.5555555555555556,
              "#d8576b"
             ],
             [
              0.6666666666666666,
              "#ed7953"
             ],
             [
              0.7777777777777778,
              "#fb9f3a"
             ],
             [
              0.8888888888888888,
              "#fdca26"
             ],
             [
              1,
              "#f0f921"
             ]
            ],
            "type": "histogram2dcontour"
           }
          ],
          "mesh3d": [
           {
            "colorbar": {
             "outlinewidth": 0,
             "ticks": ""
            },
            "type": "mesh3d"
           }
          ],
          "parcoords": [
           {
            "line": {
             "colorbar": {
              "outlinewidth": 0,
              "ticks": ""
             }
            },
            "type": "parcoords"
           }
          ],
          "pie": [
           {
            "automargin": true,
            "type": "pie"
           }
          ],
          "scatter": [
           {
            "fillpattern": {
             "fillmode": "overlay",
             "size": 10,
             "solidity": 0.2
            },
            "type": "scatter"
           }
          ],
          "scatter3d": [
           {
            "line": {
             "colorbar": {
              "outlinewidth": 0,
              "ticks": ""
             }
            },
            "marker": {
             "colorbar": {
              "outlinewidth": 0,
              "ticks": ""
             }
            },
            "type": "scatter3d"
           }
          ],
          "scattercarpet": [
           {
            "marker": {
             "colorbar": {
              "outlinewidth": 0,
              "ticks": ""
             }
            },
            "type": "scattercarpet"
           }
          ],
          "scattergeo": [
           {
            "marker": {
             "colorbar": {
              "outlinewidth": 0,
              "ticks": ""
             }
            },
            "type": "scattergeo"
           }
          ],
          "scattergl": [
           {
            "marker": {
             "colorbar": {
              "outlinewidth": 0,
              "ticks": ""
             }
            },
            "type": "scattergl"
           }
          ],
          "scattermapbox": [
           {
            "marker": {
             "colorbar": {
              "outlinewidth": 0,
              "ticks": ""
             }
            },
            "type": "scattermapbox"
           }
          ],
          "scatterpolar": [
           {
            "marker": {
             "colorbar": {
              "outlinewidth": 0,
              "ticks": ""
             }
            },
            "type": "scatterpolar"
           }
          ],
          "scatterpolargl": [
           {
            "marker": {
             "colorbar": {
              "outlinewidth": 0,
              "ticks": ""
             }
            },
            "type": "scatterpolargl"
           }
          ],
          "scatterternary": [
           {
            "marker": {
             "colorbar": {
              "outlinewidth": 0,
              "ticks": ""
             }
            },
            "type": "scatterternary"
           }
          ],
          "surface": [
           {
            "colorbar": {
             "outlinewidth": 0,
             "ticks": ""
            },
            "colorscale": [
             [
              0,
              "#0d0887"
             ],
             [
              0.1111111111111111,
              "#46039f"
             ],
             [
              0.2222222222222222,
              "#7201a8"
             ],
             [
              0.3333333333333333,
              "#9c179e"
             ],
             [
              0.4444444444444444,
              "#bd3786"
             ],
             [
              0.5555555555555556,
              "#d8576b"
             ],
             [
              0.6666666666666666,
              "#ed7953"
             ],
             [
              0.7777777777777778,
              "#fb9f3a"
             ],
             [
              0.8888888888888888,
              "#fdca26"
             ],
             [
              1,
              "#f0f921"
             ]
            ],
            "type": "surface"
           }
          ],
          "table": [
           {
            "cells": {
             "fill": {
              "color": "#EBF0F8"
             },
             "line": {
              "color": "white"
             }
            },
            "header": {
             "fill": {
              "color": "#C8D4E3"
             },
             "line": {
              "color": "white"
             }
            },
            "type": "table"
           }
          ]
         },
         "layout": {
          "annotationdefaults": {
           "arrowcolor": "#2a3f5f",
           "arrowhead": 0,
           "arrowwidth": 1
          },
          "autotypenumbers": "strict",
          "coloraxis": {
           "colorbar": {
            "outlinewidth": 0,
            "ticks": ""
           }
          },
          "colorscale": {
           "diverging": [
            [
             0,
             "#8e0152"
            ],
            [
             0.1,
             "#c51b7d"
            ],
            [
             0.2,
             "#de77ae"
            ],
            [
             0.3,
             "#f1b6da"
            ],
            [
             0.4,
             "#fde0ef"
            ],
            [
             0.5,
             "#f7f7f7"
            ],
            [
             0.6,
             "#e6f5d0"
            ],
            [
             0.7,
             "#b8e186"
            ],
            [
             0.8,
             "#7fbc41"
            ],
            [
             0.9,
             "#4d9221"
            ],
            [
             1,
             "#276419"
            ]
           ],
           "sequential": [
            [
             0,
             "#0d0887"
            ],
            [
             0.1111111111111111,
             "#46039f"
            ],
            [
             0.2222222222222222,
             "#7201a8"
            ],
            [
             0.3333333333333333,
             "#9c179e"
            ],
            [
             0.4444444444444444,
             "#bd3786"
            ],
            [
             0.5555555555555556,
             "#d8576b"
            ],
            [
             0.6666666666666666,
             "#ed7953"
            ],
            [
             0.7777777777777778,
             "#fb9f3a"
            ],
            [
             0.8888888888888888,
             "#fdca26"
            ],
            [
             1,
             "#f0f921"
            ]
           ],
           "sequentialminus": [
            [
             0,
             "#0d0887"
            ],
            [
             0.1111111111111111,
             "#46039f"
            ],
            [
             0.2222222222222222,
             "#7201a8"
            ],
            [
             0.3333333333333333,
             "#9c179e"
            ],
            [
             0.4444444444444444,
             "#bd3786"
            ],
            [
             0.5555555555555556,
             "#d8576b"
            ],
            [
             0.6666666666666666,
             "#ed7953"
            ],
            [
             0.7777777777777778,
             "#fb9f3a"
            ],
            [
             0.8888888888888888,
             "#fdca26"
            ],
            [
             1,
             "#f0f921"
            ]
           ]
          },
          "colorway": [
           "#636efa",
           "#EF553B",
           "#00cc96",
           "#ab63fa",
           "#FFA15A",
           "#19d3f3",
           "#FF6692",
           "#B6E880",
           "#FF97FF",
           "#FECB52"
          ],
          "font": {
           "color": "#2a3f5f"
          },
          "geo": {
           "bgcolor": "white",
           "lakecolor": "white",
           "landcolor": "#E5ECF6",
           "showlakes": true,
           "showland": true,
           "subunitcolor": "white"
          },
          "hoverlabel": {
           "align": "left"
          },
          "hovermode": "closest",
          "mapbox": {
           "style": "light"
          },
          "paper_bgcolor": "white",
          "plot_bgcolor": "#E5ECF6",
          "polar": {
           "angularaxis": {
            "gridcolor": "white",
            "linecolor": "white",
            "ticks": ""
           },
           "bgcolor": "#E5ECF6",
           "radialaxis": {
            "gridcolor": "white",
            "linecolor": "white",
            "ticks": ""
           }
          },
          "scene": {
           "xaxis": {
            "backgroundcolor": "#E5ECF6",
            "gridcolor": "white",
            "gridwidth": 2,
            "linecolor": "white",
            "showbackground": true,
            "ticks": "",
            "zerolinecolor": "white"
           },
           "yaxis": {
            "backgroundcolor": "#E5ECF6",
            "gridcolor": "white",
            "gridwidth": 2,
            "linecolor": "white",
            "showbackground": true,
            "ticks": "",
            "zerolinecolor": "white"
           },
           "zaxis": {
            "backgroundcolor": "#E5ECF6",
            "gridcolor": "white",
            "gridwidth": 2,
            "linecolor": "white",
            "showbackground": true,
            "ticks": "",
            "zerolinecolor": "white"
           }
          },
          "shapedefaults": {
           "line": {
            "color": "#2a3f5f"
           }
          },
          "ternary": {
           "aaxis": {
            "gridcolor": "white",
            "linecolor": "white",
            "ticks": ""
           },
           "baxis": {
            "gridcolor": "white",
            "linecolor": "white",
            "ticks": ""
           },
           "bgcolor": "#E5ECF6",
           "caxis": {
            "gridcolor": "white",
            "linecolor": "white",
            "ticks": ""
           }
          },
          "title": {
           "x": 0.05
          },
          "xaxis": {
           "automargin": true,
           "gridcolor": "white",
           "linecolor": "white",
           "ticks": "",
           "title": {
            "standoff": 15
           },
           "zerolinecolor": "white",
           "zerolinewidth": 2
          },
          "yaxis": {
           "automargin": true,
           "gridcolor": "white",
           "linecolor": "white",
           "ticks": "",
           "title": {
            "standoff": 15
           },
           "zerolinecolor": "white",
           "zerolinewidth": 2
          }
         }
        },
        "title": {
         "font": {
          "size": 28
         },
         "text": "Количество вакансий на позицию DataScientist в городах России",
         "x": 0.5,
         "y": 0.97
        },
        "width": 1500
       }
      }
     },
     "metadata": {},
     "output_type": "display_data"
    }
   ],
   "source": [
    "# Чтобы посмотреть распределение вакансий по городам России получим список городов с сайта wikipedia.  \n",
    "url = 'https://ru.wikipedia.org/wiki/%D0%A1%D0%BF%D0%B8%D1%81%D0%BE%D0%BA_\\\n",
    "%D0%B3%D0%BE%D1%80%D0%BE%D0%B4%D0%BE%D0%B2_%D0%A0%D0%BE%D1%81%D1%81%D0%B8%D0%B8_%D1%81_\\\n",
    "%D0%BD%D0%B0%D1%81%D0%B5%D0%BB%D0%B5%D0%BD%D0%B8%D0%B5%D0%BC_%D0%B1%D0%BE%D0%BB%D0%B5%D0%B5_\\\n",
    "100_%D1%82%D1%8B%D1%81%D1%8F%D1%87_%D0%B6%D0%B8%D1%82%D0%B5%D0%BB%D0%B5%D0%B9'\n",
    "    \n",
    "cities=pd.read_html(url)[0].iloc[:, 2:3]\n",
    "\n",
    "# Преобразуем датафрейм в список.\n",
    "city_list = list(cities['Город']['Город'])\n",
    "\n",
    "# В полученном списке для некоторых городов указаны регионы в квадратных скобках. \n",
    "# Избавимся от них и получим кортеж с названиями городов России.\n",
    "for ind, val in enumerate(city_list):\n",
    "    if '[' in val:\n",
    "        val = val.split('[')\n",
    "        city_list[ind] = val[0]\n",
    "city_list = tuple(city_list)\n",
    "\n",
    "# Напишем запрос для получения количества вакансий на позицию Data Scientist в городах России.\n",
    "query_7_5 = f'''SELECT\n",
    "                    a.name AS city,\n",
    "                    COUNT(v.id) AS cnt_vac\n",
    "                FROM public.vacancies AS v\n",
    "                JOIN public.areas AS a\n",
    "                    ON v.area_id = a.id\n",
    "                    AND a.name NOT IN {country_list}\n",
    "                    AND a.name IN {city_list}\n",
    "                /* \n",
    "                Так как используется соединение таблиц содержажих одинаковые наименования полей требуется\n",
    "                указывать алиесы, поэтом условие отнесения вакансии к DS нужно прописать заново.\n",
    "                */\n",
    "                WHERE (v.name ILIKE '%%data scientist%%'                    \n",
    "                    OR v.name ILIKE '%%data science%%'                    \n",
    "                    OR v.name ILIKE '%%исследователь данных%%'                    \n",
    "                    OR v.name ILIKE '%%машинн%%обучен%%'                    \n",
    "                    OR v.name ILIKE '%%machine learning%%')\n",
    "                    OR (v.name LIKE '%%ML%%' AND v.name NOT LIKE '%%HTML%%')                    \n",
    "                GROUP BY a.name\n",
    "                ORDER BY cnt_vac DESC\n",
    "            '''\n",
    "\n",
    "ds_vc = pd.read_sql_query(query_7_5, connection)\n",
    "\n",
    "# Чтобы отобразить распределение вакансий на крате нам потребуется дополнить полученную \n",
    "# таблицу координатами городов. Для чего вытащим их по ссылке.\n",
    "url = 'https://on55.ru/statya/koordinaty-lat-i-lng-vsex-gorodov-rossii'\n",
    "coordinats = pd.read_html(url)[0]\n",
    "\n",
    "# Выберем интересующие нас данные и переименуем столбцы.\n",
    "city_coord = pd.concat([coordinats.iloc[:, 0], coordinats.iloc[:, 3:5]], axis=1)\n",
    "city_coord.columns = ['city', 'geo_lat', 'geo_lon']\n",
    "city_coord = city_coord.drop([0]) # Убираем первую строку со старыми названиями столбцов\n",
    "\n",
    "# В полученной таблице составные названия городов написаны слитно. Например, 'ПавловскийПосад'.\n",
    "# Разделяем названия городов по заглавной букве.\n",
    "city_coord['city'] = city_coord['city'].apply(lambda x: ' '.join(re.sub(r'([А-Я])', r' \\1', x).split()))\n",
    "\n",
    "# Убирем получившиеся пробелы из названий городов с дефисом с помощью функции.\n",
    "def city_fix(name):\n",
    "    if '- ' in name:\n",
    "        name = '-'.join(name.split('- '))\n",
    "        return name\n",
    "    return name\n",
    "\n",
    "city_coord['city'] = city_coord['city'].apply(city_fix)\n",
    "\n",
    "# Изменяем тип данных для координат со строкового на числовой.\n",
    "city_coord = city_coord.astype({'geo_lat':np.float32})\n",
    "city_coord = city_coord.astype({'geo_lon':np.float32})\n",
    "\n",
    "# В таблице с координатами обнаружилась ошибка в координатах Нижнего Новгорода. \n",
    "# Исправим это заменив координаты на верные.\n",
    "city_coord.loc[city_coord['city'] == 'Нижний Новгород', 'geo_lat'] = 56.3287\n",
    "city_coord.loc[city_coord['city'] == 'Нижний Новгород', 'geo_lon'] = 44.002\n",
    "\n",
    "# Объединяем наши таблицы в одну по столбцу 'city'.\n",
    "city_tab = ds_vc.merge(city_coord, on = 'city', how='left')\n",
    "\n",
    "# Строим карту с распределением количества вакансий по городам.\n",
    "fig = go.Figure(go.Scattermapbox(\n",
    "                                lat=city_tab['geo_lat'],\n",
    "                                lon=city_tab['geo_lon'],\n",
    "                                mode='markers+text',\n",
    "                                marker=dict(\n",
    "                                            colorbar=dict(\n",
    "                                                          title=dict(\n",
    "                                                                     text='Количество вакансий',\n",
    "                                                                     side='right'\n",
    "                                                                     ),\n",
    "                                                          xanchor='left',\n",
    "                                                          xpad=20\n",
    "                                                          ),\n",
    "                                            color=city_tab['cnt_vac'],\n",
    "                                            cmin=-100,\n",
    "                                            cmax=250,                                    \n",
    "                                            colorscale = 'spectral',                                           \n",
    "                                            size=city_tab['cnt_vac'],\n",
    "                                            sizemode='area',\n",
    "                                            sizeref=0.7                               \n",
    "                                            ),\n",
    "                                textposition='top right',\n",
    "                                textfont=dict(size=16, color='black'),\n",
    "                                text=[\n",
    "                                      city_tab['city'][i] + '<br>' + 'Количество вакансий: ' +\n",
    "                                      str(city_tab['cnt_vac'][i]) for i in range(city_tab.shape[0])\n",
    "                                      ]\n",
    "                                )\n",
    "                )\n",
    "               \n",
    "# Настроим центркарты как среднее значение между максимальными и минимальными значениями \n",
    "# координат городов из нашей таблицы. \n",
    "map_center = go.layout.mapbox.Center(\n",
    "                                     lat=(city_tab['geo_lat'].max()+city_tab['geo_lat'].min())/2, \n",
    "                                     lon=(city_tab['geo_lon'].max()+city_tab['geo_lon'].min())/2\n",
    "                                     )\n",
    "fig.update_layout(\n",
    "                  mapbox_style=\"carto-darkmatter\",\n",
    "                  mapbox=dict(center=map_center, zoom=2),\n",
    "                  height=500, \n",
    "                  width=1500,\n",
    "                  margin=dict(r=10, b=20, t=60, l=10),\n",
    "                  title=dict(\n",
    "                             text='Количество вакансий на позицию DataScientist в городах России',\n",
    "                             x=0.5,\n",
    "                             y=0.97,\n",
    "                             font=dict(size=28)\n",
    "                             )                  \n",
    "                  )\n",
    "\n",
    "fig.show()\n"
   ]
  },
  {
   "attachments": {},
   "cell_type": "markdown",
   "metadata": {},
   "source": [
    "***\n",
    " Распределение вакансий по городам показывает, что основное количество ваканси на позиция Data Scientist сосредоточено в Москве и Санкт-Петербурге 217 и 64 вакансии соответственно. Далее идут Новосибирск, Нижний Новгород и Казань с количеством вакансий от 16 до 23. В целом, с учетом того что без опыта работы вакансию с типом рабочего графика \"Удаленная работа\" найти очень трудно, начинающему дата сайентисту стоит подумать о переезде в Москву или Санкт-Петербург."
   ]
  },
  {
   "attachments": {},
   "cell_type": "markdown",
   "metadata": {},
   "source": [
    "5. Посмотрим на средний уровень зарплат для вакансий Data Scientist в заисимости от города и опыта работы."
   ]
  },
  {
   "cell_type": "code",
   "execution_count": 76,
   "metadata": {},
   "outputs": [
    {
     "data": {
      "application/vnd.plotly.v1+json": {
       "config": {
        "plotlyServerURL": "https://plot.ly"
       },
       "data": [
        {
         "alignmentgroup": "True",
         "hovertemplate": "Опыт=Нет опыта<br>Город=%{x}<br>Средняя зарплата в руб.=%{y}<extra></extra>",
         "legendgroup": "Нет опыта",
         "marker": {
          "color": "#636efa",
          "pattern": {
           "shape": ""
          }
         },
         "name": "Нет опыта",
         "offsetgroup": "Нет опыта",
         "orientation": "v",
         "showlegend": true,
         "textposition": "auto",
         "type": "bar",
         "x": [
          "Москва",
          "Санкт-Петербург",
          "Новосибирск",
          "Екатеринбург",
          "Владивосток"
         ],
         "xaxis": "x",
         "y": [
          72500,
          87667,
          80000,
          37000,
          70000
         ],
         "yaxis": "y"
        },
        {
         "alignmentgroup": "True",
         "hovertemplate": "Опыт=От 1 года до 3 лет<br>Город=%{x}<br>Средняя зарплата в руб.=%{y}<extra></extra>",
         "legendgroup": "От 1 года до 3 лет",
         "marker": {
          "color": "#EF553B",
          "pattern": {
           "shape": ""
          }
         },
         "name": "От 1 года до 3 лет",
         "offsetgroup": "От 1 года до 3 лет",
         "orientation": "v",
         "showlegend": true,
         "textposition": "auto",
         "type": "bar",
         "x": [
          "Москва",
          "Санкт-Петербург",
          "Казань",
          "Екатеринбург",
          "Ростов-на-Дону",
          "Пермь",
          "Рязань",
          "Владивосток",
          "Уфа",
          "Барнаул"
         ],
         "xaxis": "x",
         "y": [
          169179,
          175173,
          50000,
          167500,
          50000,
          75000,
          105000,
          100000,
          90000,
          60000
         ],
         "yaxis": "y"
        },
        {
         "alignmentgroup": "True",
         "hovertemplate": "Опыт=От 3 до 6 лет<br>Город=%{x}<br>Средняя зарплата в руб.=%{y}<extra></extra>",
         "legendgroup": "От 3 до 6 лет",
         "marker": {
          "color": "#00cc96",
          "pattern": {
           "shape": ""
          }
         },
         "name": "От 3 до 6 лет",
         "offsetgroup": "От 3 до 6 лет",
         "orientation": "v",
         "showlegend": true,
         "textposition": "auto",
         "type": "bar",
         "x": [
          "Москва",
          "Санкт-Петербург",
          "Новосибирск",
          "Рязань",
          "Белгород"
         ],
         "xaxis": "x",
         "y": [
          263750,
          300000,
          209500,
          152500,
          200000
         ],
         "yaxis": "y"
        }
       ],
       "layout": {
        "barmode": "group",
        "height": 500,
        "legend": {
         "title": {
          "text": "Опыт:"
         },
         "tracegroupgap": 0
        },
        "margin": {
         "t": 90
        },
        "template": {
         "data": {
          "bar": [
           {
            "error_x": {
             "color": "#2a3f5f"
            },
            "error_y": {
             "color": "#2a3f5f"
            },
            "marker": {
             "line": {
              "color": "#E5ECF6",
              "width": 0.5
             },
             "pattern": {
              "fillmode": "overlay",
              "size": 10,
              "solidity": 0.2
             }
            },
            "type": "bar"
           }
          ],
          "barpolar": [
           {
            "marker": {
             "line": {
              "color": "#E5ECF6",
              "width": 0.5
             },
             "pattern": {
              "fillmode": "overlay",
              "size": 10,
              "solidity": 0.2
             }
            },
            "type": "barpolar"
           }
          ],
          "carpet": [
           {
            "aaxis": {
             "endlinecolor": "#2a3f5f",
             "gridcolor": "white",
             "linecolor": "white",
             "minorgridcolor": "white",
             "startlinecolor": "#2a3f5f"
            },
            "baxis": {
             "endlinecolor": "#2a3f5f",
             "gridcolor": "white",
             "linecolor": "white",
             "minorgridcolor": "white",
             "startlinecolor": "#2a3f5f"
            },
            "type": "carpet"
           }
          ],
          "choropleth": [
           {
            "colorbar": {
             "outlinewidth": 0,
             "ticks": ""
            },
            "type": "choropleth"
           }
          ],
          "contour": [
           {
            "colorbar": {
             "outlinewidth": 0,
             "ticks": ""
            },
            "colorscale": [
             [
              0,
              "#0d0887"
             ],
             [
              0.1111111111111111,
              "#46039f"
             ],
             [
              0.2222222222222222,
              "#7201a8"
             ],
             [
              0.3333333333333333,
              "#9c179e"
             ],
             [
              0.4444444444444444,
              "#bd3786"
             ],
             [
              0.5555555555555556,
              "#d8576b"
             ],
             [
              0.6666666666666666,
              "#ed7953"
             ],
             [
              0.7777777777777778,
              "#fb9f3a"
             ],
             [
              0.8888888888888888,
              "#fdca26"
             ],
             [
              1,
              "#f0f921"
             ]
            ],
            "type": "contour"
           }
          ],
          "contourcarpet": [
           {
            "colorbar": {
             "outlinewidth": 0,
             "ticks": ""
            },
            "type": "contourcarpet"
           }
          ],
          "heatmap": [
           {
            "colorbar": {
             "outlinewidth": 0,
             "ticks": ""
            },
            "colorscale": [
             [
              0,
              "#0d0887"
             ],
             [
              0.1111111111111111,
              "#46039f"
             ],
             [
              0.2222222222222222,
              "#7201a8"
             ],
             [
              0.3333333333333333,
              "#9c179e"
             ],
             [
              0.4444444444444444,
              "#bd3786"
             ],
             [
              0.5555555555555556,
              "#d8576b"
             ],
             [
              0.6666666666666666,
              "#ed7953"
             ],
             [
              0.7777777777777778,
              "#fb9f3a"
             ],
             [
              0.8888888888888888,
              "#fdca26"
             ],
             [
              1,
              "#f0f921"
             ]
            ],
            "type": "heatmap"
           }
          ],
          "heatmapgl": [
           {
            "colorbar": {
             "outlinewidth": 0,
             "ticks": ""
            },
            "colorscale": [
             [
              0,
              "#0d0887"
             ],
             [
              0.1111111111111111,
              "#46039f"
             ],
             [
              0.2222222222222222,
              "#7201a8"
             ],
             [
              0.3333333333333333,
              "#9c179e"
             ],
             [
              0.4444444444444444,
              "#bd3786"
             ],
             [
              0.5555555555555556,
              "#d8576b"
             ],
             [
              0.6666666666666666,
              "#ed7953"
             ],
             [
              0.7777777777777778,
              "#fb9f3a"
             ],
             [
              0.8888888888888888,
              "#fdca26"
             ],
             [
              1,
              "#f0f921"
             ]
            ],
            "type": "heatmapgl"
           }
          ],
          "histogram": [
           {
            "marker": {
             "pattern": {
              "fillmode": "overlay",
              "size": 10,
              "solidity": 0.2
             }
            },
            "type": "histogram"
           }
          ],
          "histogram2d": [
           {
            "colorbar": {
             "outlinewidth": 0,
             "ticks": ""
            },
            "colorscale": [
             [
              0,
              "#0d0887"
             ],
             [
              0.1111111111111111,
              "#46039f"
             ],
             [
              0.2222222222222222,
              "#7201a8"
             ],
             [
              0.3333333333333333,
              "#9c179e"
             ],
             [
              0.4444444444444444,
              "#bd3786"
             ],
             [
              0.5555555555555556,
              "#d8576b"
             ],
             [
              0.6666666666666666,
              "#ed7953"
             ],
             [
              0.7777777777777778,
              "#fb9f3a"
             ],
             [
              0.8888888888888888,
              "#fdca26"
             ],
             [
              1,
              "#f0f921"
             ]
            ],
            "type": "histogram2d"
           }
          ],
          "histogram2dcontour": [
           {
            "colorbar": {
             "outlinewidth": 0,
             "ticks": ""
            },
            "colorscale": [
             [
              0,
              "#0d0887"
             ],
             [
              0.1111111111111111,
              "#46039f"
             ],
             [
              0.2222222222222222,
              "#7201a8"
             ],
             [
              0.3333333333333333,
              "#9c179e"
             ],
             [
              0.4444444444444444,
              "#bd3786"
             ],
             [
              0.5555555555555556,
              "#d8576b"
             ],
             [
              0.6666666666666666,
              "#ed7953"
             ],
             [
              0.7777777777777778,
              "#fb9f3a"
             ],
             [
              0.8888888888888888,
              "#fdca26"
             ],
             [
              1,
              "#f0f921"
             ]
            ],
            "type": "histogram2dcontour"
           }
          ],
          "mesh3d": [
           {
            "colorbar": {
             "outlinewidth": 0,
             "ticks": ""
            },
            "type": "mesh3d"
           }
          ],
          "parcoords": [
           {
            "line": {
             "colorbar": {
              "outlinewidth": 0,
              "ticks": ""
             }
            },
            "type": "parcoords"
           }
          ],
          "pie": [
           {
            "automargin": true,
            "type": "pie"
           }
          ],
          "scatter": [
           {
            "fillpattern": {
             "fillmode": "overlay",
             "size": 10,
             "solidity": 0.2
            },
            "type": "scatter"
           }
          ],
          "scatter3d": [
           {
            "line": {
             "colorbar": {
              "outlinewidth": 0,
              "ticks": ""
             }
            },
            "marker": {
             "colorbar": {
              "outlinewidth": 0,
              "ticks": ""
             }
            },
            "type": "scatter3d"
           }
          ],
          "scattercarpet": [
           {
            "marker": {
             "colorbar": {
              "outlinewidth": 0,
              "ticks": ""
             }
            },
            "type": "scattercarpet"
           }
          ],
          "scattergeo": [
           {
            "marker": {
             "colorbar": {
              "outlinewidth": 0,
              "ticks": ""
             }
            },
            "type": "scattergeo"
           }
          ],
          "scattergl": [
           {
            "marker": {
             "colorbar": {
              "outlinewidth": 0,
              "ticks": ""
             }
            },
            "type": "scattergl"
           }
          ],
          "scattermapbox": [
           {
            "marker": {
             "colorbar": {
              "outlinewidth": 0,
              "ticks": ""
             }
            },
            "type": "scattermapbox"
           }
          ],
          "scatterpolar": [
           {
            "marker": {
             "colorbar": {
              "outlinewidth": 0,
              "ticks": ""
             }
            },
            "type": "scatterpolar"
           }
          ],
          "scatterpolargl": [
           {
            "marker": {
             "colorbar": {
              "outlinewidth": 0,
              "ticks": ""
             }
            },
            "type": "scatterpolargl"
           }
          ],
          "scatterternary": [
           {
            "marker": {
             "colorbar": {
              "outlinewidth": 0,
              "ticks": ""
             }
            },
            "type": "scatterternary"
           }
          ],
          "surface": [
           {
            "colorbar": {
             "outlinewidth": 0,
             "ticks": ""
            },
            "colorscale": [
             [
              0,
              "#0d0887"
             ],
             [
              0.1111111111111111,
              "#46039f"
             ],
             [
              0.2222222222222222,
              "#7201a8"
             ],
             [
              0.3333333333333333,
              "#9c179e"
             ],
             [
              0.4444444444444444,
              "#bd3786"
             ],
             [
              0.5555555555555556,
              "#d8576b"
             ],
             [
              0.6666666666666666,
              "#ed7953"
             ],
             [
              0.7777777777777778,
              "#fb9f3a"
             ],
             [
              0.8888888888888888,
              "#fdca26"
             ],
             [
              1,
              "#f0f921"
             ]
            ],
            "type": "surface"
           }
          ],
          "table": [
           {
            "cells": {
             "fill": {
              "color": "#EBF0F8"
             },
             "line": {
              "color": "white"
             }
            },
            "header": {
             "fill": {
              "color": "#C8D4E3"
             },
             "line": {
              "color": "white"
             }
            },
            "type": "table"
           }
          ]
         },
         "layout": {
          "annotationdefaults": {
           "arrowcolor": "#2a3f5f",
           "arrowhead": 0,
           "arrowwidth": 1
          },
          "autotypenumbers": "strict",
          "coloraxis": {
           "colorbar": {
            "outlinewidth": 0,
            "ticks": ""
           }
          },
          "colorscale": {
           "diverging": [
            [
             0,
             "#8e0152"
            ],
            [
             0.1,
             "#c51b7d"
            ],
            [
             0.2,
             "#de77ae"
            ],
            [
             0.3,
             "#f1b6da"
            ],
            [
             0.4,
             "#fde0ef"
            ],
            [
             0.5,
             "#f7f7f7"
            ],
            [
             0.6,
             "#e6f5d0"
            ],
            [
             0.7,
             "#b8e186"
            ],
            [
             0.8,
             "#7fbc41"
            ],
            [
             0.9,
             "#4d9221"
            ],
            [
             1,
             "#276419"
            ]
           ],
           "sequential": [
            [
             0,
             "#0d0887"
            ],
            [
             0.1111111111111111,
             "#46039f"
            ],
            [
             0.2222222222222222,
             "#7201a8"
            ],
            [
             0.3333333333333333,
             "#9c179e"
            ],
            [
             0.4444444444444444,
             "#bd3786"
            ],
            [
             0.5555555555555556,
             "#d8576b"
            ],
            [
             0.6666666666666666,
             "#ed7953"
            ],
            [
             0.7777777777777778,
             "#fb9f3a"
            ],
            [
             0.8888888888888888,
             "#fdca26"
            ],
            [
             1,
             "#f0f921"
            ]
           ],
           "sequentialminus": [
            [
             0,
             "#0d0887"
            ],
            [
             0.1111111111111111,
             "#46039f"
            ],
            [
             0.2222222222222222,
             "#7201a8"
            ],
            [
             0.3333333333333333,
             "#9c179e"
            ],
            [
             0.4444444444444444,
             "#bd3786"
            ],
            [
             0.5555555555555556,
             "#d8576b"
            ],
            [
             0.6666666666666666,
             "#ed7953"
            ],
            [
             0.7777777777777778,
             "#fb9f3a"
            ],
            [
             0.8888888888888888,
             "#fdca26"
            ],
            [
             1,
             "#f0f921"
            ]
           ]
          },
          "colorway": [
           "#636efa",
           "#EF553B",
           "#00cc96",
           "#ab63fa",
           "#FFA15A",
           "#19d3f3",
           "#FF6692",
           "#B6E880",
           "#FF97FF",
           "#FECB52"
          ],
          "font": {
           "color": "#2a3f5f"
          },
          "geo": {
           "bgcolor": "white",
           "lakecolor": "white",
           "landcolor": "#E5ECF6",
           "showlakes": true,
           "showland": true,
           "subunitcolor": "white"
          },
          "hoverlabel": {
           "align": "left"
          },
          "hovermode": "closest",
          "mapbox": {
           "style": "light"
          },
          "paper_bgcolor": "white",
          "plot_bgcolor": "#E5ECF6",
          "polar": {
           "angularaxis": {
            "gridcolor": "white",
            "linecolor": "white",
            "ticks": ""
           },
           "bgcolor": "#E5ECF6",
           "radialaxis": {
            "gridcolor": "white",
            "linecolor": "white",
            "ticks": ""
           }
          },
          "scene": {
           "xaxis": {
            "backgroundcolor": "#E5ECF6",
            "gridcolor": "white",
            "gridwidth": 2,
            "linecolor": "white",
            "showbackground": true,
            "ticks": "",
            "zerolinecolor": "white"
           },
           "yaxis": {
            "backgroundcolor": "#E5ECF6",
            "gridcolor": "white",
            "gridwidth": 2,
            "linecolor": "white",
            "showbackground": true,
            "ticks": "",
            "zerolinecolor": "white"
           },
           "zaxis": {
            "backgroundcolor": "#E5ECF6",
            "gridcolor": "white",
            "gridwidth": 2,
            "linecolor": "white",
            "showbackground": true,
            "ticks": "",
            "zerolinecolor": "white"
           }
          },
          "shapedefaults": {
           "line": {
            "color": "#2a3f5f"
           }
          },
          "ternary": {
           "aaxis": {
            "gridcolor": "white",
            "linecolor": "white",
            "ticks": ""
           },
           "baxis": {
            "gridcolor": "white",
            "linecolor": "white",
            "ticks": ""
           },
           "bgcolor": "#E5ECF6",
           "caxis": {
            "gridcolor": "white",
            "linecolor": "white",
            "ticks": ""
           }
          },
          "title": {
           "x": 0.05
          },
          "xaxis": {
           "automargin": true,
           "gridcolor": "white",
           "linecolor": "white",
           "ticks": "",
           "title": {
            "standoff": 15
           },
           "zerolinecolor": "white",
           "zerolinewidth": 2
          },
          "yaxis": {
           "automargin": true,
           "gridcolor": "white",
           "linecolor": "white",
           "ticks": "",
           "title": {
            "standoff": 15
           },
           "zerolinecolor": "white",
           "zerolinewidth": 2
          }
         }
        },
        "title": {
         "font": {
          "size": 24
         },
         "text": "Предлагаемый уровень зарплаты для вакансий Data Scientist в городах России",
         "x": 0.5
        },
        "width": 1000,
        "xaxis": {
         "anchor": "y",
         "domain": [
          0,
          1
         ],
         "title": {
          "text": "Город"
         }
        },
        "yaxis": {
         "anchor": "x",
         "domain": [
          0,
          1
         ],
         "gridcolor": "gray",
         "gridwidth": 1,
         "title": {
          "text": "Средняя зарплата в руб."
         }
        }
       }
      }
     },
     "metadata": {},
     "output_type": "display_data"
    }
   ],
   "source": [
    "# Проверим средний уровень зарплат предлагаемых для вакансий Data Scientist в городах России в \n",
    "# зависимости от опыта работы.\n",
    "query_7_6 = f'''SELECT\n",
    "                    a.name AS city,\n",
    "                    experience,\n",
    "                    ROUND(AVG(\n",
    "                        COALESCE((salary_from + salary_to)/2.0, salary_from, salary_to, 0)\n",
    "                        ),0) AS avg_salary\n",
    "                FROM public.vacancies AS v\n",
    "                LEFT JOIN public.areas AS a\n",
    "                    ON v.area_id = a.id\n",
    "                WHERE (\n",
    "                    (v.name ILIKE '%%data scientist%%'\n",
    "                    OR v.name ILIKE '%%data science%%'\n",
    "                    OR v.name ILIKE '%%исследователь данных%%'\n",
    "                    OR v.name ILIKE '%%машинн%%обучен%%'\n",
    "                    OR v.name ILIKE '%%machine learning%%')\n",
    "                    OR (v.name LIKE '%%ML%%' \n",
    "                    AND v.name NOT LIKE '%%HTML%%') \n",
    "                    ) \n",
    "                    AND COALESCE((salary_from + salary_to)/2.0, salary_from, salary_to, 0) != 0\n",
    "                GROUP BY experience, a.name\n",
    "            '''\n",
    "x = pd.read_sql_query(query_7_6, connection)\n",
    "\n",
    "# Объединим результат запроса с предыдущей таблицей, чтобы оставить данные только для городов России. \n",
    "df = city_tab.merge(x, on = 'city', how='left')\n",
    "\n",
    "# Построим столбчатую диаграмму.\n",
    "fig = px.bar(\n",
    "             df,\n",
    "             x='city',\n",
    "             y='avg_salary',\n",
    "             height=500,\n",
    "             width=1000,\n",
    "             color='experience',\n",
    "             barmode='group',\n",
    "             labels={'city':'Город', 'experience':'Опыт', 'avg_salary':'Средняя зарплата в руб.'}\n",
    "             )\n",
    "\n",
    "# Повышаем информативность\n",
    "fig.update_layout(title=dict(\n",
    "                             text='Предлагаемый уровень зарплаты для вакансий Data Scientist в городах России',\n",
    "                             x=0.5,\n",
    "                             font=dict(size=24)\n",
    "                             ),\n",
    "                  margin=dict(t=90),\n",
    "                  legend=dict(title_text='Опыт:'),\n",
    "                  yaxis1=dict(gridwidth=1, gridcolor='gray')                  \n",
    "                  )\n",
    "fig.show()\n"
   ]
  },
  {
   "attachments": {},
   "cell_type": "markdown",
   "metadata": {},
   "source": [
    " ***\n",
    " Неожиданным лидером по среднему уровню предлагаемой зарплаты на вакансии Data Scientist для всех категорий опыта оказался Санкт-Петербург. Если рассматривать категорию \"Нет опыта\" то после Санкт-Петербурга идет Новосибирск (80 тысяч рублей), Москва (72,5 тысячи рублей), Владивосток (70 тысяч рублей) и Екатеринбург (37 тысяч рублей). Можно предположить, что наиболее перспективными городами с точки зрения начала карьеры Data Scientis являются Санкт-Петербург,  Новосибирск, Москва и Владивосток. С получением опыта появляется больше вакансий с возможностью удаленной работы и город проживания уже не играет большой роли. Странно низкая зарплата в Екатеринбурге, при достаточно высокой в других категориях, может говорить о выбросах в данных. Для продолжения работы можно предложить проверить данные на выбросы и провести очистку при необходимости. "
   ]
  },
  {
   "attachments": {},
   "cell_type": "markdown",
   "metadata": {},
   "source": [
    "# Общий вывод по проекту\n",
    "***\n",
    "\n",
    "Подведем итоги: \n",
    "* в нашем распоряжении на первый взгляд достаточно большая подборка данных на 49197 вакансий. Однако согласно википедии среднее дневное количество вакансий на  HeadHunter (hh.ru) превышает 933 тыс. Общее количество вакансий на позицию  Data Scientist  не вилико - всего 480 вакансий, что также приводит к мысли о малом размере подборки данных. Кроме того в данных присутствуют и вакансии не имеющие отношения к IT сфере. Встречаются вакансии регионом которых указана страна и не все из них предлагают удаленную работу. Также мы увидели ннизкую среднюю зарплату в Екатеринбурге для вакансий Data Scientist без опыта работы, при достаточно высокой зарплате для других категорий опыта. Все это говорит о наличии выбросов, для продолжения работы можно предложить провести очистку данных. Так же можно рекомендовать рассмотреть категоризацию ключевых параметров. Например, сгруппировать знание специализированных библиотек со знанием языка. Ведь соискатель может указать только знание Python подразумевая знание библиотек. Думаю, что для рекомендательной системы такое допущение приемлемо;       \n",
    "                                 \n",
    "* по результатам анализа предложенных в подборке вакансий Data Scientist можно сказать, что для начала карьеры стоит рассмотреть переезд в Санкт-Петербург, Новосибирск или Москву. Возможно стоит рассмотреть Нижний Новгород или Казань, но данные по зарплате в этих городах отсутствуют. В остальных городах очень мало вакансий для соискателей без опыта или низкий уровень зарплаты. Стоит отметить, что с ростом опыта растет и количество предлагаемых вакансий с типом рабочего графика \"Удаленная работа\" и город проживания уже не играет решающей роли."
   ]
  }
 ],
 "metadata": {
  "kernelspec": {
   "display_name": "Python 3",
   "language": "python",
   "name": "python3"
  },
  "language_info": {
   "codemirror_mode": {
    "name": "ipython",
    "version": 3
   },
   "file_extension": ".py",
   "mimetype": "text/x-python",
   "name": "python",
   "nbconvert_exporter": "python",
   "pygments_lexer": "ipython3",
   "version": "3.10.7"
  },
  "orig_nbformat": 4,
  "vscode": {
   "interpreter": {
    "hash": "916dbcbb3f70747c44a77c7bcd40155683ae19c65e1c03b4aa3499c5328201f1"
   }
  }
 },
 "nbformat": 4,
 "nbformat_minor": 2
}
